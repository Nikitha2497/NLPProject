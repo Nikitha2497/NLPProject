{
 "cells": [
  {
   "cell_type": "code",
   "execution_count": 26,
   "metadata": {},
   "outputs": [
    {
     "name": "stdout",
     "output_type": "stream",
     "text": [
      "Daemon stopped\n",
      "Daemon started\n",
      "---checking code_1---\n",
      "Success: no issues found in 1 source file\n",
      "---checking code_2---\n",
      "code.py:5: error: Incompatible return value type (got \"int\", expected \"str\")\n",
      "code.py:7: error: Incompatible return value type (got \"int\", expected \"str\")\n",
      "Found 2 errors in 1 file (checked 2 source files)\n",
      "---checking code_3---\n",
      "code.py:5: error: Incompatible return value type (got \"int\", expected \"str\")\n",
      "code.py:7: error: Incompatible return value type (got \"int\", expected \"str\")\n",
      "Found 2 errors in 1 file (checked 2 source files)\n",
      "test finished.\n",
      "---wait and check code_3 again---\n",
      "Success: no issues found in 2 source files\n",
      "test finished.\n"
     ]
    }
   ],
   "source": [
    "from pathlib import Path\n",
    "import subprocess\n",
    "import time\n",
    "\n",
    "# no type error\n",
    "code_1 = '''\n",
    "from typing import Any\n",
    "def fib(n: int) -> int:\n",
    "    if n == 0:\n",
    "        return 0\n",
    "    elif n == 1:\n",
    "        return 1\n",
    "    else:\n",
    "        return fib(n-1) + fib(n-2)\n",
    "'''\n",
    "\n",
    "# incorrect return type\n",
    "code_2 = '''\n",
    "from typing import Any\n",
    "def fib(n: int) -> str:\n",
    "    if n == 0:\n",
    "        return 0\n",
    "    elif n == 1:\n",
    "        return 1\n",
    "    else:\n",
    "        return fib(n-1) + fib(n-2)\n",
    "'''\n",
    "\n",
    "# changed return type to Any, should not error\n",
    "code_3 = '''\n",
    "from typing import Any\n",
    "def fib(n: int) -> Any:\n",
    "    if n == 0:\n",
    "        return 0\n",
    "    elif n == 1:\n",
    "        return 1\n",
    "    else:\n",
    "        return fib(n-1) + fib(n-2)\n",
    "'''\n",
    "\n",
    "# this should be the dmypy path in the current virtual env\n",
    "dmypy_path = '/home/jiayi/Projects/SPOT/.venv/bin/dmypy'\n",
    "\n",
    "check_dir = Path(\"temp/type_check\")\n",
    "check_dir.mkdir(exist_ok=True, parents=True)\n",
    "with open(check_dir / \"code.py\", \"w\") as f:\n",
    "    f.write(code_1)\n",
    "subprocess.run(['python', dmypy_path, 'restart', '--', '--follow-imports=skip'],cwd=check_dir)\n",
    "\n",
    "print('---checking code_1---')\n",
    "subprocess.run(['python', dmypy_path, 'check', '.'],cwd=check_dir)\n",
    "\n",
    "with open(check_dir / \"code.py\", \"w\") as f:\n",
    "    f.write(code_2)\n",
    "print('---checking code_2---')\n",
    "subprocess.run(['python', dmypy_path, 'recheck', \"--update\", \"code.py\"],cwd=check_dir)\n",
    "\n",
    "with open(check_dir / \"code.py\", \"w\") as f:\n",
    "    f.write(code_3)\n",
    "print('---checking code_3---')\n",
    "subprocess.run(['python', dmypy_path, 'recheck', \"--update\", \"code.py\"],cwd=check_dir)\n",
    "print(\"test finished.\")\n",
    "\n",
    "print('---wait and check code_3 again---')\n",
    "time.sleep(1.0)  # will not work if waiting time is shorter\n",
    "with open(check_dir / \"code.py\", \"w\") as f:  # need this rewriting\n",
    "    f.write(code_3)\n",
    "subprocess.run(['python', dmypy_path, 'recheck', \"--update\", \"code.py\"],cwd=check_dir)\n",
    "print(\"test finished.\")"
   ]
  }
 ],
 "metadata": {
  "interpreter": {
   "hash": "f6ffc72953da4dd16b2e00785be9c4013ef131f465a8658f3921b6634d4eeec8"
  },
  "kernelspec": {
   "display_name": "Python 3.10.4 ('.venv': pipenv)",
   "language": "python",
   "name": "python3"
  },
  "language_info": {
   "codemirror_mode": {
    "name": "ipython",
    "version": 3
   },
   "file_extension": ".py",
   "mimetype": "text/x-python",
   "name": "python",
   "nbconvert_exporter": "python",
   "pygments_lexer": "ipython3",
   "version": "3.10.4"
  },
  "orig_nbformat": 4
 },
 "nbformat": 4,
 "nbformat_minor": 2
}
