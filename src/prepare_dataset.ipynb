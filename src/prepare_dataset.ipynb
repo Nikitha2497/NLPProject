{
 "cells": [
  {
   "cell_type": "code",
   "execution_count": 1,
   "metadata": {},
   "outputs": [],
   "source": [
    "%load_ext autoreload\n",
    "%autoreload 2\n",
    "\n",
    "import json\n",
    "import logging\n",
    "import os\n",
    "import shutil\n",
    "import subprocess\n",
    "import time\n",
    "from concurrent.futures import ProcessPoolExecutor, ThreadPoolExecutor, as_completed\n",
    "from pathlib import Path\n",
    "\n",
    "import libcst as cst\n",
    "from tqdm import tqdm\n",
    "\n",
    "from typet5.data import GitRepo\n",
    "from typet5.type_env import collect_annots_info, mypy_checker\n",
    "from typet5.utils import proj_root, read_file, write_file\n",
    "\n",
    "os.chdir(proj_root())"
   ]
  },
  {
   "cell_type": "code",
   "execution_count": 3,
   "metadata": {},
   "outputs": [
    {
     "name": "stdout",
     "output_type": "stream",
     "text": [
      "/Users/iamariyap/Desktop/sem4/NLP/Final/TypeT5/datasets/ManyTypes4Py/repos/downloaded/tiangolo__uvicorn-gunicorn-docker not found. Skip.\n",
      "/Users/iamariyap/Desktop/sem4/NLP/Final/TypeT5/datasets/ManyTypes4Py/repos/downloaded/Shoobx__mypy-zope not found. Skip.\n",
      "/Users/iamariyap/Desktop/sem4/NLP/Final/TypeT5/datasets/ManyTypes4Py/repos/downloaded/vinissimus__async-asgi-testclient not found. Skip.\n",
      "/Users/iamariyap/Desktop/sem4/NLP/Final/TypeT5/datasets/ManyTypes4Py/repos/downloaded/uwbmrb__BMRBDep not found. Skip.\n",
      "/Users/iamariyap/Desktop/sem4/NLP/Final/TypeT5/datasets/ManyTypes4Py/repos/downloaded/noyainrain__micro not found. Skip.\n",
      "/Users/iamariyap/Desktop/sem4/NLP/Final/TypeT5/datasets/ManyTypes4Py/repos/downloaded/scop__hashpipe not found. Skip.\n",
      "/Users/iamariyap/Desktop/sem4/NLP/Final/TypeT5/datasets/ManyTypes4Py/repos/downloaded/nikitanovosibirsk__jj not found. Skip.\n",
      "/Users/iamariyap/Desktop/sem4/NLP/Final/TypeT5/datasets/ManyTypes4Py/repos/downloaded/zabuldon__teslajsonpy not found. Skip.\n",
      "/Users/iamariyap/Desktop/sem4/NLP/Final/TypeT5/datasets/ManyTypes4Py/repos/downloaded/jfcherng__Sublime-VisualizeZeroWidthChars not found. Skip.\n",
      "/Users/iamariyap/Desktop/sem4/NLP/Final/TypeT5/datasets/ManyTypes4Py/repos/downloaded/lyft__pynamodb-attributes not found. Skip.\n",
      "/Users/iamariyap/Desktop/sem4/NLP/Final/TypeT5/datasets/ManyTypes4Py/repos/downloaded/adamtheturtle__cloud-drive-tools not found. Skip.\n",
      "/Users/iamariyap/Desktop/sem4/NLP/Final/TypeT5/datasets/ManyTypes4Py/repos/downloaded/UAVCAN__pydsdl not found. Skip.\n",
      "/Users/iamariyap/Desktop/sem4/NLP/Final/TypeT5/datasets/ManyTypes4Py/repos/downloaded/chaosdorf__mpd-mqtt-gateway not found. Skip.\n",
      "/Users/iamariyap/Desktop/sem4/NLP/Final/TypeT5/datasets/ManyTypes4Py/repos/downloaded/ririw__cyclegan not found. Skip.\n",
      "/Users/iamariyap/Desktop/sem4/NLP/Final/TypeT5/datasets/ManyTypes4Py/repos/downloaded/jtmoon79__coverlovin2 not found. Skip.\n",
      "/Users/iamariyap/Desktop/sem4/NLP/Final/TypeT5/datasets/ManyTypes4Py/repos/downloaded/scivision__soothing-sounds not found. Skip.\n",
      "/Users/iamariyap/Desktop/sem4/NLP/Final/TypeT5/datasets/ManyTypes4Py/repos/downloaded/octoenergy__tentaclio not found. Skip.\n",
      "/Users/iamariyap/Desktop/sem4/NLP/Final/TypeT5/datasets/ManyTypes4Py/repos/downloaded/Celeo__Preston not found. Skip.\n",
      "/Users/iamariyap/Desktop/sem4/NLP/Final/TypeT5/datasets/ManyTypes4Py/repos/downloaded/ixaxaar__refl not found. Skip.\n",
      "/Users/iamariyap/Desktop/sem4/NLP/Final/TypeT5/datasets/ManyTypes4Py/repos/downloaded/boompig__chessEngine not found. Skip.\n",
      "/Users/iamariyap/Desktop/sem4/NLP/Final/TypeT5/datasets/ManyTypes4Py/repos/downloaded/andrewscwei__rbc-statement-parser not found. Skip.\n",
      "/Users/iamariyap/Desktop/sem4/NLP/Final/TypeT5/datasets/ManyTypes4Py/repos/downloaded/devonhollowood__adventofcode not found. Skip.\n",
      "/Users/iamariyap/Desktop/sem4/NLP/Final/TypeT5/datasets/ManyTypes4Py/repos/downloaded/UIUCLibrary__imagevalidate not found. Skip.\n",
      "/Users/iamariyap/Desktop/sem4/NLP/Final/TypeT5/datasets/ManyTypes4Py/repos/downloaded/russss__ukparliament not found. Skip.\n",
      "/Users/iamariyap/Desktop/sem4/NLP/Final/TypeT5/datasets/ManyTypes4Py/repos/downloaded/encode__starlette not found. Skip.\n",
      "/Users/iamariyap/Desktop/sem4/NLP/Final/TypeT5/datasets/ManyTypes4Py/repos/downloaded/reddit__baseplate.py not found. Skip.\n",
      "/Users/iamariyap/Desktop/sem4/NLP/Final/TypeT5/datasets/ManyTypes4Py/repos/downloaded/grammofy__whattime not found. Skip.\n",
      "/Users/iamariyap/Desktop/sem4/NLP/Final/TypeT5/datasets/ManyTypes4Py/repos/downloaded/aegilops__find_motion not found. Skip.\n",
      "/Users/iamariyap/Desktop/sem4/NLP/Final/TypeT5/datasets/ManyTypes4Py/repos/downloaded/tedle__uitabot not found. Skip.\n",
      "/Users/iamariyap/Desktop/sem4/NLP/Final/TypeT5/datasets/ManyTypes4Py/repos/downloaded/sedders123__phial not found. Skip.\n",
      "/Users/iamariyap/Desktop/sem4/NLP/Final/TypeT5/datasets/ManyTypes4Py/repos/downloaded/best-doctor__flake8-variables-names not found. Skip.\n",
      "/Users/iamariyap/Desktop/sem4/NLP/Final/TypeT5/datasets/ManyTypes4Py/repos/downloaded/vint21h__django-djcopyright not found. Skip.\n",
      "/Users/iamariyap/Desktop/sem4/NLP/Final/TypeT5/datasets/ManyTypes4Py/repos/downloaded/JohnStrunk__ocs-monkey not found. Skip.\n",
      "/Users/iamariyap/Desktop/sem4/NLP/Final/TypeT5/datasets/ManyTypes4Py/repos/downloaded/jmanuel1__material-search not found. Skip.\n",
      "/Users/iamariyap/Desktop/sem4/NLP/Final/TypeT5/datasets/ManyTypes4Py/repos/downloaded/byceps__byceps not found. Skip.\n",
      "/Users/iamariyap/Desktop/sem4/NLP/Final/TypeT5/datasets/ManyTypes4Py/repos/downloaded/ErikBjare__QSlang not found. Skip.\n",
      "/Users/iamariyap/Desktop/sem4/NLP/Final/TypeT5/datasets/ManyTypes4Py/repos/downloaded/alphagov__digitalmarketplace-runner not found. Skip.\n",
      "/Users/iamariyap/Desktop/sem4/NLP/Final/TypeT5/datasets/ManyTypes4Py/repos/downloaded/bitpanda-labs__loggo not found. Skip.\n",
      "/Users/iamariyap/Desktop/sem4/NLP/Final/TypeT5/datasets/ManyTypes4Py/repos/downloaded/tiangolo__uwsgi-nginx-docker not found. Skip.\n",
      "/Users/iamariyap/Desktop/sem4/NLP/Final/TypeT5/datasets/ManyTypes4Py/repos/downloaded/AirHelp__flask-rage not found. Skip.\n",
      "/Users/iamariyap/Desktop/sem4/NLP/Final/TypeT5/datasets/ManyTypes4Py/repos/downloaded/miketheman__unsilencer not found. Skip.\n",
      "/Users/iamariyap/Desktop/sem4/NLP/Final/TypeT5/datasets/ManyTypes4Py/repos/downloaded/ymyzk__mypy-playground not found. Skip.\n",
      "/Users/iamariyap/Desktop/sem4/NLP/Final/TypeT5/datasets/ManyTypes4Py/repos/downloaded/kurusugawa-computer__annofab-api-python-client not found. Skip.\n",
      "/Users/iamariyap/Desktop/sem4/NLP/Final/TypeT5/datasets/ManyTypes4Py/repos/downloaded/aio-libs__frozenlist not found. Skip.\n",
      "/Users/iamariyap/Desktop/sem4/NLP/Final/TypeT5/datasets/ManyTypes4Py/repos/downloaded/knowsuchagency__knowsuchagency.github.io not found. Skip.\n",
      "/Users/iamariyap/Desktop/sem4/NLP/Final/TypeT5/datasets/ManyTypes4Py/repos/downloaded/samuelhwilliams__monzo-to-ynab not found. Skip.\n",
      "/Users/iamariyap/Desktop/sem4/NLP/Final/TypeT5/datasets/ManyTypes4Py/repos/downloaded/pmatias__python-acquia-cloud-2 not found. Skip.\n",
      "/Users/iamariyap/Desktop/sem4/NLP/Final/TypeT5/datasets/ManyTypes4Py/repos/downloaded/nextcloud__appstore not found. Skip.\n",
      "/Users/iamariyap/Desktop/sem4/NLP/Final/TypeT5/datasets/ManyTypes4Py/repos/downloaded/silasary__professor_oak not found. Skip.\n",
      "/Users/iamariyap/Desktop/sem4/NLP/Final/TypeT5/datasets/ManyTypes4Py/repos/downloaded/micahcochran__scrape-schema-recipe not found. Skip.\n",
      "/Users/iamariyap/Desktop/sem4/NLP/Final/TypeT5/datasets/ManyTypes4Py/repos/downloaded/sigmavirus24__rush not found. Skip.\n",
      "/Users/iamariyap/Desktop/sem4/NLP/Final/TypeT5/datasets/ManyTypes4Py/repos/downloaded/IIC1103__coladium not found. Skip.\n",
      "/Users/iamariyap/Desktop/sem4/NLP/Final/TypeT5/datasets/ManyTypes4Py/repos/downloaded/mitchwagner__mixpy not found. Skip.\n",
      "/Users/iamariyap/Desktop/sem4/NLP/Final/TypeT5/datasets/ManyTypes4Py/repos/downloaded/nucypher__pyUmbral not found. Skip.\n",
      "/Users/iamariyap/Desktop/sem4/NLP/Final/TypeT5/datasets/ManyTypes4Py/repos/downloaded/whonore__proofaday not found. Skip.\n",
      "/Users/iamariyap/Desktop/sem4/NLP/Final/TypeT5/datasets/ManyTypes4Py/repos/downloaded/ecies__py not found. Skip.\n",
      "/Users/iamariyap/Desktop/sem4/NLP/Final/TypeT5/datasets/ManyTypes4Py/repos/downloaded/al-serebrov__python-auto-ria not found. Skip.\n",
      "/Users/iamariyap/Desktop/sem4/NLP/Final/TypeT5/datasets/ManyTypes4Py/repos/downloaded/bitranox__lib_regexp not found. Skip.\n",
      "/Users/iamariyap/Desktop/sem4/NLP/Final/TypeT5/datasets/ManyTypes4Py/repos/downloaded/homeworkprod__byceps not found. Skip.\n",
      "/Users/iamariyap/Desktop/sem4/NLP/Final/TypeT5/datasets/ManyTypes4Py/repos/downloaded/woefe__ytcc not found. Skip.\n",
      "/Users/iamariyap/Desktop/sem4/NLP/Final/TypeT5/datasets/ManyTypes4Py/repos/downloaded/zulip__zulip-terminal not found. Skip.\n",
      "/Users/iamariyap/Desktop/sem4/NLP/Final/TypeT5/datasets/ManyTypes4Py/repos/downloaded/jfcherng__Sublime-OpenUri not found. Skip.\n",
      "/Users/iamariyap/Desktop/sem4/NLP/Final/TypeT5/datasets/ManyTypes4Py/repos/downloaded/srstevenson__nb-clean not found. Skip.\n",
      "/Users/iamariyap/Desktop/sem4/NLP/Final/TypeT5/datasets/ManyTypes4Py/repos/downloaded/Python-Tools__pmfp not found. Skip.\n",
      "/Users/iamariyap/Desktop/sem4/NLP/Final/TypeT5/datasets/ManyTypes4Py/repos/downloaded/arXiv__arxiv-marxdown not found. Skip.\n",
      "/Users/iamariyap/Desktop/sem4/NLP/Final/TypeT5/datasets/ManyTypes4Py/repos/downloaded/s-knibbs__dataclasses-jsonschema not found. Skip.\n",
      "/Users/iamariyap/Desktop/sem4/NLP/Final/TypeT5/datasets/ManyTypes4Py/repos/downloaded/iscoe__pytri not found. Skip.\n",
      "/Users/iamariyap/Desktop/sem4/NLP/Final/TypeT5/datasets/ManyTypes4Py/repos/downloaded/UAVCAN__nunavut not found. Skip.\n",
      "/Users/iamariyap/Desktop/sem4/NLP/Final/TypeT5/datasets/ManyTypes4Py/repos/downloaded/raiden-network__explorer not found. Skip.\n",
      "/Users/iamariyap/Desktop/sem4/NLP/Final/TypeT5/datasets/ManyTypes4Py/repos/downloaded/JockeTF__fimfarchive not found. Skip.\n",
      "/Users/iamariyap/Desktop/sem4/NLP/Final/TypeT5/datasets/ManyTypes4Py/repos/downloaded/mbforbes__nlp-corpora-backend not found. Skip.\n",
      "/Users/iamariyap/Desktop/sem4/NLP/Final/TypeT5/datasets/ManyTypes4Py/repos/downloaded/unkloud__hbdl not found. Skip.\n",
      "/Users/iamariyap/Desktop/sem4/NLP/Final/TypeT5/datasets/ManyTypes4Py/repos/downloaded/fyndata__gcp-utils-python not found. Skip.\n",
      "/Users/iamariyap/Desktop/sem4/NLP/Final/TypeT5/datasets/ManyTypes4Py/repos/downloaded/Yelp__signalform-tools not found. Skip.\n",
      "/Users/iamariyap/Desktop/sem4/NLP/Final/TypeT5/datasets/ManyTypes4Py/repos/downloaded/lcy0321__TwitterDiscordBot not found. Skip.\n",
      "/Users/iamariyap/Desktop/sem4/NLP/Final/TypeT5/datasets/ManyTypes4Py/repos/downloaded/skorokithakis__catt not found. Skip.\n",
      "/Users/iamariyap/Desktop/sem4/NLP/Final/TypeT5/datasets/ManyTypes4Py/repos/downloaded/AntonDeMeester__udacity-numerai not found. Skip.\n",
      "/Users/iamariyap/Desktop/sem4/NLP/Final/TypeT5/datasets/ManyTypes4Py/repos/downloaded/snorkel-team__snorkel not found. Skip.\n",
      "/Users/iamariyap/Desktop/sem4/NLP/Final/TypeT5/datasets/ManyTypes4Py/repos/downloaded/gecrooks__quantumflow-dev not found. Skip.\n",
      "/Users/iamariyap/Desktop/sem4/NLP/Final/TypeT5/datasets/ManyTypes4Py/repos/downloaded/srittau__eventstreamd not found. Skip.\n",
      "/Users/iamariyap/Desktop/sem4/NLP/Final/TypeT5/datasets/ManyTypes4Py/repos/downloaded/bitranox__lib_parameter not found. Skip.\n",
      "/Users/iamariyap/Desktop/sem4/NLP/Final/TypeT5/datasets/ManyTypes4Py/repos/downloaded/Eerovil__TrackLater not found. Skip.\n",
      "/Users/iamariyap/Desktop/sem4/NLP/Final/TypeT5/datasets/ManyTypes4Py/repos/downloaded/jreese__rst2pyi not found. Skip.\n",
      "/Users/iamariyap/Desktop/sem4/NLP/Final/TypeT5/datasets/ManyTypes4Py/repos/downloaded/pbs__its not found. Skip.\n",
      "/Users/iamariyap/Desktop/sem4/NLP/Final/TypeT5/datasets/ManyTypes4Py/repos/downloaded/vint21h__django-xicon not found. Skip.\n",
      "/Users/iamariyap/Desktop/sem4/NLP/Final/TypeT5/datasets/ManyTypes4Py/repos/downloaded/oddworldng__cmsysbot-telegram not found. Skip.\n",
      "/Users/iamariyap/Desktop/sem4/NLP/Final/TypeT5/datasets/ManyTypes4Py/repos/downloaded/mbarkhau__lib3to6 not found. Skip.\n",
      "/Users/iamariyap/Desktop/sem4/NLP/Final/TypeT5/datasets/ManyTypes4Py/repos/downloaded/bethgelab__foolbox not found. Skip.\n",
      "/Users/iamariyap/Desktop/sem4/NLP/Final/TypeT5/datasets/ManyTypes4Py/repos/downloaded/jakubvalenta__automatic-diary not found. Skip.\n",
      "/Users/iamariyap/Desktop/sem4/NLP/Final/TypeT5/datasets/ManyTypes4Py/repos/downloaded/bradleygolden__configureme not found. Skip.\n",
      "/Users/iamariyap/Desktop/sem4/NLP/Final/TypeT5/datasets/ManyTypes4Py/repos/downloaded/ipwnponies__pynes not found. Skip.\n",
      "/Users/iamariyap/Desktop/sem4/NLP/Final/TypeT5/datasets/ManyTypes4Py/repos/downloaded/huan__node-facenet not found. Skip.\n",
      "/Users/iamariyap/Desktop/sem4/NLP/Final/TypeT5/datasets/ManyTypes4Py/repos/downloaded/bachya__pyairvisual not found. Skip.\n",
      "/Users/iamariyap/Desktop/sem4/NLP/Final/TypeT5/datasets/ManyTypes4Py/repos/downloaded/NeonGraal__script-venv not found. Skip.\n",
      "/Users/iamariyap/Desktop/sem4/NLP/Final/TypeT5/datasets/ManyTypes4Py/repos/downloaded/quinoa42__dotfiles not found. Skip.\n",
      "/Users/iamariyap/Desktop/sem4/NLP/Final/TypeT5/datasets/ManyTypes4Py/repos/downloaded/matthewgrossman__southwest not found. Skip.\n",
      "/Users/iamariyap/Desktop/sem4/NLP/Final/TypeT5/datasets/ManyTypes4Py/repos/downloaded/lancelote__advent_of_code not found. Skip.\n",
      "/Users/iamariyap/Desktop/sem4/NLP/Final/TypeT5/datasets/ManyTypes4Py/repos/downloaded/Shougo__defx.nvim not found. Skip.\n",
      "/Users/iamariyap/Desktop/sem4/NLP/Final/TypeT5/datasets/ManyTypes4Py/repos/downloaded/J08nY__pyecsca not found. Skip.\n",
      "/Users/iamariyap/Desktop/sem4/NLP/Final/TypeT5/datasets/ManyTypes4Py/repos/downloaded/authark__authark not found. Skip.\n",
      "/Users/iamariyap/Desktop/sem4/NLP/Final/TypeT5/datasets/ManyTypes4Py/repos/downloaded/yoppinews__yoppinews-calendar-bot not found. Skip.\n",
      "/Users/iamariyap/Desktop/sem4/NLP/Final/TypeT5/datasets/ManyTypes4Py/repos/downloaded/IOEPAS__zippy not found. Skip.\n",
      "/Users/iamariyap/Desktop/sem4/NLP/Final/TypeT5/datasets/ManyTypes4Py/repos/downloaded/PederHA__vjemmie not found. Skip.\n",
      "/Users/iamariyap/Desktop/sem4/NLP/Final/TypeT5/datasets/ManyTypes4Py/repos/downloaded/apiology__local_keychain_utils not found. Skip.\n",
      "/Users/iamariyap/Desktop/sem4/NLP/Final/TypeT5/datasets/ManyTypes4Py/repos/downloaded/m-j__zippero-client not found. Skip.\n",
      "/Users/iamariyap/Desktop/sem4/NLP/Final/TypeT5/datasets/ManyTypes4Py/repos/downloaded/dtgoitia__telegram-bot-test not found. Skip.\n",
      "/Users/iamariyap/Desktop/sem4/NLP/Final/TypeT5/datasets/ManyTypes4Py/repos/downloaded/kigawas__eciespy-demo not found. Skip.\n",
      "/Users/iamariyap/Desktop/sem4/NLP/Final/TypeT5/datasets/ManyTypes4Py/repos/downloaded/samuelmurray__gaussian-process not found. Skip.\n",
      "/Users/iamariyap/Desktop/sem4/NLP/Final/TypeT5/datasets/ManyTypes4Py/repos/downloaded/seungjaeryanlee__rlee not found. Skip.\n",
      "/Users/iamariyap/Desktop/sem4/NLP/Final/TypeT5/datasets/ManyTypes4Py/repos/downloaded/thenno__ZPGEngine not found. Skip.\n",
      "/Users/iamariyap/Desktop/sem4/NLP/Final/TypeT5/datasets/ManyTypes4Py/repos/downloaded/bitranox__lib_log_utils not found. Skip.\n",
      "/Users/iamariyap/Desktop/sem4/NLP/Final/TypeT5/datasets/ManyTypes4Py/repos/downloaded/samuela__grpc-polyglot not found. Skip.\n",
      "/Users/iamariyap/Desktop/sem4/NLP/Final/TypeT5/datasets/ManyTypes4Py/repos/downloaded/orn688__oj not found. Skip.\n",
      "/Users/iamariyap/Desktop/sem4/NLP/Final/TypeT5/datasets/ManyTypes4Py/repos/downloaded/xybotsu__pybot not found. Skip.\n",
      "/Users/iamariyap/Desktop/sem4/NLP/Final/TypeT5/datasets/ManyTypes4Py/repos/downloaded/davidhamann__python-fmrest not found. Skip.\n",
      "/Users/iamariyap/Desktop/sem4/NLP/Final/TypeT5/datasets/ManyTypes4Py/repos/downloaded/vaneseltine__nominally not found. Skip.\n",
      "/Users/iamariyap/Desktop/sem4/NLP/Final/TypeT5/datasets/ManyTypes4Py/repos/downloaded/nabla-c0d3__nassl not found. Skip.\n",
      "/Users/iamariyap/Desktop/sem4/NLP/Final/TypeT5/datasets/ManyTypes4Py/repos/downloaded/comfortablynick__pyimg not found. Skip.\n",
      "/Users/iamariyap/Desktop/sem4/NLP/Final/TypeT5/datasets/ManyTypes4Py/repos/downloaded/dvalp__nlp_experiments not found. Skip.\n",
      "/Users/iamariyap/Desktop/sem4/NLP/Final/TypeT5/datasets/ManyTypes4Py/repos/downloaded/aio-libs__aiozipkin not found. Skip.\n",
      "/Users/iamariyap/Desktop/sem4/NLP/Final/TypeT5/datasets/ManyTypes4Py/repos/downloaded/datatheorem__flake8-alfred not found. Skip.\n",
      "/Users/iamariyap/Desktop/sem4/NLP/Final/TypeT5/datasets/ManyTypes4Py/repos/downloaded/russss__polybot not found. Skip.\n",
      "/Users/iamariyap/Desktop/sem4/NLP/Final/TypeT5/datasets/ManyTypes4Py/repos/downloaded/hCaptcha__hmt-escrow not found. Skip.\n",
      "/Users/iamariyap/Desktop/sem4/NLP/Final/TypeT5/datasets/ManyTypes4Py/repos/downloaded/mbarkhau__markdown-aafigure not found. Skip.\n",
      "/Users/iamariyap/Desktop/sem4/NLP/Final/TypeT5/datasets/ManyTypes4Py/repos/downloaded/jfcherng__my-Sublime-Text-settings not found. Skip.\n",
      "/Users/iamariyap/Desktop/sem4/NLP/Final/TypeT5/datasets/ManyTypes4Py/repos/downloaded/postlund__pyatv not found. Skip.\n",
      "/Users/iamariyap/Desktop/sem4/NLP/Final/TypeT5/datasets/ManyTypes4Py/repos/downloaded/Yelp__docker-push-latest-if-changed not found. Skip.\n",
      "/Users/iamariyap/Desktop/sem4/NLP/Final/TypeT5/datasets/ManyTypes4Py/repos/downloaded/sandal-tan__py-envclasses not found. Skip.\n",
      "/Users/iamariyap/Desktop/sem4/NLP/Final/TypeT5/datasets/ManyTypes4Py/repos/downloaded/shogo82148__acme-cert-updater not found. Skip.\n",
      "/Users/iamariyap/Desktop/sem4/NLP/Final/TypeT5/datasets/ManyTypes4Py/repos/downloaded/ska-sa__aiokatcp not found. Skip.\n",
      "/Users/iamariyap/Desktop/sem4/NLP/Final/TypeT5/datasets/ManyTypes4Py/repos/downloaded/lancelote__stepik_algorithms_1 not found. Skip.\n",
      "/Users/iamariyap/Desktop/sem4/NLP/Final/TypeT5/datasets/ManyTypes4Py/repos/downloaded/bachya__pyiqvia not found. Skip.\n",
      "/Users/iamariyap/Desktop/sem4/NLP/Final/TypeT5/datasets/ManyTypes4Py/repos/downloaded/hukkinj1__cosmospy not found. Skip.\n",
      "/Users/iamariyap/Desktop/sem4/NLP/Final/TypeT5/datasets/ManyTypes4Py/repos/downloaded/serebrov__flask-vue-starter not found. Skip.\n",
      "/Users/iamariyap/Desktop/sem4/NLP/Final/TypeT5/datasets/ManyTypes4Py/repos/downloaded/clayman74__wallet not found. Skip.\n",
      "/Users/iamariyap/Desktop/sem4/NLP/Final/TypeT5/datasets/ManyTypes4Py/repos/downloaded/pawroman__links not found. Skip.\n",
      "/Users/iamariyap/Desktop/sem4/NLP/Final/TypeT5/datasets/ManyTypes4Py/repos/downloaded/ne-sachirou__martian_imperial_year_table not found. Skip.\n",
      "/Users/iamariyap/Desktop/sem4/NLP/Final/TypeT5/datasets/ManyTypes4Py/repos/downloaded/noirello__bonsai not found. Skip.\n",
      "/Users/iamariyap/Desktop/sem4/NLP/Final/TypeT5/datasets/ManyTypes4Py/repos/downloaded/aio-libs__aiosignal not found. Skip.\n",
      "/Users/iamariyap/Desktop/sem4/NLP/Final/TypeT5/datasets/ManyTypes4Py/repos/downloaded/recipeyak__recipeyak not found. Skip.\n",
      "/Users/iamariyap/Desktop/sem4/NLP/Final/TypeT5/datasets/ManyTypes4Py/repos/downloaded/bbugyi200__funky not found. Skip.\n",
      "/Users/iamariyap/Desktop/sem4/NLP/Final/TypeT5/datasets/ManyTypes4Py/repos/downloaded/flexiooss__flexio-flow not found. Skip.\n",
      "/Users/iamariyap/Desktop/sem4/NLP/Final/TypeT5/datasets/ManyTypes4Py/repos/downloaded/stlehmann__PyQt5-stubs not found. Skip.\n",
      "/Users/iamariyap/Desktop/sem4/NLP/Final/TypeT5/datasets/ManyTypes4Py/repos/downloaded/n8henrie__pycookiecheat not found. Skip.\n",
      "/Users/iamariyap/Desktop/sem4/NLP/Final/TypeT5/datasets/ManyTypes4Py/repos/downloaded/JelleZijlstra__taxonomy not found. Skip.\n",
      "/Users/iamariyap/Desktop/sem4/NLP/Final/TypeT5/datasets/ManyTypes4Py/repos/downloaded/dalemyers__xcrun not found. Skip.\n",
      "/Users/iamariyap/Desktop/sem4/NLP/Final/TypeT5/datasets/ManyTypes4Py/repos/downloaded/kitsuyui__cachepot not found. Skip.\n",
      "/Users/iamariyap/Desktop/sem4/NLP/Final/TypeT5/datasets/ManyTypes4Py/repos/downloaded/KE-works__pykechain not found. Skip.\n",
      "/Users/iamariyap/Desktop/sem4/NLP/Final/TypeT5/datasets/ManyTypes4Py/repos/downloaded/bachya__pyopenuv not found. Skip.\n",
      "/Users/iamariyap/Desktop/sem4/NLP/Final/TypeT5/datasets/ManyTypes4Py/repos/downloaded/naronA__deep-learning-igo-with-type not found. Skip.\n",
      "/Users/iamariyap/Desktop/sem4/NLP/Final/TypeT5/datasets/ManyTypes4Py/repos/downloaded/enter-at__lambda-handlers not found. Skip.\n",
      "/Users/iamariyap/Desktop/sem4/NLP/Final/TypeT5/datasets/ManyTypes4Py/repos/downloaded/nnadeau__pybotics not found. Skip.\n",
      "/Users/iamariyap/Desktop/sem4/NLP/Final/TypeT5/datasets/ManyTypes4Py/repos/downloaded/best-doctor__flake8-annotations-complexity not found. Skip.\n",
      "/Users/iamariyap/Desktop/sem4/NLP/Final/TypeT5/datasets/ManyTypes4Py/repos/downloaded/accent-starlette__starlette-admin not found. Skip.\n",
      "/Users/iamariyap/Desktop/sem4/NLP/Final/TypeT5/datasets/ManyTypes4Py/repos/downloaded/albertyw__syspath not found. Skip.\n",
      "/Users/iamariyap/Desktop/sem4/NLP/Final/TypeT5/datasets/ManyTypes4Py/repos/downloaded/arXiv__arxiv-base not found. Skip.\n",
      "/Users/iamariyap/Desktop/sem4/NLP/Final/TypeT5/datasets/ManyTypes4Py/repos/downloaded/Code-Poets__project-liberation not found. Skip.\n",
      "/Users/iamariyap/Desktop/sem4/NLP/Final/TypeT5/datasets/ManyTypes4Py/repos/downloaded/bitranox__lib_detect_encoding not found. Skip.\n",
      "/Users/iamariyap/Desktop/sem4/NLP/Final/TypeT5/datasets/ManyTypes4Py/repos/downloaded/ascoderu__opwen-cloudserver not found. Skip.\n",
      "/Users/iamariyap/Desktop/sem4/NLP/Final/TypeT5/datasets/ManyTypes4Py/repos/downloaded/n8henrie__fauxmo-plugins not found. Skip.\n",
      "/Users/iamariyap/Desktop/sem4/NLP/Final/TypeT5/datasets/ManyTypes4Py/repos/downloaded/scivision__PyLivestream not found. Skip.\n",
      "/Users/iamariyap/Desktop/sem4/NLP/Final/TypeT5/datasets/ManyTypes4Py/repos/downloaded/nmdp-bioinformatics__py-ard not found. Skip.\n",
      "/Users/iamariyap/Desktop/sem4/NLP/Final/TypeT5/datasets/ManyTypes4Py/repos/downloaded/ActivityWatch__activitywatch not found. Skip.\n",
      "/Users/iamariyap/Desktop/sem4/NLP/Final/TypeT5/datasets/ManyTypes4Py/repos/downloaded/albertyw__git-reviewers not found. Skip.\n",
      "/Users/iamariyap/Desktop/sem4/NLP/Final/TypeT5/datasets/ManyTypes4Py/repos/downloaded/jelford__dontforget not found. Skip.\n",
      "/Users/iamariyap/Desktop/sem4/NLP/Final/TypeT5/datasets/ManyTypes4Py/repos/downloaded/layday__instawow not found. Skip.\n",
      "/Users/iamariyap/Desktop/sem4/NLP/Final/TypeT5/datasets/ManyTypes4Py/repos/downloaded/microsoft__bistring not found. Skip.\n",
      "/Users/iamariyap/Desktop/sem4/NLP/Final/TypeT5/datasets/ManyTypes4Py/repos/downloaded/aplbrain__pytri not found. Skip.\n",
      "/Users/iamariyap/Desktop/sem4/NLP/Final/TypeT5/datasets/ManyTypes4Py/repos/downloaded/python-leap__code not found. Skip.\n",
      "/Users/iamariyap/Desktop/sem4/NLP/Final/TypeT5/datasets/ManyTypes4Py/repos/downloaded/ccortezia__clockrange not found. Skip.\n",
      "/Users/iamariyap/Desktop/sem4/NLP/Final/TypeT5/datasets/ManyTypes4Py/repos/downloaded/bitranox__lib_doctest_pycharm not found. Skip.\n",
      "/Users/iamariyap/Desktop/sem4/NLP/Final/TypeT5/datasets/ManyTypes4Py/repos/downloaded/Code-Poets__sheetstorm not found. Skip.\n",
      "/Users/iamariyap/Desktop/sem4/NLP/Final/TypeT5/datasets/ManyTypes4Py/repos/downloaded/pynamodb__PynamoDB not found. Skip.\n",
      "/Users/iamariyap/Desktop/sem4/NLP/Final/TypeT5/datasets/ManyTypes4Py/repos/downloaded/ubclaunchpad__rocket2 not found. Skip.\n",
      "/Users/iamariyap/Desktop/sem4/NLP/Final/TypeT5/datasets/ManyTypes4Py/repos/downloaded/zulu-alpha__zamf not found. Skip.\n",
      "/Users/iamariyap/Desktop/sem4/NLP/Final/TypeT5/datasets/ManyTypes4Py/repos/downloaded/niteoweb__pyramid_mixpanel not found. Skip.\n",
      "/Users/iamariyap/Desktop/sem4/NLP/Final/TypeT5/datasets/ManyTypes4Py/repos/downloaded/aio-libs__aiodocker not found. Skip.\n",
      "/Users/iamariyap/Desktop/sem4/NLP/Final/TypeT5/datasets/ManyTypes4Py/repos/downloaded/tiangolo__meinheld-gunicorn-flask-docker not found. Skip.\n",
      "/Users/iamariyap/Desktop/sem4/NLP/Final/TypeT5/datasets/ManyTypes4Py/repos/downloaded/egregors__vldc-bot not found. Skip.\n",
      "/Users/iamariyap/Desktop/sem4/NLP/Final/TypeT5/datasets/ManyTypes4Py/repos/downloaded/UIUCLibrary__Speedwagon not found. Skip.\n",
      "/Users/iamariyap/Desktop/sem4/NLP/Final/TypeT5/datasets/ManyTypes4Py/repos/downloaded/pando85__quotes-simple-web not found. Skip.\n",
      "/Users/iamariyap/Desktop/sem4/NLP/Final/TypeT5/datasets/ManyTypes4Py/repos/downloaded/stxnext__pymongo-migrate not found. Skip.\n",
      "/Users/iamariyap/Desktop/sem4/NLP/Final/TypeT5/datasets/ManyTypes4Py/repos/downloaded/apple__apple-llvm-infrastructure-tools not found. Skip.\n",
      "/Users/iamariyap/Desktop/sem4/NLP/Final/TypeT5/datasets/ManyTypes4Py/repos/downloaded/TankerHQ__tsrc not found. Skip.\n",
      "/Users/iamariyap/Desktop/sem4/NLP/Final/TypeT5/datasets/ManyTypes4Py/repos/downloaded/elarivie__pyReaderWriterLock not found. Skip.\n",
      "/Users/iamariyap/Desktop/sem4/NLP/Final/TypeT5/datasets/ManyTypes4Py/repos/downloaded/GuangTianLi__configalchemy not found. Skip.\n",
      "/Users/iamariyap/Desktop/sem4/NLP/Final/TypeT5/datasets/ManyTypes4Py/repos/downloaded/alunduil__zfs-replicate not found. Skip.\n",
      "/Users/iamariyap/Desktop/sem4/NLP/Final/TypeT5/datasets/ManyTypes4Py/repos/downloaded/NeonSpectrum__neonbot-python not found. Skip.\n",
      "/Users/iamariyap/Desktop/sem4/NLP/Final/TypeT5/datasets/ManyTypes4Py/repos/downloaded/jodal__pats not found. Skip.\n",
      "/Users/iamariyap/Desktop/sem4/NLP/Final/TypeT5/datasets/ManyTypes4Py/repos/downloaded/kokokuo__mailmerger not found. Skip.\n",
      "/Users/iamariyap/Desktop/sem4/NLP/Final/TypeT5/datasets/ManyTypes4Py/repos/downloaded/HazyResearch__fonduer not found. Skip.\n",
      "/Users/iamariyap/Desktop/sem4/NLP/Final/TypeT5/datasets/ManyTypes4Py/repos/downloaded/home-assistant__home-assistant-cli not found. Skip.\n",
      "/Users/iamariyap/Desktop/sem4/NLP/Final/TypeT5/datasets/ManyTypes4Py/repos/downloaded/tfctesting__tfc not found. Skip.\n",
      "/Users/iamariyap/Desktop/sem4/NLP/Final/TypeT5/datasets/ManyTypes4Py/repos/downloaded/johnthagen__python-blueprint not found. Skip.\n",
      "/Users/iamariyap/Desktop/sem4/NLP/Final/TypeT5/datasets/ManyTypes4Py/repos/downloaded/JustinTArthur__serverwamp not found. Skip.\n",
      "/Users/iamariyap/Desktop/sem4/NLP/Final/TypeT5/datasets/ManyTypes4Py/repos/downloaded/epwalsh__dotfiles not found. Skip.\n",
      "/Users/iamariyap/Desktop/sem4/NLP/Final/TypeT5/datasets/ManyTypes4Py/repos/downloaded/kapilt__gittersearch not found. Skip.\n",
      "/Users/iamariyap/Desktop/sem4/NLP/Final/TypeT5/datasets/ManyTypes4Py/repos/downloaded/miurahr__py7zr not found. Skip.\n",
      "/Users/iamariyap/Desktop/sem4/NLP/Final/TypeT5/datasets/ManyTypes4Py/repos/downloaded/arXiv__arxiv-search not found. Skip.\n",
      "/Users/iamariyap/Desktop/sem4/NLP/Final/TypeT5/datasets/ManyTypes4Py/repos/downloaded/ClearcodeHQ__jira_timemachine not found. Skip.\n",
      "/Users/iamariyap/Desktop/sem4/NLP/Final/TypeT5/datasets/ManyTypes4Py/repos/downloaded/xinhuang__PyFFF not found. Skip.\n",
      "/Users/iamariyap/Desktop/sem4/NLP/Final/TypeT5/datasets/ManyTypes4Py/repos/downloaded/oremanj__tricycle not found. Skip.\n",
      "/Users/iamariyap/Desktop/sem4/NLP/Final/TypeT5/datasets/ManyTypes4Py/repos/downloaded/space-physics__NEXRADutils not found. Skip.\n",
      "/Users/iamariyap/Desktop/sem4/NLP/Final/TypeT5/datasets/ManyTypes4Py/repos/downloaded/yoeo__guesslang not found. Skip.\n",
      "/Users/iamariyap/Desktop/sem4/NLP/Final/TypeT5/datasets/ManyTypes4Py/repos/downloaded/andreoliwa__dontforget not found. Skip.\n",
      "/Users/iamariyap/Desktop/sem4/NLP/Final/TypeT5/datasets/ManyTypes4Py/repos/downloaded/arXiv__arxiv-auth not found. Skip.\n",
      "/Users/iamariyap/Desktop/sem4/NLP/Final/TypeT5/datasets/ManyTypes4Py/repos/downloaded/ahitrin__SiebenApp not found. Skip.\n",
      "/Users/iamariyap/Desktop/sem4/NLP/Final/TypeT5/datasets/ManyTypes4Py/repos/downloaded/sethmlarson__socks not found. Skip.\n",
      "/Users/iamariyap/Desktop/sem4/NLP/Final/TypeT5/datasets/ManyTypes4Py/repos/downloaded/radeklat__issue-watcher not found. Skip.\n",
      "/Users/iamariyap/Desktop/sem4/NLP/Final/TypeT5/datasets/ManyTypes4Py/repos/downloaded/instaloader__instaloader not found. Skip.\n",
      "/Users/iamariyap/Desktop/sem4/NLP/Final/TypeT5/datasets/ManyTypes4Py/repos/downloaded/road-master__media-archiver not found. Skip.\n",
      "/Users/iamariyap/Desktop/sem4/NLP/Final/TypeT5/datasets/ManyTypes4Py/repos/downloaded/dcos__dcos-e2e not found. Skip.\n",
      "/Users/iamariyap/Desktop/sem4/NLP/Final/TypeT5/datasets/ManyTypes4Py/repos/downloaded/ameily__cincoconfig not found. Skip.\n",
      "/Users/iamariyap/Desktop/sem4/NLP/Final/TypeT5/datasets/ManyTypes4Py/repos/downloaded/br3ndonland__template-python not found. Skip.\n",
      "/Users/iamariyap/Desktop/sem4/NLP/Final/TypeT5/datasets/ManyTypes4Py/repos/downloaded/Zehua-Chen__coding-interview not found. Skip.\n",
      "/Users/iamariyap/Desktop/sem4/NLP/Final/TypeT5/datasets/ManyTypes4Py/repos/downloaded/georgepar__slp not found. Skip.\n",
      "/Users/iamariyap/Desktop/sem4/NLP/Final/TypeT5/datasets/ManyTypes4Py/repos/downloaded/ServerlessOpsIO__aws-sns-to-slack-publisher not found. Skip.\n",
      "/Users/iamariyap/Desktop/sem4/NLP/Final/TypeT5/datasets/ManyTypes4Py/repos/downloaded/Galbar__norfs not found. Skip.\n",
      "/Users/iamariyap/Desktop/sem4/NLP/Final/TypeT5/datasets/ManyTypes4Py/repos/downloaded/clayman74__passport not found. Skip.\n",
      "/Users/iamariyap/Desktop/sem4/NLP/Final/TypeT5/datasets/ManyTypes4Py/repos/downloaded/chaosdorf__freitagsfoo-wiki-json not found. Skip.\n",
      "/Users/iamariyap/Desktop/sem4/NLP/Final/TypeT5/datasets/ManyTypes4Py/repos/downloaded/srittau__rouver not found. Skip.\n",
      "/Users/iamariyap/Desktop/sem4/NLP/Final/TypeT5/datasets/ManyTypes4Py/repos/downloaded/Wytamma__fasteve not found. Skip.\n",
      "/Users/iamariyap/Desktop/sem4/NLP/Final/TypeT5/datasets/ManyTypes4Py/repos/downloaded/allenai__scispacy not found. Skip.\n",
      "/Users/iamariyap/Desktop/sem4/NLP/Final/TypeT5/datasets/ManyTypes4Py/repos/downloaded/data-workspaces__data-workspaces-core not found. Skip.\n",
      "/Users/iamariyap/Desktop/sem4/NLP/Final/TypeT5/datasets/ManyTypes4Py/repos/downloaded/asi-uniovi__power-simulation not found. Skip.\n",
      "/Users/iamariyap/Desktop/sem4/NLP/Final/TypeT5/datasets/ManyTypes4Py/repos/downloaded/lyft__amundsenfrontendlibrary not found. Skip.\n",
      "/Users/iamariyap/Desktop/sem4/NLP/Final/TypeT5/datasets/ManyTypes4Py/repos/downloaded/adamtheturtle__vws-python-mock not found. Skip.\n",
      "/Users/iamariyap/Desktop/sem4/NLP/Final/TypeT5/datasets/ManyTypes4Py/repos/downloaded/Qiskit__qiskit-ibmq-provider not found. Skip.\n",
      "/Users/iamariyap/Desktop/sem4/NLP/Final/TypeT5/datasets/ManyTypes4Py/repos/downloaded/scivision__sciencedates not found. Skip.\n",
      "/Users/iamariyap/Desktop/sem4/NLP/Final/TypeT5/datasets/ManyTypes4Py/repos/downloaded/bachya__pyflunearyou not found. Skip.\n",
      "/Users/iamariyap/Desktop/sem4/NLP/Final/TypeT5/datasets/ManyTypes4Py/repos/downloaded/cgtobi__PyRMVtransport not found. Skip.\n",
      "/Users/iamariyap/Desktop/sem4/NLP/Final/TypeT5/datasets/ManyTypes4Py/repos/downloaded/arnavb__pypokedex not found. Skip.\n",
      "/Users/iamariyap/Desktop/sem4/NLP/Final/TypeT5/datasets/ManyTypes4Py/repos/downloaded/bachya__aionotion not found. Skip.\n",
      "/Users/iamariyap/Desktop/sem4/NLP/Final/TypeT5/datasets/ManyTypes4Py/repos/downloaded/mverteuil__barbara not found. Skip.\n",
      "/Users/iamariyap/Desktop/sem4/NLP/Final/TypeT5/datasets/ManyTypes4Py/repos/downloaded/scivision__radio-utils not found. Skip.\n",
      "/Users/iamariyap/Desktop/sem4/NLP/Final/TypeT5/datasets/ManyTypes4Py/repos/downloaded/fishtown-analytics__hologram not found. Skip.\n",
      "/Users/iamariyap/Desktop/sem4/NLP/Final/TypeT5/datasets/ManyTypes4Py/repos/downloaded/ConsenSys__mythril not found. Skip.\n",
      "/Users/iamariyap/Desktop/sem4/NLP/Final/TypeT5/datasets/ManyTypes4Py/repos/downloaded/freedomofpress__securedrop-sdk not found. Skip.\n",
      "/Users/iamariyap/Desktop/sem4/NLP/Final/TypeT5/datasets/ManyTypes4Py/repos/downloaded/marcotmarcot__citacoes not found. Skip.\n",
      "/Users/iamariyap/Desktop/sem4/NLP/Final/TypeT5/datasets/ManyTypes4Py/repos/downloaded/multinet-app__multinet not found. Skip.\n",
      "/Users/iamariyap/Desktop/sem4/NLP/Final/TypeT5/datasets/ManyTypes4Py/repos/downloaded/ActivityWatch__aw-server not found. Skip.\n",
      "/Users/iamariyap/Desktop/sem4/NLP/Final/TypeT5/datasets/ManyTypes4Py/repos/downloaded/albertyw__itolapi not found. Skip.\n",
      "/Users/iamariyap/Desktop/sem4/NLP/Final/TypeT5/datasets/ManyTypes4Py/repos/downloaded/wmariuss__py-project-template not found. Skip.\n",
      "/Users/iamariyap/Desktop/sem4/NLP/Final/TypeT5/datasets/ManyTypes4Py/repos/downloaded/rmorshea__idom not found. Skip.\n",
      "/Users/iamariyap/Desktop/sem4/NLP/Final/TypeT5/datasets/ManyTypes4Py/repos/downloaded/nickw444__nickw444.github.io not found. Skip.\n",
      "/Users/iamariyap/Desktop/sem4/NLP/Final/TypeT5/datasets/ManyTypes4Py/repos/downloaded/mozilla__subhub not found. Skip.\n",
      "/Users/iamariyap/Desktop/sem4/NLP/Final/TypeT5/datasets/ManyTypes4Py/repos/downloaded/scivision__hdf5-tester not found. Skip.\n",
      "/Users/iamariyap/Desktop/sem4/NLP/Final/TypeT5/datasets/ManyTypes4Py/repos/downloaded/edudobay__simple-git-deploy not found. Skip.\n",
      "/Users/iamariyap/Desktop/sem4/NLP/Final/TypeT5/datasets/ManyTypes4Py/repos/downloaded/ustudio__storage not found. Skip.\n",
      "/Users/iamariyap/Desktop/sem4/NLP/Final/TypeT5/datasets/ManyTypes4Py/repos/downloaded/accent-starlette__starlette-core not found. Skip.\n",
      "/Users/iamariyap/Desktop/sem4/NLP/Final/TypeT5/datasets/ManyTypes4Py/repos/downloaded/jmuelbert__jmopenorders not found. Skip.\n",
      "/Users/iamariyap/Desktop/sem4/NLP/Final/TypeT5/datasets/ManyTypes4Py/repos/downloaded/tiangolo__meinheld-gunicorn-docker not found. Skip.\n",
      "/Users/iamariyap/Desktop/sem4/NLP/Final/TypeT5/datasets/ManyTypes4Py/repos/downloaded/stencila__schema not found. Skip.\n",
      "/Users/iamariyap/Desktop/sem4/NLP/Final/TypeT5/datasets/ManyTypes4Py/repos/downloaded/Intey__MeetUsServ not found. Skip.\n",
      "/Users/iamariyap/Desktop/sem4/NLP/Final/TypeT5/datasets/ManyTypes4Py/repos/downloaded/gchamon__sysrsync not found. Skip.\n",
      "/Users/iamariyap/Desktop/sem4/NLP/Final/TypeT5/datasets/ManyTypes4Py/repos/downloaded/kitsuyui__python-intervals not found. Skip.\n",
      "/Users/iamariyap/Desktop/sem4/NLP/Final/TypeT5/datasets/ManyTypes4Py/repos/downloaded/Shougo__denite.nvim not found. Skip.\n",
      "/Users/iamariyap/Desktop/sem4/NLP/Final/TypeT5/datasets/ManyTypes4Py/repos/downloaded/Gsllchb__Handright not found. Skip.\n",
      "/Users/iamariyap/Desktop/sem4/NLP/Final/TypeT5/datasets/ManyTypes4Py/repos/downloaded/arkutils__Purlovia not found. Skip.\n",
      "/Users/iamariyap/Desktop/sem4/NLP/Final/TypeT5/datasets/ManyTypes4Py/repos/downloaded/sabeechen__hassio-google-drive-backup not found. Skip.\n",
      "/Users/iamariyap/Desktop/sem4/NLP/Final/TypeT5/datasets/ManyTypes4Py/repos/downloaded/UncleGoogle__galaxy-integration-humblebundle not found. Skip.\n",
      "/Users/iamariyap/Desktop/sem4/NLP/Final/TypeT5/datasets/ManyTypes4Py/repos/downloaded/camptocamp__c2cwsgiutils not found. Skip.\n",
      "/Users/iamariyap/Desktop/sem4/NLP/Final/TypeT5/datasets/ManyTypes4Py/repos/downloaded/omf2097__pyomftools not found. Skip.\n",
      "/Users/iamariyap/Desktop/sem4/NLP/Final/TypeT5/datasets/ManyTypes4Py/repos/downloaded/yukinarit__pyserde not found. Skip.\n",
      "/Users/iamariyap/Desktop/sem4/NLP/Final/TypeT5/datasets/ManyTypes4Py/repos/downloaded/yedpodtrzitko__rlock not found. Skip.\n",
      "/Users/iamariyap/Desktop/sem4/NLP/Final/TypeT5/datasets/ManyTypes4Py/repos/downloaded/LutherCS__ads-class-pub not found. Skip.\n",
      "/Users/iamariyap/Desktop/sem4/NLP/Final/TypeT5/datasets/ManyTypes4Py/repos/downloaded/SectorLabs__heroku-rectifier not found. Skip.\n",
      "/Users/iamariyap/Desktop/sem4/NLP/Final/TypeT5/datasets/ManyTypes4Py/repos/downloaded/best-doctor__flake8-adjustable-complexity not found. Skip.\n",
      "/Users/iamariyap/Desktop/sem4/NLP/Final/TypeT5/datasets/ManyTypes4Py/repos/downloaded/ToucanToco__peakina not found. Skip.\n",
      "/Users/iamariyap/Desktop/sem4/NLP/Final/TypeT5/datasets/ManyTypes4Py/repos/downloaded/ZhengDeQuan__allennlp-dureader not found. Skip.\n",
      "/Users/iamariyap/Desktop/sem4/NLP/Final/TypeT5/datasets/ManyTypes4Py/repos/downloaded/typeddjango__django-stubs not found. Skip.\n",
      "/Users/iamariyap/Desktop/sem4/NLP/Final/TypeT5/datasets/ManyTypes4Py/repos/downloaded/arraylabs__pymyq not found. Skip.\n",
      "/Users/iamariyap/Desktop/sem4/NLP/Final/TypeT5/datasets/ManyTypes4Py/repos/downloaded/aio-libs__async-timeout not found. Skip.\n",
      "/Users/iamariyap/Desktop/sem4/NLP/Final/TypeT5/datasets/ManyTypes4Py/repos/downloaded/endlessm__azafea-metrics-proxy not found. Skip.\n",
      "/Users/iamariyap/Desktop/sem4/NLP/Final/TypeT5/datasets/ManyTypes4Py/repos/downloaded/FIUS__Verleihsystem-TTF not found. Skip.\n",
      "/Users/iamariyap/Desktop/sem4/NLP/Final/TypeT5/datasets/ManyTypes4Py/repos/downloaded/Shougo__deoplete.nvim not found. Skip.\n",
      "/Users/iamariyap/Desktop/sem4/NLP/Final/TypeT5/datasets/ManyTypes4Py/repos/downloaded/blinkdog__zn not found. Skip.\n",
      "/Users/iamariyap/Desktop/sem4/NLP/Final/TypeT5/datasets/ManyTypes4Py/repos/downloaded/pyslackers__website not found. Skip.\n",
      "/Users/iamariyap/Desktop/sem4/NLP/Final/TypeT5/datasets/ManyTypes4Py/repos/downloaded/capnfabs__emoji-haiku not found. Skip.\n",
      "/Users/iamariyap/Desktop/sem4/NLP/Final/TypeT5/datasets/ManyTypes4Py/repos/downloaded/mirumee__ariadne not found. Skip.\n",
      "/Users/iamariyap/Desktop/sem4/NLP/Final/TypeT5/datasets/ManyTypes4Py/repos/downloaded/lyft__amundsensearchlibrary not found. Skip.\n",
      "/Users/iamariyap/Desktop/sem4/NLP/Final/TypeT5/datasets/ManyTypes4Py/repos/downloaded/JustFixNYC__tenants2 not found. Skip.\n",
      "/Users/iamariyap/Desktop/sem4/NLP/Final/TypeT5/datasets/ManyTypes4Py/repos/downloaded/arashout__ResumeGenerator not found. Skip.\n",
      "/Users/iamariyap/Desktop/sem4/NLP/Final/TypeT5/datasets/ManyTypes4Py/repos/downloaded/samuelstevens__ubscrape not found. Skip.\n",
      "/Users/iamariyap/Desktop/sem4/NLP/Final/TypeT5/datasets/ManyTypes4Py/repos/downloaded/piccolo-orm__piccolo not found. Skip.\n",
      "/Users/iamariyap/Desktop/sem4/NLP/Final/TypeT5/datasets/ManyTypes4Py/repos/downloaded/tds333__LConfig not found. Skip.\n",
      "/Users/iamariyap/Desktop/sem4/NLP/Final/TypeT5/datasets/ManyTypes4Py/repos/downloaded/returntocorp__cli not found. Skip.\n",
      "/Users/iamariyap/Desktop/sem4/NLP/Final/TypeT5/datasets/ManyTypes4Py/repos/downloaded/roscisz__TensorHive not found. Skip.\n",
      "/Users/iamariyap/Desktop/sem4/NLP/Final/TypeT5/datasets/ManyTypes4Py/repos/downloaded/Yobmod__dmlsrim not found. Skip.\n",
      "/Users/iamariyap/Desktop/sem4/NLP/Final/TypeT5/datasets/ManyTypes4Py/repos/downloaded/zhelyabuzhsky__stockfish not found. Skip.\n",
      "/Users/iamariyap/Desktop/sem4/NLP/Final/TypeT5/datasets/ManyTypes4Py/repos/downloaded/ArtUshak__BookingBot not found. Skip.\n",
      "/Users/iamariyap/Desktop/sem4/NLP/Final/TypeT5/datasets/ManyTypes4Py/repos/downloaded/n8henrie__fauxmo not found. Skip.\n",
      "/Users/iamariyap/Desktop/sem4/NLP/Final/TypeT5/datasets/ManyTypes4Py/repos/downloaded/kornicameister__asyncpg-migrate not found. Skip.\n",
      "/Users/iamariyap/Desktop/sem4/NLP/Final/TypeT5/datasets/ManyTypes4Py/repos/downloaded/tiangolo__uvicorn-gunicorn-starlette-docker not found. Skip.\n",
      "/Users/iamariyap/Desktop/sem4/NLP/Final/TypeT5/datasets/ManyTypes4Py/repos/downloaded/Pliner__aio-throttle not found. Skip.\n",
      "/Users/iamariyap/Desktop/sem4/NLP/Final/TypeT5/datasets/ManyTypes4Py/repos/downloaded/sashgorokhov__edp not found. Skip.\n",
      "/Users/iamariyap/Desktop/sem4/NLP/Final/TypeT5/datasets/ManyTypes4Py/repos/downloaded/leahein__The-Resistance not found. Skip.\n",
      "/Users/iamariyap/Desktop/sem4/NLP/Final/TypeT5/datasets/ManyTypes4Py/repos/downloaded/Bloodmallet__bloodytools not found. Skip.\n",
      "/Users/iamariyap/Desktop/sem4/NLP/Final/TypeT5/datasets/ManyTypes4Py/repos/downloaded/camphor-__advent not found. Skip.\n",
      "/Users/iamariyap/Desktop/sem4/NLP/Final/TypeT5/datasets/ManyTypes4Py/repos/downloaded/raiden-network__raiden-services not found. Skip.\n",
      "/Users/iamariyap/Desktop/sem4/NLP/Final/TypeT5/datasets/ManyTypes4Py/repos/downloaded/Componolit__RecordFlux not found. Skip.\n",
      "/Users/iamariyap/Desktop/sem4/NLP/Final/TypeT5/datasets/ManyTypes4Py/repos/downloaded/Kartones__mazes-for-programmers-python-src not found. Skip.\n",
      "/Users/iamariyap/Desktop/sem4/NLP/Final/TypeT5/datasets/ManyTypes4Py/repos/downloaded/Witekkq__BruteForceStringGenerator not found. Skip.\n",
      "/Users/iamariyap/Desktop/sem4/NLP/Final/TypeT5/datasets/ManyTypes4Py/repos/downloaded/drmorr0__backuppy not found. Skip.\n",
      "/Users/iamariyap/Desktop/sem4/NLP/Final/TypeT5/datasets/ManyTypes4Py/repos/downloaded/t73fde__grpy not found. Skip.\n",
      "/Users/iamariyap/Desktop/sem4/NLP/Final/TypeT5/datasets/ManyTypes4Py/repos/downloaded/lycantropos__lz not found. Skip.\n",
      "/Users/iamariyap/Desktop/sem4/NLP/Final/TypeT5/datasets/ManyTypes4Py/repos/downloaded/OCESS__orbitx not found. Skip.\n",
      "/Users/iamariyap/Desktop/sem4/NLP/Final/TypeT5/datasets/ManyTypes4Py/repos/downloaded/facebookincubator__ptr not found. Skip.\n",
      "/Users/iamariyap/Desktop/sem4/NLP/Final/TypeT5/datasets/ManyTypes4Py/repos/downloaded/tortoise__tortoise-orm not found. Skip.\n",
      "/Users/iamariyap/Desktop/sem4/NLP/Final/TypeT5/datasets/ManyTypes4Py/repos/downloaded/UAVCAN__pydsdlgen not found. Skip.\n",
      "/Users/iamariyap/Desktop/sem4/NLP/Final/TypeT5/datasets/ManyTypes4Py/repos/downloaded/TankerHQ__tbump not found. Skip.\n",
      "/Users/iamariyap/Desktop/sem4/NLP/Final/TypeT5/datasets/ManyTypes4Py/repos/downloaded/adamtheturtle__click-pathlib not found. Skip.\n",
      "/Users/iamariyap/Desktop/sem4/NLP/Final/TypeT5/datasets/ManyTypes4Py/repos/downloaded/Zabolekar__jezik not found. Skip.\n",
      "/Users/iamariyap/Desktop/sem4/NLP/Final/TypeT5/datasets/ManyTypes4Py/repos/downloaded/ICTU__quality-time not found. Skip.\n",
      "/Users/iamariyap/Desktop/sem4/NLP/Final/TypeT5/datasets/ManyTypes4Py/repos/downloaded/trustlines-protocol__merkle-drop not found. Skip.\n",
      "/Users/iamariyap/Desktop/sem4/NLP/Final/TypeT5/datasets/ManyTypes4Py/repos/downloaded/mayhewj__greenstalk not found. Skip.\n",
      "/Users/iamariyap/Desktop/sem4/NLP/Final/TypeT5/datasets/ManyTypes4Py/repos/downloaded/dzhang30__Iris not found. Skip.\n",
      "/Users/iamariyap/Desktop/sem4/NLP/Final/TypeT5/datasets/ManyTypes4Py/repos/downloaded/tiangolo__fastapi not found. Skip.\n",
      "/Users/iamariyap/Desktop/sem4/NLP/Final/TypeT5/datasets/ManyTypes4Py/repos/downloaded/borfast__decision-engine not found. Skip.\n",
      "/Users/iamariyap/Desktop/sem4/NLP/Final/TypeT5/datasets/ManyTypes4Py/repos/downloaded/yatiml__yatiml not found. Skip.\n",
      "/Users/iamariyap/Desktop/sem4/NLP/Final/TypeT5/datasets/ManyTypes4Py/repos/downloaded/Pylons__pyramid_openapi3 not found. Skip.\n",
      "/Users/iamariyap/Desktop/sem4/NLP/Final/TypeT5/datasets/ManyTypes4Py/repos/downloaded/lyft__amundsenmetadatalibrary not found. Skip.\n",
      "/Users/iamariyap/Desktop/sem4/NLP/Final/TypeT5/datasets/ManyTypes4Py/repos/downloaded/QwertygidQ__ChessBot not found. Skip.\n",
      "/Users/iamariyap/Desktop/sem4/NLP/Final/TypeT5/datasets/ManyTypes4Py/repos/downloaded/Chatie__python-wechaty not found. Skip.\n",
      "/Users/iamariyap/Desktop/sem4/NLP/Final/TypeT5/datasets/ManyTypes4Py/repos/downloaded/tadashi-aikawa__jumeaux not found. Skip.\n",
      "/Users/iamariyap/Desktop/sem4/NLP/Final/TypeT5/datasets/ManyTypes4Py/repos/downloaded/neanias__aoc not found. Skip.\n",
      "/Users/iamariyap/Desktop/sem4/NLP/Final/TypeT5/datasets/ManyTypes4Py/repos/downloaded/bitranox__lib_cast not found. Skip.\n",
      "/Users/iamariyap/Desktop/sem4/NLP/Final/TypeT5/datasets/ManyTypes4Py/repos/downloaded/playpauseandstop__rororo not found. Skip.\n",
      "/Users/iamariyap/Desktop/sem4/NLP/Final/TypeT5/datasets/ManyTypes4Py/repos/downloaded/gigamonkey__scheduler not found. Skip.\n",
      "/Users/iamariyap/Desktop/sem4/NLP/Final/TypeT5/datasets/ManyTypes4Py/repos/downloaded/Kartones__flask-calendar not found. Skip.\n",
      "/Users/iamariyap/Desktop/sem4/NLP/Final/TypeT5/datasets/ManyTypes4Py/repos/downloaded/bitranox__lib_shell not found. Skip.\n",
      "/Users/iamariyap/Desktop/sem4/NLP/Final/TypeT5/datasets/ManyTypes4Py/repos/downloaded/meadsteve__lagom not found. Skip.\n",
      "/Users/iamariyap/Desktop/sem4/NLP/Final/TypeT5/datasets/ManyTypes4Py/repos/downloaded/LibrePCB__librepcb-parts-generator not found. Skip.\n",
      "/Users/iamariyap/Desktop/sem4/NLP/Final/TypeT5/datasets/ManyTypes4Py/repos/downloaded/awslabs__sockeye not found. Skip.\n",
      "/Users/iamariyap/Desktop/sem4/NLP/Final/TypeT5/datasets/ManyTypes4Py/repos/downloaded/thisfred__breakfast not found. Skip.\n",
      "/Users/iamariyap/Desktop/sem4/NLP/Final/TypeT5/datasets/ManyTypes4Py/repos/downloaded/floscha__tabular-dataset not found. Skip.\n",
      "/Users/iamariyap/Desktop/sem4/NLP/Final/TypeT5/datasets/ManyTypes4Py/repos/downloaded/improbable-research__keanu not found. Skip.\n",
      "/Users/iamariyap/Desktop/sem4/NLP/Final/TypeT5/datasets/ManyTypes4Py/repos/downloaded/srittau__python-dectest not found. Skip.\n",
      "/Users/iamariyap/Desktop/sem4/NLP/Final/TypeT5/datasets/ManyTypes4Py/repos/downloaded/tommilligan__flake8-fixme not found. Skip.\n",
      "/Users/iamariyap/Desktop/sem4/NLP/Final/TypeT5/datasets/ManyTypes4Py/repos/downloaded/xoeye__typecats not found. Skip.\n",
      "/Users/iamariyap/Desktop/sem4/NLP/Final/TypeT5/datasets/ManyTypes4Py/repos/downloaded/jmromer__access_log_monitor not found. Skip.\n",
      "/Users/iamariyap/Desktop/sem4/NLP/Final/TypeT5/datasets/ManyTypes4Py/repos/downloaded/arXiv__arxiv-rss not found. Skip.\n",
      "/Users/iamariyap/Desktop/sem4/NLP/Final/TypeT5/datasets/ManyTypes4Py/repos/downloaded/tiangolo__uvicorn-gunicorn-fastapi-docker not found. Skip.\n",
      "/Users/iamariyap/Desktop/sem4/NLP/Final/TypeT5/datasets/ManyTypes4Py/repos/downloaded/scrapedia__Theogony not found. Skip.\n",
      "/Users/iamariyap/Desktop/sem4/NLP/Final/TypeT5/datasets/ManyTypes4Py/repos/downloaded/PeterJCLaw__fast-hashdeep not found. Skip.\n",
      "/Users/iamariyap/Desktop/sem4/NLP/Final/TypeT5/datasets/ManyTypes4Py/repos/downloaded/yukihiko-shinoda__zaim-csv-converter not found. Skip.\n",
      "/Users/iamariyap/Desktop/sem4/NLP/Final/TypeT5/datasets/ManyTypes4Py/repos/downloaded/manantt__MavBot not found. Skip.\n",
      "/Users/iamariyap/Desktop/sem4/NLP/Final/TypeT5/datasets/ManyTypes4Py/repos/downloaded/dstrigl__htheatpump not found. Skip.\n",
      "/Users/iamariyap/Desktop/sem4/NLP/Final/TypeT5/datasets/ManyTypes4Py/repos/downloaded/magnuswatn__sertifikatsok not found. Skip.\n",
      "/Users/iamariyap/Desktop/sem4/NLP/Final/TypeT5/datasets/ManyTypes4Py/repos/downloaded/prestsoftware__prest not found. Skip.\n",
      "/Users/iamariyap/Desktop/sem4/NLP/Final/TypeT5/datasets/ManyTypes4Py/repos/downloaded/nabla-c0d3__trust_stores_observatory not found. Skip.\n",
      "/Users/iamariyap/Desktop/sem4/NLP/Final/TypeT5/datasets/ManyTypes4Py/repos/downloaded/facebookresearch__nevergrad not found. Skip.\n",
      "/Users/iamariyap/Desktop/sem4/NLP/Final/TypeT5/datasets/ManyTypes4Py/repos/downloaded/karlTGA__pyWirelessMbus not found. Skip.\n",
      "/Users/iamariyap/Desktop/sem4/NLP/Final/TypeT5/datasets/ManyTypes4Py/repos/downloaded/feluxe__sty not found. Skip.\n",
      "/Users/iamariyap/Desktop/sem4/NLP/Final/TypeT5/datasets/ManyTypes4Py/repos/downloaded/matzko__nvim not found. Skip.\n",
      "/Users/iamariyap/Desktop/sem4/NLP/Final/TypeT5/datasets/ManyTypes4Py/repos/downloaded/Instagram__MonkeyType not found. Skip.\n",
      "/Users/iamariyap/Desktop/sem4/NLP/Final/TypeT5/datasets/ManyTypes4Py/repos/downloaded/mrapacz__disjoint-set not found. Skip.\n",
      "/Users/iamariyap/Desktop/sem4/NLP/Final/TypeT5/datasets/ManyTypes4Py/repos/downloaded/DBCDK__kube-deployment-auto-committer not found. Skip.\n",
      "/Users/iamariyap/Desktop/sem4/NLP/Final/TypeT5/datasets/ManyTypes4Py/repos/downloaded/ElectronicBabylonianLiterature__ebl-api not found. Skip.\n",
      "/Users/iamariyap/Desktop/sem4/NLP/Final/TypeT5/datasets/ManyTypes4Py/repos/downloaded/zli117__EInk-Calendar not found. Skip.\n",
      "/Users/iamariyap/Desktop/sem4/NLP/Final/TypeT5/datasets/ManyTypes4Py/repos/downloaded/silviogutierrez__reactivated not found. Skip.\n",
      "/Users/iamariyap/Desktop/sem4/NLP/Final/TypeT5/datasets/ManyTypes4Py/repos/downloaded/C4ptainCrunch__ics.py not found. Skip.\n",
      "/Users/iamariyap/Desktop/sem4/NLP/Final/TypeT5/datasets/ManyTypes4Py/repos/downloaded/UIUCLibrary__Packager not found. Skip.\n",
      "/Users/iamariyap/Desktop/sem4/NLP/Final/TypeT5/datasets/ManyTypes4Py/repos/downloaded/quantmind__aio-kong not found. Skip.\n",
      "/Users/iamariyap/Desktop/sem4/NLP/Final/TypeT5/datasets/ManyTypes4Py/repos/downloaded/yukinarit__envclasses not found. Skip.\n",
      "/Users/iamariyap/Desktop/sem4/NLP/Final/TypeT5/datasets/ManyTypes4Py/repos/downloaded/ActivityWatch__aw-core not found. Skip.\n",
      "/Users/iamariyap/Desktop/sem4/NLP/Final/TypeT5/datasets/ManyTypes4Py/repos/downloaded/srittau__python-json-get not found. Skip.\n",
      "/Users/iamariyap/Desktop/sem4/NLP/Final/TypeT5/datasets/ManyTypes4Py/repos/downloaded/dragonchain__dragonchain not found. Skip.\n",
      "/Users/iamariyap/Desktop/sem4/NLP/Final/TypeT5/datasets/ManyTypes4Py/repos/downloaded/leanprover-community__leancrawler not found. Skip.\n",
      "/Users/iamariyap/Desktop/sem4/NLP/Final/TypeT5/datasets/ManyTypes4Py/repos/downloaded/best-doctor__flake8-annotations-coverage not found. Skip.\n",
      "/Users/iamariyap/Desktop/sem4/NLP/Final/TypeT5/datasets/ManyTypes4Py/repos/downloaded/tiangolo__uwsgi-nginx-flask-docker not found. Skip.\n",
      "/Users/iamariyap/Desktop/sem4/NLP/Final/TypeT5/datasets/ManyTypes4Py/repos/downloaded/jreese__aiomultiprocess not found. Skip.\n",
      "/Users/iamariyap/Desktop/sem4/NLP/Final/TypeT5/datasets/ManyTypes4Py/repos/downloaded/r-spacex__SpaceXLaunchBot not found. Skip.\n",
      "/Users/iamariyap/Desktop/sem4/NLP/Final/TypeT5/datasets/ManyTypes4Py/repos/downloaded/fyndiq__eventsourcing_helpers not found. Skip.\n",
      "/Users/iamariyap/Desktop/sem4/NLP/Final/TypeT5/datasets/ManyTypes4Py/repos/downloaded/vint21h__django-read-only-admin not found. Skip.\n",
      "/Users/iamariyap/Desktop/sem4/NLP/Final/TypeT5/datasets/ManyTypes4Py/repos/downloaded/ParrotPrediction__pyalcs not found. Skip.\n",
      "/Users/iamariyap/Desktop/sem4/NLP/Final/TypeT5/datasets/ManyTypes4Py/repos/downloaded/naturalness__sensibility not found. Skip.\n",
      "/Users/iamariyap/Desktop/sem4/NLP/Final/TypeT5/datasets/ManyTypes4Py/repos/downloaded/ymoch__preacher not found. Skip.\n",
      "/Users/iamariyap/Desktop/sem4/NLP/Final/TypeT5/datasets/ManyTypes4Py/repos/downloaded/scivision__lineclipping-python-fortran not found. Skip.\n",
      "/Users/iamariyap/Desktop/sem4/NLP/Final/TypeT5/datasets/ManyTypes4Py/repos/downloaded/eillarra__carbonize not found. Skip.\n",
      "/Users/iamariyap/Desktop/sem4/NLP/Final/TypeT5/datasets/ManyTypes4Py/repos/downloaded/fireundubh__pyro not found. Skip.\n",
      "/Users/iamariyap/Desktop/sem4/NLP/Final/TypeT5/datasets/ManyTypes4Py/repos/downloaded/mbarkhau__straitjacket not found. Skip.\n",
      "/Users/iamariyap/Desktop/sem4/NLP/Final/TypeT5/datasets/ManyTypes4Py/repos/downloaded/maqp__tfc not found. Skip.\n",
      "/Users/iamariyap/Desktop/sem4/NLP/Final/TypeT5/datasets/ManyTypes4Py/repos/downloaded/ilevkivskyi__com2ann not found. Skip.\n",
      "/Users/iamariyap/Desktop/sem4/NLP/Final/TypeT5/datasets/ManyTypes4Py/repos/downloaded/aio-libs__aiomonitor not found. Skip.\n",
      "/Users/iamariyap/Desktop/sem4/NLP/Final/TypeT5/datasets/ManyTypes4Py/repos/downloaded/ncopiy__django_lucy not found. Skip.\n",
      "/Users/iamariyap/Desktop/sem4/NLP/Final/TypeT5/datasets/ManyTypes4Py/repos/downloaded/python-romania__rock-paper-scissors not found. Skip.\n",
      "/Users/iamariyap/Desktop/sem4/NLP/Final/TypeT5/datasets/ManyTypes4Py/repos/downloaded/skytreader__chadow not found. Skip.\n",
      "/Users/iamariyap/Desktop/sem4/NLP/Final/TypeT5/datasets/ManyTypes4Py/repos/downloaded/dalemyers__deserialize not found. Skip.\n",
      "/Users/iamariyap/Desktop/sem4/NLP/Final/TypeT5/datasets/ManyTypes4Py/repos/downloaded/mdrachuk__serious not found. Skip.\n",
      "/Users/iamariyap/Desktop/sem4/NLP/Final/TypeT5/datasets/ManyTypes4Py/repos/downloaded/samuelcolvin__pydantic not found. Skip.\n",
      "/Users/iamariyap/Desktop/sem4/NLP/Final/TypeT5/datasets/ManyTypes4Py/repos/downloaded/rafalp__async-caches not found. Skip.\n",
      "/Users/iamariyap/Desktop/sem4/NLP/Final/TypeT5/datasets/ManyTypes4Py/repos/downloaded/lucaswerkmeister__tool-pagepile-visual-filter not found. Skip.\n",
      "/Users/iamariyap/Desktop/sem4/NLP/Final/TypeT5/datasets/ManyTypes4Py/repos/downloaded/erp12__pyshgp not found. Skip.\n",
      "/Users/iamariyap/Desktop/sem4/NLP/Final/TypeT5/datasets/ManyTypes4Py/repos/downloaded/adamtheturtle__vws-python not found. Skip.\n",
      "/Users/iamariyap/Desktop/sem4/NLP/Final/TypeT5/datasets/ManyTypes4Py/repos/downloaded/agravier__aiohook not found. Skip.\n",
      "/Users/iamariyap/Desktop/sem4/NLP/Final/TypeT5/datasets/ManyTypes4Py/repos/downloaded/cabalamat__meowcat2 not found. Skip.\n",
      "/Users/iamariyap/Desktop/sem4/NLP/Final/TypeT5/datasets/ManyTypes4Py/repos/downloaded/mbarkhau__pycalver not found. Skip.\n",
      "/Users/iamariyap/Desktop/sem4/NLP/Final/TypeT5/datasets/ManyTypes4Py/repos/downloaded/tuxedocat__dayone2md not found. Skip.\n",
      "/Users/iamariyap/Desktop/sem4/NLP/Final/TypeT5/datasets/ManyTypes4Py/repos/downloaded/clintval__sample-sheet not found. Skip.\n",
      "/Users/iamariyap/Desktop/sem4/NLP/Final/TypeT5/datasets/ManyTypes4Py/repos/downloaded/srittau__dbupgrade not found. Skip.\n",
      "/Users/iamariyap/Desktop/sem4/NLP/Final/TypeT5/datasets/ManyTypes4Py/repos/downloaded/poros__dumbpm not found. Skip.\n",
      "/Users/iamariyap/Desktop/sem4/NLP/Final/TypeT5/datasets/ManyTypes4Py/repos/downloaded/bachya__pytile not found. Skip.\n",
      "/Users/iamariyap/Desktop/sem4/NLP/Final/TypeT5/datasets/ManyTypes4Py/repos/downloaded/vint21h__django-humans-txt not found. Skip.\n",
      "/Users/iamariyap/Desktop/sem4/NLP/Final/TypeT5/datasets/ManyTypes4Py/repos/downloaded/je-l__fmi.py not found. Skip.\n",
      "/Users/iamariyap/Desktop/sem4/NLP/Final/TypeT5/datasets/ManyTypes4Py/repos/downloaded/QuTech-Delft__quantuminspire not found. Skip.\n",
      "/Users/iamariyap/Desktop/sem4/NLP/Final/TypeT5/datasets/ManyTypes4Py/repos/downloaded/chrishannam__hippocrates not found. Skip.\n",
      "/Users/iamariyap/Desktop/sem4/NLP/Final/TypeT5/datasets/ManyTypes4Py/repos/downloaded/maximumstock__poe-currency-flip-planner not found. Skip.\n",
      "/Users/iamariyap/Desktop/sem4/NLP/Final/TypeT5/datasets/ManyTypes4Py/repos/downloaded/marcosschroh__python-schema-registry-client not found. Skip.\n",
      "/Users/iamariyap/Desktop/sem4/NLP/Final/TypeT5/datasets/ManyTypes4Py/repos/downloaded/bitranox__configmagick_update not found. Skip.\n",
      "/Users/iamariyap/Desktop/sem4/NLP/Final/TypeT5/datasets/ManyTypes4Py/repos/downloaded/meadsteve__cafefikakata not found. Skip.\n",
      "/Users/iamariyap/Desktop/sem4/NLP/Final/TypeT5/datasets/ManyTypes4Py/repos/downloaded/scivision__pyimagevideo not found. Skip.\n",
      "/Users/iamariyap/Desktop/sem4/NLP/Final/TypeT5/datasets/ManyTypes4Py/repos/downloaded/srobo__core-team-minutes not found. Skip.\n",
      "/Users/iamariyap/Desktop/sem4/NLP/Final/TypeT5/datasets/ManyTypes4Py/repos/downloaded/abilian__abilian-core not found. Skip.\n",
      "/Users/iamariyap/Desktop/sem4/NLP/Final/TypeT5/datasets/ManyTypes4Py/repos/downloaded/yukikpc__game-of-life not found. Skip.\n",
      "/Users/iamariyap/Desktop/sem4/NLP/Final/TypeT5/datasets/ManyTypes4Py/repos/downloaded/eriktaubeneck__swim-sets not found. Skip.\n",
      "/Users/iamariyap/Desktop/sem4/NLP/Final/TypeT5/datasets/ManyTypes4Py/repos/downloaded/N-Wouda__ALNS not found. Skip.\n",
      "/Users/iamariyap/Desktop/sem4/NLP/Final/TypeT5/datasets/ManyTypes4Py/repos/downloaded/jettify__pytorch-inspect not found. Skip.\n",
      "/Users/iamariyap/Desktop/sem4/NLP/Final/TypeT5/datasets/ManyTypes4Py/repos/downloaded/EagleAeroSport-electrcal__Data-Processing not found. Skip.\n",
      "/Users/iamariyap/Desktop/sem4/NLP/Final/TypeT5/datasets/ManyTypes4Py/repos/downloaded/km45__windows-devenv not found. Skip.\n",
      "/Users/iamariyap/Desktop/sem4/NLP/Final/TypeT5/datasets/ManyTypes4Py/repos/downloaded/PennyDreadfulMTG__Penny-Dreadful-Tools not found. Skip.\n",
      "/Users/iamariyap/Desktop/sem4/NLP/Final/TypeT5/datasets/ManyTypes4Py/repos/downloaded/fnl__syntok not found. Skip.\n",
      "/Users/iamariyap/Desktop/sem4/NLP/Final/TypeT5/datasets/ManyTypes4Py/repos/downloaded/tommilligan__pytest-jobserver not found. Skip.\n",
      "/Users/iamariyap/Desktop/sem4/NLP/Final/TypeT5/datasets/ManyTypes4Py/repos/downloaded/funkyfuture__deck-chores not found. Skip.\n",
      "/Users/iamariyap/Desktop/sem4/NLP/Final/TypeT5/datasets/ManyTypes4Py/repos/downloaded/pyinv__damm32 not found. Skip.\n",
      "/Users/iamariyap/Desktop/sem4/NLP/Final/TypeT5/datasets/ManyTypes4Py/repos/downloaded/mscarey__AuthoritySpoke not found. Skip.\n",
      "/Users/iamariyap/Desktop/sem4/NLP/Final/TypeT5/datasets/ManyTypes4Py/repos/downloaded/trustlines-protocol__relay not found. Skip.\n",
      "/Users/iamariyap/Desktop/sem4/NLP/Final/TypeT5/datasets/ManyTypes4Py/repos/downloaded/hackobi__AI-Scalpel-Trading-Bot not found. Skip.\n",
      "/Users/iamariyap/Desktop/sem4/NLP/Final/TypeT5/datasets/ManyTypes4Py/repos/downloaded/meadsteve__british_food_generator not found. Skip.\n",
      "/Users/iamariyap/Desktop/sem4/NLP/Final/TypeT5/datasets/ManyTypes4Py/repos/downloaded/mbforbes__physical-commonsense not found. Skip.\n",
      "/Users/iamariyap/Desktop/sem4/NLP/Final/TypeT5/datasets/ManyTypes4Py/repos/downloaded/ocf__ocfweb not found. Skip.\n",
      "/Users/iamariyap/Desktop/sem4/NLP/Final/TypeT5/datasets/ManyTypes4Py/repos/downloaded/Curt-Park__rainbow-is-all-you-need not found. Skip.\n",
      "/Users/iamariyap/Desktop/sem4/NLP/Final/TypeT5/datasets/ManyTypes4Py/repos/downloaded/andrewychoi__cryptopals-challenges not found. Skip.\n",
      "/Users/iamariyap/Desktop/sem4/NLP/Final/TypeT5/datasets/ManyTypes4Py/repos/downloaded/encode__databases not found. Skip.\n",
      "/Users/iamariyap/Desktop/sem4/NLP/Final/TypeT5/datasets/ManyTypes4Py/repos/downloaded/ErikBjare__chatalysis not found. Skip.\n",
      "/Users/iamariyap/Desktop/sem4/NLP/Final/TypeT5/datasets/ManyTypes4Py/repos/downloaded/thread__routemaster not found. Skip.\n",
      "/Users/iamariyap/Desktop/sem4/NLP/Final/TypeT5/datasets/ManyTypes4Py/repos/downloaded/nnnewb__palu not found. Skip.\n",
      "/Users/iamariyap/Desktop/sem4/NLP/Final/TypeT5/datasets/ManyTypes4Py/repos/downloaded/bitranox__wrapt_timeout_decorator not found. Skip.\n",
      "/Users/iamariyap/Desktop/sem4/NLP/Final/TypeT5/datasets/ManyTypes4Py/repos/downloaded/ArtUshak__wiki_tool_python not found. Skip.\n",
      "/Users/iamariyap/Desktop/sem4/NLP/Final/TypeT5/datasets/ManyTypes4Py/repos/downloaded/aio-libs__janus not found. Skip.\n",
      "/Users/iamariyap/Desktop/sem4/NLP/Final/TypeT5/datasets/ManyTypes4Py/repos/downloaded/nubark__filtrark not found. Skip.\n",
      "/Users/iamariyap/Desktop/sem4/NLP/Final/TypeT5/datasets/ManyTypes4Py/repos/downloaded/nextprime__python-samples not found. Skip.\n",
      "/Users/iamariyap/Desktop/sem4/NLP/Final/TypeT5/datasets/ManyTypes4Py/repos/downloaded/boompig__passzero not found. Skip.\n",
      "/Users/iamariyap/Desktop/sem4/NLP/Final/TypeT5/datasets/ManyTypes4Py/repos/downloaded/kodujdlapolski__ecobenefits not found. Skip.\n",
      "/Users/iamariyap/Desktop/sem4/NLP/Final/TypeT5/datasets/ManyTypes4Py/repos/downloaded/datawire__ambassador not found. Skip.\n",
      "/Users/iamariyap/Desktop/sem4/NLP/Final/TypeT5/datasets/ManyTypes4Py/repos/downloaded/KevinBoyette__algorithms not found. Skip.\n",
      "/Users/iamariyap/Desktop/sem4/NLP/Final/TypeT5/datasets/ManyTypes4Py/repos/downloaded/kajuberdut__pytest-timekeeper not found. Skip.\n",
      "/Users/iamariyap/Desktop/sem4/NLP/Final/TypeT5/datasets/ManyTypes4Py/repos/downloaded/rokujyouhitoma__python-project-template not found. Skip.\n",
      "/Users/iamariyap/Desktop/sem4/NLP/Final/TypeT5/datasets/ManyTypes4Py/repos/downloaded/joway__lemon not found. Skip.\n",
      "/Users/iamariyap/Desktop/sem4/NLP/Final/TypeT5/datasets/ManyTypes4Py/repos/downloaded/Flameeyes__usbmon-tools not found. Skip.\n",
      "/Users/iamariyap/Desktop/sem4/NLP/Final/TypeT5/datasets/ManyTypes4Py/repos/downloaded/bachya__regenmaschine not found. Skip.\n",
      "/Users/iamariyap/Desktop/sem4/NLP/Final/TypeT5/datasets/ManyTypes4Py/repos/downloaded/hrsma2i__aiodl not found. Skip.\n",
      "/Users/iamariyap/Desktop/sem4/NLP/Final/TypeT5/datasets/ManyTypes4Py/repos/downloaded/rrwt__daily-coding-challenge not found. Skip.\n",
      "/Users/iamariyap/Desktop/sem4/NLP/Final/TypeT5/datasets/ManyTypes4Py/repos/downloaded/jamescooke__flake8-aaa not found. Skip.\n",
      "/Users/iamariyap/Desktop/sem4/NLP/Final/TypeT5/datasets/ManyTypes4Py/repos/downloaded/gacou54__pyorthanc not found. Skip.\n",
      "/Users/iamariyap/Desktop/sem4/NLP/Final/TypeT5/datasets/ManyTypes4Py/repos/downloaded/rhedshi__project-euler not found. Skip.\n",
      "/Users/iamariyap/Desktop/sem4/NLP/Final/TypeT5/datasets/ManyTypes4Py/repos/downloaded/JustFixNYC__nycdb-k8s-loader not found. Skip.\n",
      "/Users/iamariyap/Desktop/sem4/NLP/Final/TypeT5/datasets/ManyTypes4Py/repos/downloaded/SeldonIO__alibi not found. Skip.\n",
      "/Users/iamariyap/Desktop/sem4/NLP/Final/TypeT5/datasets/ManyTypes4Py/repos/downloaded/lidatong__dataclasses-json not found. Skip.\n",
      "/Users/iamariyap/Desktop/sem4/NLP/Final/TypeT5/datasets/ManyTypes4Py/repos/downloaded/tipresias__augury not found. Skip.\n",
      "/Users/iamariyap/Desktop/sem4/NLP/Final/TypeT5/datasets/ManyTypes4Py/repos/downloaded/python-dirbtuves__it-brandos-egzaminai not found. Skip.\n",
      "/Users/iamariyap/Desktop/sem4/NLP/Final/TypeT5/datasets/ManyTypes4Py/repos/downloaded/welchbj__almanac not found. Skip.\n",
      "/Users/iamariyap/Desktop/sem4/NLP/Final/TypeT5/datasets/ManyTypes4Py/repos/downloaded/dbanalyticsco__Fonz not found. Skip.\n",
      "/Users/iamariyap/Desktop/sem4/NLP/Final/TypeT5/datasets/ManyTypes4Py/repos/downloaded/nekonoshiri__api-gateway-lambda-proxy not found. Skip.\n",
      "/Users/iamariyap/Desktop/sem4/NLP/Final/TypeT5/datasets/ManyTypes4Py/repos/downloaded/mlenzen__lenzm_utils not found. Skip.\n",
      "/Users/iamariyap/Desktop/sem4/NLP/Final/TypeT5/datasets/ManyTypes4Py/repos/downloaded/charmoniumQ__charmonium.cache not found. Skip.\n",
      "/Users/iamariyap/Desktop/sem4/NLP/Final/TypeT5/datasets/ManyTypes4Py/repos/downloaded/jmromer__shop_listings not found. Skip.\n",
      "/Users/iamariyap/Desktop/sem4/NLP/Final/TypeT5/datasets/ManyTypes4Py/repos/downloaded/space-physics__msise00 not found. Skip.\n",
      "/Users/iamariyap/Desktop/sem4/NLP/Final/TypeT5/datasets/ManyTypes4Py/repos/downloaded/spectria__tildes not found. Skip.\n",
      "/Users/iamariyap/Desktop/sem4/NLP/Final/TypeT5/datasets/ManyTypes4Py/repos/downloaded/amplify-education__terrawrap not found. Skip.\n",
      "/Users/iamariyap/Desktop/sem4/NLP/Final/TypeT5/datasets/ManyTypes4Py/repos/downloaded/pycontw__mail_handler not found. Skip.\n",
      "/Users/iamariyap/Desktop/sem4/NLP/Final/TypeT5/datasets/ManyTypes4Py/repos/downloaded/brettkromkamp__typed-tree not found. Skip.\n",
      "/Users/iamariyap/Desktop/sem4/NLP/Final/TypeT5/datasets/ManyTypes4Py/repos/downloaded/salabs__robotframework-seleniumtestability not found. Skip.\n",
      "/Users/iamariyap/Desktop/sem4/NLP/Final/TypeT5/datasets/ManyTypes4Py/repos/downloaded/srobo__recurring-tasks not found. Skip.\n",
      "/Users/iamariyap/Desktop/sem4/NLP/Final/TypeT5/datasets/ManyTypes4Py/repos/downloaded/RoboJackets__robocup-software not found. Skip.\n",
      "/Users/iamariyap/Desktop/sem4/NLP/Final/TypeT5/datasets/ManyTypes4Py/repos/downloaded/space-physics__igrf12 not found. Skip.\n",
      "/Users/iamariyap/Desktop/sem4/NLP/Final/TypeT5/datasets/ManyTypes4Py/repos/downloaded/semiversus__python-broqer not found. Skip.\n",
      "/Users/iamariyap/Desktop/sem4/NLP/Final/TypeT5/datasets/ManyTypes4Py/repos/downloaded/slicerisk__riskmatrix not found. Skip.\n",
      "/Users/iamariyap/Desktop/sem4/NLP/Final/TypeT5/datasets/ManyTypes4Py/repos/downloaded/pilosus__piny not found. Skip.\n",
      "/Users/iamariyap/Desktop/sem4/NLP/Final/TypeT5/datasets/ManyTypes4Py/repos/downloaded/wilcoxjay__mypyvy not found. Skip.\n",
      "/Users/iamariyap/Desktop/sem4/NLP/Final/TypeT5/datasets/ManyTypes4Py/repos/downloaded/pavoni__pywemo not found. Skip.\n",
      "/Users/iamariyap/Desktop/sem4/NLP/Final/TypeT5/datasets/ManyTypes4Py/repos/downloaded/medipixel__rl_algorithms not found. Skip.\n",
      "/Users/iamariyap/Desktop/sem4/NLP/Final/TypeT5/datasets/ManyTypes4Py/repos/downloaded/gustavgransbo__autograd not found. Skip.\n",
      "/Users/iamariyap/Desktop/sem4/NLP/Final/TypeT5/datasets/ManyTypes4Py/repos/downloaded/Finistere__antidote not found. Skip.\n",
      "/Users/iamariyap/Desktop/sem4/NLP/Final/TypeT5/datasets/ManyTypes4Py/repos/downloaded/PeterJCLaw__ranker not found. Skip.\n",
      "/Users/iamariyap/Desktop/sem4/NLP/Final/TypeT5/datasets/ManyTypes4Py/repos/downloaded/stan-dev__httpstan not found. Skip.\n",
      "/Users/iamariyap/Desktop/sem4/NLP/Final/TypeT5/datasets/ManyTypes4Py/repos/downloaded/asottile__t not found. Skip.\n",
      "/Users/iamariyap/Desktop/sem4/NLP/Final/TypeT5/datasets/ManyTypes4Py/repos/downloaded/kandluis__myTransactions not found. Skip.\n",
      "/Users/iamariyap/Desktop/sem4/NLP/Final/TypeT5/datasets/ManyTypes4Py/repos/downloaded/samuelcolvin__arq not found. Skip.\n",
      "/Users/iamariyap/Desktop/sem4/NLP/Final/TypeT5/datasets/ManyTypes4Py/repos/downloaded/quantmind__aio-openapi not found. Skip.\n",
      "/Users/iamariyap/Desktop/sem4/NLP/Final/TypeT5/datasets/ManyTypes4Py/repos/downloaded/Kartones__finished-games not found. Skip.\n",
      "/Users/iamariyap/Desktop/sem4/NLP/Final/TypeT5/datasets/ManyTypes4Py/repos/downloaded/neuromation__platform-client-python not found. Skip.\n",
      "/Users/iamariyap/Desktop/sem4/NLP/Final/TypeT5/datasets/ManyTypes4Py/repos/downloaded/tiliado__nuvola-flatpaks not found. Skip.\n",
      "/Users/iamariyap/Desktop/sem4/NLP/Final/TypeT5/datasets/ManyTypes4Py/repos/downloaded/bst-mug__acres not found. Skip.\n",
      "/Users/iamariyap/Desktop/sem4/NLP/Final/TypeT5/datasets/ManyTypes4Py/repos/downloaded/timothycrosley__isort not found. Skip.\n",
      "/Users/iamariyap/Desktop/sem4/NLP/Final/TypeT5/datasets/ManyTypes4Py/repos/downloaded/albertyw__pharmadataassociates not found. Skip.\n",
      "/Users/iamariyap/Desktop/sem4/NLP/Final/TypeT5/datasets/ManyTypes4Py/repos/downloaded/BenevolentAI__guacamol not found. Skip.\n",
      "/Users/iamariyap/Desktop/sem4/NLP/Final/TypeT5/datasets/ManyTypes4Py/repos/downloaded/noudald__pyroc not found. Skip.\n",
      "/Users/iamariyap/Desktop/sem4/NLP/Final/TypeT5/datasets/ManyTypes4Py/repos/downloaded/bachya__py17track not found. Skip.\n",
      "/Users/iamariyap/Desktop/sem4/NLP/Final/TypeT5/datasets/ManyTypes4Py/repos/downloaded/ipwnponies__myprotein_product_query not found. Skip.\n",
      "/Users/iamariyap/Desktop/sem4/NLP/Final/TypeT5/datasets/ManyTypes4Py/repos/downloaded/pathpy__pathpy not found. Skip.\n",
      "/Users/iamariyap/Desktop/sem4/NLP/Final/TypeT5/datasets/ManyTypes4Py/repos/downloaded/borley1211__adaptune not found. Skip.\n",
      "/Users/iamariyap/Desktop/sem4/NLP/Final/TypeT5/datasets/ManyTypes4Py/repos/downloaded/scivision__pymap3d not found. Skip.\n",
      "/Users/iamariyap/Desktop/sem4/NLP/Final/TypeT5/datasets/ManyTypes4Py/repos/downloaded/xNinjaKittyx__KoyomiBot not found. Skip.\n",
      "/Users/iamariyap/Desktop/sem4/NLP/Final/TypeT5/datasets/ManyTypes4Py/repos/downloaded/kurusugawa-computer__annofab-cli not found. Skip.\n",
      "/Users/iamariyap/Desktop/sem4/NLP/Final/TypeT5/datasets/ManyTypes4Py/repos/downloaded/postrational__gym-demo not found. Skip.\n",
      "/Users/iamariyap/Desktop/sem4/NLP/Final/TypeT5/datasets/ManyTypes4Py/repos/downloaded/freedomofpress__securedrop-client not found. Skip.\n",
      "/Users/iamariyap/Desktop/sem4/NLP/Final/TypeT5/datasets/ManyTypes4Py/repos/downloaded/space-physics__themisasi not found. Skip.\n",
      "/Users/iamariyap/Desktop/sem4/NLP/Final/TypeT5/datasets/ManyTypes4Py/repos/downloaded/futursolo__hiyori not found. Skip.\n",
      "/Users/iamariyap/Desktop/sem4/NLP/Final/TypeT5/datasets/ManyTypes4Py/repos/downloaded/arXiv__arxiv-canonical not found. Skip.\n",
      "/Users/iamariyap/Desktop/sem4/NLP/Final/TypeT5/datasets/ManyTypes4Py/repos/downloaded/SUNET__cnaas-nms not found. Skip.\n",
      "/Users/iamariyap/Desktop/sem4/NLP/Final/TypeT5/datasets/ManyTypes4Py/repos/downloaded/UAVCAN__Yukon not found. Skip.\n",
      "/Users/iamariyap/Desktop/sem4/NLP/Final/TypeT5/datasets/ManyTypes4Py/repos/downloaded/adamtheturtle__sphinx-substitution-extensions not found. Skip.\n",
      "/Users/iamariyap/Desktop/sem4/NLP/Final/TypeT5/datasets/ManyTypes4Py/repos/downloaded/matq007__fusion-report not found. Skip.\n",
      "/Users/iamariyap/Desktop/sem4/NLP/Final/TypeT5/datasets/ManyTypes4Py/repos/downloaded/stlehmann__Flask-MQTT not found. Skip.\n",
      "/Users/iamariyap/Desktop/sem4/NLP/Final/TypeT5/datasets/ManyTypes4Py/repos/downloaded/ethereum__py-evm not found. Skip.\n",
      "/Users/iamariyap/Desktop/sem4/NLP/Final/TypeT5/datasets/ManyTypes4Py/repos/downloaded/yasserfarouk__negmas not found. Skip.\n",
      "/Users/iamariyap/Desktop/sem4/NLP/Final/TypeT5/datasets/ManyTypes4Py/repos/downloaded/terzeron__FeedMaker not found. Skip.\n",
      "/Users/iamariyap/Desktop/sem4/NLP/Final/TypeT5/datasets/ManyTypes4Py/repos/downloaded/encode__httpx not found. Skip.\n",
      "/Users/iamariyap/Desktop/sem4/NLP/Final/TypeT5/datasets/ManyTypes4Py/repos/downloaded/twitter__caladrius not found. Skip.\n",
      "/Users/iamariyap/Desktop/sem4/NLP/Final/TypeT5/datasets/ManyTypes4Py/repos/downloaded/zurutech__ashpy not found. Skip.\n",
      "/Users/iamariyap/Desktop/sem4/NLP/Final/TypeT5/datasets/ManyTypes4Py/repos/downloaded/UIUCLibrary__HathiValidate not found. Skip.\n",
      "/Users/iamariyap/Desktop/sem4/NLP/Final/TypeT5/datasets/ManyTypes4Py/repos/downloaded/pwalch__share-file-qr not found. Skip.\n",
      "/Users/iamariyap/Desktop/sem4/NLP/Final/TypeT5/datasets/ManyTypes4Py/repos/downloaded/nikitanovosibirsk__packed not found. Skip.\n",
      "/Users/iamariyap/Desktop/sem4/NLP/Final/TypeT5/datasets/ManyTypes4Py/repos/downloaded/kmkurn__text2array not found. Skip.\n",
      "/Users/iamariyap/Desktop/sem4/NLP/Final/TypeT5/datasets/ManyTypes4Py/repos/downloaded/fyndata__lib-cl-sii-python not found. Skip.\n",
      "/Users/iamariyap/Desktop/sem4/NLP/Final/TypeT5/datasets/ManyTypes4Py/repos/downloaded/alexander-akhmetov__python-telegram not found. Skip.\n",
      "/Users/iamariyap/Desktop/sem4/NLP/Final/TypeT5/datasets/ManyTypes4Py/repos/downloaded/klaasjanelzinga__rss-aggreggator not found. Skip.\n",
      "/Users/iamariyap/Desktop/sem4/NLP/Final/TypeT5/datasets/ManyTypes4Py/repos/downloaded/kedarv__votey not found. Skip.\n",
      "/Users/iamariyap/Desktop/sem4/NLP/Final/TypeT5/datasets/ManyTypes4Py/repos/downloaded/10sr__webtools not found. Skip.\n",
      "/Users/iamariyap/Desktop/sem4/NLP/Final/TypeT5/datasets/ManyTypes4Py/repos/downloaded/kristaloverbeer__zoov not found. Skip.\n",
      "/Users/iamariyap/Desktop/sem4/NLP/Final/TypeT5/datasets/ManyTypes4Py/repos/downloaded/Shougo__deoppet.nvim not found. Skip.\n",
      "/Users/iamariyap/Desktop/sem4/NLP/Final/TypeT5/datasets/ManyTypes4Py/repos/downloaded/Melevir__rozental_as_a_service not found. Skip.\n",
      "/Users/iamariyap/Desktop/sem4/NLP/Final/TypeT5/datasets/ManyTypes4Py/repos/downloaded/encode__typesystem not found. Skip.\n",
      "/Users/iamariyap/Desktop/sem4/NLP/Final/TypeT5/datasets/ManyTypes4Py/repos/downloaded/collectiegroesbeek__collectiegroesbeek not found. Skip.\n",
      "/Users/iamariyap/Desktop/sem4/NLP/Final/TypeT5/datasets/ManyTypes4Py/repos/downloaded/kigawas__minichain not found. Skip.\n",
      "/Users/iamariyap/Desktop/sem4/NLP/Final/TypeT5/datasets/ManyTypes4Py/repos/downloaded/asvetlov__us-pycon-2019-tutorial not found. Skip.\n",
      "/Users/iamariyap/Desktop/sem4/NLP/Final/TypeT5/datasets/ManyTypes4Py/repos/downloaded/mattkohl__seed not found. Skip.\n",
      "/Users/iamariyap/Desktop/sem4/NLP/Final/TypeT5/datasets/ManyTypes4Py/repos/downloaded/nikitanovosibirsk__switch_case not found. Skip.\n",
      "/Users/iamariyap/Desktop/sem4/NLP/Final/TypeT5/datasets/ManyTypes4Py/repos/downloaded/hammerheadlemon__bcompiler-engine not found. Skip.\n",
      "/Users/iamariyap/Desktop/sem4/NLP/Final/TypeT5/datasets/ManyTypes4Py/repos/downloaded/adbpy__transports not found. Skip.\n",
      "/Users/iamariyap/Desktop/sem4/NLP/Final/TypeT5/datasets/ManyTypes4Py/repos/downloaded/donkirkby__zero-play not found. Skip.\n",
      "/Users/iamariyap/Desktop/sem4/NLP/Final/TypeT5/datasets/ManyTypes4Py/repos/downloaded/radeklat__todoist-habitica-sync not found. Skip.\n",
      "/Users/iamariyap/Desktop/sem4/NLP/Final/TypeT5/datasets/ManyTypes4Py/repos/downloaded/aio-libs__aioredis not found. Skip.\n",
      "/Users/iamariyap/Desktop/sem4/NLP/Final/TypeT5/datasets/ManyTypes4Py/repos/downloaded/boompig__secret-santa not found. Skip.\n",
      "/Users/iamariyap/Desktop/sem4/NLP/Final/TypeT5/datasets/ManyTypes4Py/repos/downloaded/sjquant__engster-server not found. Skip.\n",
      "/Users/iamariyap/Desktop/sem4/NLP/Final/TypeT5/datasets/ManyTypes4Py/repos/downloaded/amackillop__pymonads not found. Skip.\n",
      "/Users/iamariyap/Desktop/sem4/NLP/Final/TypeT5/datasets/ManyTypes4Py/repos/downloaded/frenck__python-twentemilieu not found. Skip.\n",
      "/Users/iamariyap/Desktop/sem4/NLP/Final/TypeT5/datasets/ManyTypes4Py/repos/downloaded/tarcisioe__ampdup not found. Skip.\n",
      "/Users/iamariyap/Desktop/sem4/NLP/Final/TypeT5/datasets/ManyTypes4Py/repos/downloaded/Cockatrice__Magic-Spoiler not found. Skip.\n",
      "/Users/iamariyap/Desktop/sem4/NLP/Final/TypeT5/datasets/ManyTypes4Py/repos/downloaded/lukeshiner__enigma not found. Skip.\n",
      "/Users/iamariyap/Desktop/sem4/NLP/Final/TypeT5/datasets/ManyTypes4Py/repos/downloaded/jabbalaci__Crypto-Converter not found. Skip.\n",
      "/Users/iamariyap/Desktop/sem4/NLP/Final/TypeT5/datasets/ManyTypes4Py/repos/downloaded/luracoin__luracoin-python not found. Skip.\n",
      "/Users/iamariyap/Desktop/sem4/NLP/Final/TypeT5/datasets/ManyTypes4Py/repos/downloaded/mbarkhau__markdown-svgbob not found. Skip.\n",
      "/Users/iamariyap/Desktop/sem4/NLP/Final/TypeT5/datasets/ManyTypes4Py/repos/downloaded/GuangTianLi__grpcalchemy not found. Skip.\n",
      "/Users/iamariyap/Desktop/sem4/NLP/Final/TypeT5/datasets/ManyTypes4Py/repos/downloaded/skytreader__wherewholf not found. Skip.\n",
      "/Users/iamariyap/Desktop/sem4/NLP/Final/TypeT5/datasets/ManyTypes4Py/repos/downloaded/zulip__python-zulip-api not found. Skip.\n",
      "/Users/iamariyap/Desktop/sem4/NLP/Final/TypeT5/datasets/ManyTypes4Py/repos/downloaded/Dmitrii-I__sportmonks not found. Skip.\n",
      "/Users/iamariyap/Desktop/sem4/NLP/Final/TypeT5/datasets/ManyTypes4Py/repos/downloaded/NCATS-Tangerine__kgx not found. Skip.\n",
      "/Users/iamariyap/Desktop/sem4/NLP/Final/TypeT5/datasets/ManyTypes4Py/repos/downloaded/deeplook__ipyrest not found. Skip.\n",
      "/Users/iamariyap/Desktop/sem4/NLP/Final/TypeT5/datasets/ManyTypes4Py/repos/downloaded/edudobay__injectpy not found. Skip.\n",
      "/Users/iamariyap/Desktop/sem4/NLP/Final/TypeT5/datasets/ManyTypes4Py/repos/downloaded/tornadoweb__tornado not found. Skip.\n",
      "/Users/iamariyap/Desktop/sem4/NLP/Final/TypeT5/datasets/ManyTypes4Py/repos/downloaded/common-workflow-language__cwltool not found. Skip.\n",
      "/Users/iamariyap/Desktop/sem4/NLP/Final/TypeT5/datasets/ManyTypes4Py/repos/downloaded/apljungquist__sprig not found. Skip.\n",
      "/Users/iamariyap/Desktop/sem4/NLP/Final/TypeT5/datasets/ManyTypes4Py/repos/downloaded/scivision__findssh not found. Skip.\n",
      "/Users/iamariyap/Desktop/sem4/NLP/Final/TypeT5/datasets/ManyTypes4Py/repos/downloaded/clarkperkins__saucerbot not found. Skip.\n",
      "/Users/iamariyap/Desktop/sem4/NLP/Final/TypeT5/datasets/ManyTypes4Py/repos/downloaded/aio-libs__aiorwlock not found. Skip.\n",
      "/Users/iamariyap/Desktop/sem4/NLP/Final/TypeT5/datasets/ManyTypes4Py/repos/downloaded/luphord__nelson_siegel_svensson not found. Skip.\n",
      "/Users/iamariyap/Desktop/sem4/NLP/Final/TypeT5/datasets/ManyTypes4Py/repos/downloaded/gbagnoli__devmachine not found. Skip.\n",
      "/Users/iamariyap/Desktop/sem4/NLP/Final/TypeT5/datasets/ManyTypes4Py/repos/downloaded/lig__mnj not found. Skip.\n",
      "/Users/iamariyap/Desktop/sem4/NLP/Final/TypeT5/datasets/ManyTypes4Py/repos/downloaded/niconoe__pyinaturalist not found. Skip.\n",
      "/Users/iamariyap/Desktop/sem4/NLP/Final/TypeT5/datasets/ManyTypes4Py/repos/downloaded/nubank__fklearn not found. Skip.\n",
      "/Users/iamariyap/Desktop/sem4/NLP/Final/TypeT5/datasets/ManyTypes4Py/repos/downloaded/aio-libs__aiohttp not found. Skip.\n",
      "/Users/iamariyap/Desktop/sem4/NLP/Final/TypeT5/datasets/ManyTypes4Py/repos/downloaded/typeddjango__pytest-mypy-plugins not found. Skip.\n",
      "/Users/iamariyap/Desktop/sem4/NLP/Final/TypeT5/datasets/ManyTypes4Py/repos/downloaded/jfly__jfly.github.io not found. Skip.\n",
      "/Users/iamariyap/Desktop/sem4/NLP/Final/TypeT5/datasets/ManyTypes4Py/repos/downloaded/seattleflu__id3c not found. Skip.\n",
      "/Users/iamariyap/Desktop/sem4/NLP/Final/TypeT5/datasets/ManyTypes4Py/repos/downloaded/kornicameister__axion not found. Skip.\n",
      "/Users/iamariyap/Desktop/sem4/NLP/Final/TypeT5/datasets/ManyTypes4Py/repos/downloaded/antonagestam__collectfast not found. Skip.\n",
      "/Users/iamariyap/Desktop/sem4/NLP/Final/TypeT5/datasets/ManyTypes4Py/repos/downloaded/silasary__discord_connotations not found. Skip.\n",
      "/Users/iamariyap/Desktop/sem4/NLP/Final/TypeT5/datasets/ManyTypes4Py/repos/downloaded/nabla-c0d3__sslyze not found. Skip.\n",
      "/Users/iamariyap/Desktop/sem4/NLP/Final/TypeT5/datasets/ManyTypes4Py/repos/downloaded/dropbox__sqlalchemy-stubs not found. Skip.\n",
      "/Users/iamariyap/Desktop/sem4/NLP/Final/TypeT5/datasets/ManyTypes4Py/repos/downloaded/scalableminds__webknossos-connect not found. Skip.\n",
      "/Users/iamariyap/Desktop/sem4/NLP/Final/TypeT5/datasets/ManyTypes4Py/repos/downloaded/ocf__slackbridge not found. Skip.\n",
      "/Users/iamariyap/Desktop/sem4/NLP/Final/TypeT5/datasets/ManyTypes4Py/repos/downloaded/cliffxuan__mew not found. Skip.\n",
      "/Users/iamariyap/Desktop/sem4/NLP/Final/TypeT5/datasets/ManyTypes4Py/repos/downloaded/lucaswerkmeister__tool-quickcategories not found. Skip.\n",
      "/Users/iamariyap/Desktop/sem4/NLP/Final/TypeT5/datasets/ManyTypes4Py/repos/downloaded/everyclass__everyclass-server not found. Skip.\n",
      "/Users/iamariyap/Desktop/sem4/NLP/Final/TypeT5/datasets/ManyTypes4Py/repos/downloaded/eirannejad__calcatime not found. Skip.\n",
      "/Users/iamariyap/Desktop/sem4/NLP/Final/TypeT5/datasets/ManyTypes4Py/repos/downloaded/srittau__FakeSMTPd not found. Skip.\n",
      "/Users/iamariyap/Desktop/sem4/NLP/Final/TypeT5/datasets/ManyTypes4Py/repos/downloaded/flopp__unicode-explorer not found. Skip.\n",
      "/Users/iamariyap/Desktop/sem4/NLP/Final/TypeT5/datasets/ManyTypes4Py/repos/downloaded/amplify-education__python-hcl2 not found. Skip.\n",
      "/Users/iamariyap/Desktop/sem4/NLP/Final/TypeT5/datasets/ManyTypes4Py/repos/downloaded/lebrice__blurred-GAN not found. Skip.\n",
      "/Users/iamariyap/Desktop/sem4/NLP/Final/TypeT5/datasets/ManyTypes4Py/repos/downloaded/futursolo__magichttp not found. Skip.\n",
      "/Users/iamariyap/Desktop/sem4/NLP/Final/TypeT5/datasets/ManyTypes4Py/repos/downloaded/albertyw__albertyw.com not found. Skip.\n",
      "/Users/iamariyap/Desktop/sem4/NLP/Final/TypeT5/datasets/ManyTypes4Py/repos/downloaded/jreese__aql not found. Skip.\n",
      "/Users/iamariyap/Desktop/sem4/NLP/Final/TypeT5/datasets/ManyTypes4Py/repos/downloaded/webrecorder__browsertrix not found. Skip.\n",
      "/Users/iamariyap/Desktop/sem4/NLP/Final/TypeT5/datasets/ManyTypes4Py/repos/downloaded/flopp__GpxTrackPoster not found. Skip.\n",
      "/Users/iamariyap/Desktop/sem4/NLP/Final/TypeT5/datasets/ManyTypes4Py/repos/downloaded/ohjames__babies not found. Skip.\n",
      "/Users/iamariyap/Desktop/sem4/NLP/Final/TypeT5/datasets/ManyTypes4Py/repos/downloaded/Gerschtli__teamspeak-update-notifier not found. Skip.\n",
      "/Users/iamariyap/Desktop/sem4/NLP/Final/TypeT5/datasets/ManyTypes4Py/repos/downloaded/marcosschroh__dataclasses-avroschema not found. Skip.\n",
      "/Users/iamariyap/Desktop/sem4/NLP/Final/TypeT5/datasets/ManyTypes4Py/repos/downloaded/ClearcodeHQ__mirakuru not found. Skip.\n",
      "/Users/iamariyap/Desktop/sem4/NLP/Final/TypeT5/datasets/ManyTypes4Py/repos/downloaded/JakobGM__quelf not found. Skip.\n",
      "/Users/iamariyap/Desktop/sem4/NLP/Final/TypeT5/datasets/ManyTypes4Py/repos/downloaded/basilisp-lang__basilisp not found. Skip.\n",
      "/Users/iamariyap/Desktop/sem4/NLP/Final/TypeT5/datasets/ManyTypes4Py/repos/downloaded/paulcwatts__drf-json-schema not found. Skip.\n",
      "/Users/iamariyap/Desktop/sem4/NLP/Final/TypeT5/datasets/ManyTypes4Py/repos/downloaded/ActivityWatch__aw-research not found. Skip.\n",
      "/Users/iamariyap/Desktop/sem4/NLP/Final/TypeT5/datasets/ManyTypes4Py/repos/downloaded/nubark__instark not found. Skip.\n",
      "/Users/iamariyap/Desktop/sem4/NLP/Final/TypeT5/datasets/ManyTypes4Py/repos/downloaded/knowark__estimark not found. Skip.\n",
      "/Users/iamariyap/Desktop/sem4/NLP/Final/TypeT5/datasets/ManyTypes4Py/repos/downloaded/linw1995__data_extractor not found. Skip.\n",
      "/Users/iamariyap/Desktop/sem4/NLP/Final/TypeT5/datasets/ManyTypes4Py/repos/downloaded/payscale__fables not found. Skip.\n",
      "/Users/iamariyap/Desktop/sem4/NLP/Final/TypeT5/datasets/ManyTypes4Py/repos/downloaded/jelford__webwatcher not found. Skip.\n",
      "/Users/iamariyap/Desktop/sem4/NLP/Final/TypeT5/datasets/ManyTypes4Py/repos/downloaded/reddit__baseplate.py-upgrader not found. Skip.\n",
      "/Users/iamariyap/Desktop/sem4/NLP/Final/TypeT5/datasets/ManyTypes4Py/repos/downloaded/yeraydiazdiaz__wait_for_it.py not found. Skip.\n",
      "/Users/iamariyap/Desktop/sem4/NLP/Final/TypeT5/datasets/ManyTypes4Py/repos/downloaded/TomerFi__aioswitcher not found. Skip.\n",
      "/Users/iamariyap/Desktop/sem4/NLP/Final/TypeT5/datasets/ManyTypes4Py/repos/downloaded/AxelVoitier__lookups not found. Skip.\n",
      "/Users/iamariyap/Desktop/sem4/NLP/Final/TypeT5/datasets/ManyTypes4Py/repos/downloaded/ammarnajjar__pautomate not found. Skip.\n",
      "/Users/iamariyap/Desktop/sem4/NLP/Final/TypeT5/datasets/ManyTypes4Py/repos/downloaded/albertyw__git-browse not found. Skip.\n",
      "/Users/iamariyap/Desktop/sem4/NLP/Final/TypeT5/datasets/ManyTypes4Py/repos/downloaded/brettkromkamp__topic-db not found. Skip.\n",
      "/Users/iamariyap/Desktop/sem4/NLP/Final/TypeT5/datasets/ManyTypes4Py/repos/downloaded/ShadowTemplate__beautiful-python-3 not found. Skip.\n",
      "/Users/iamariyap/Desktop/sem4/NLP/Final/TypeT5/datasets/ManyTypes4Py/repos/downloaded/joshtemple__lkml not found. Skip.\n",
      "/Users/iamariyap/Desktop/sem4/NLP/Final/TypeT5/datasets/ManyTypes4Py/repos/downloaded/boompig__book-classics not found. Skip.\n",
      "/Users/iamariyap/Desktop/sem4/NLP/Final/TypeT5/datasets/ManyTypes4Py/repos/downloaded/road-master__video-archiver not found. Skip.\n",
      "/Users/iamariyap/Desktop/sem4/NLP/Final/TypeT5/datasets/ManyTypes4Py/repos/downloaded/sonic182__aiosonic not found. Skip.\n",
      "/Users/iamariyap/Desktop/sem4/NLP/Final/TypeT5/datasets/ManyTypes4Py/repos/downloaded/kitsuyui__bamboo-crawler not found. Skip.\n",
      "/Users/iamariyap/Desktop/sem4/NLP/Final/TypeT5/datasets/ManyTypes4Py/repos/downloaded/rakitaj__daily-programmer not found. Skip.\n",
      "/Users/iamariyap/Desktop/sem4/NLP/Final/TypeT5/datasets/ManyTypes4Py/repos/downloaded/python-kol__libkol not found. Skip.\n",
      "/Users/iamariyap/Desktop/sem4/NLP/Final/TypeT5/datasets/ManyTypes4Py/repos/downloaded/common-workflow-language__schema_salad not found. Skip.\n",
      "/Users/iamariyap/Desktop/sem4/NLP/Final/TypeT5/datasets/ManyTypes4Py/repos/downloaded/shulcsm__vies-vat-check not found. Skip.\n",
      "/Users/iamariyap/Desktop/sem4/NLP/Final/TypeT5/datasets/ManyTypes4Py/repos/downloaded/public-law__oregon-administrative-rules-parser not found. Skip.\n",
      "/Users/iamariyap/Desktop/sem4/NLP/Final/TypeT5/datasets/ManyTypes4Py/repos/downloaded/qsweber__lunch-buddies not found. Skip.\n",
      "/Users/iamariyap/Desktop/sem4/NLP/Final/TypeT5/datasets/ManyTypes4Py/repos/downloaded/JustFixNYC__who-owns-what not found. Skip.\n",
      "/Users/iamariyap/Desktop/sem4/NLP/Final/TypeT5/datasets/ManyTypes4Py/repos/downloaded/mergermarket__snyk-access not found. Skip.\n",
      "/Users/iamariyap/Desktop/sem4/NLP/Final/TypeT5/datasets/ManyTypes4Py/repos/downloaded/albertyw__csv-ical not found. Skip.\n",
      "/Users/iamariyap/Desktop/sem4/NLP/Final/TypeT5/datasets/ManyTypes4Py/repos/downloaded/vyahello__todo-task-manager not found. Skip.\n",
      "/Users/iamariyap/Desktop/sem4/NLP/Final/TypeT5/datasets/ManyTypes4Py/repos/downloaded/torchvideo__torchvideo not found. Skip.\n",
      "/Users/iamariyap/Desktop/sem4/NLP/Final/TypeT5/datasets/ManyTypes4Py/repos/downloaded/druids__django-GDPR not found. Skip.\n",
      "/Users/iamariyap/Desktop/sem4/NLP/Final/TypeT5/datasets/ManyTypes4Py/repos/downloaded/nucypher__nucypher not found. Skip.\n",
      "/Users/iamariyap/Desktop/sem4/NLP/Final/TypeT5/datasets/ManyTypes4Py/repos/downloaded/jspahrsummers__adt not found. Skip.\n",
      "/Users/iamariyap/Desktop/sem4/NLP/Final/TypeT5/datasets/ManyTypes4Py/repos/downloaded/bachya__aioambient not found. Skip.\n",
      "/Users/iamariyap/Desktop/sem4/NLP/Final/TypeT5/datasets/ManyTypes4Py/repos/downloaded/gbagnoli__photo_process not found. Skip.\n",
      "/Users/iamariyap/Desktop/sem4/NLP/Final/TypeT5/datasets/ManyTypes4Py/repos/downloaded/DevinSit__kubails not found. Skip.\n",
      "/Users/iamariyap/Desktop/sem4/NLP/Final/TypeT5/datasets/ManyTypes4Py/repos/downloaded/keithasaurus__simple_html not found. Skip.\n",
      "/Users/iamariyap/Desktop/sem4/NLP/Final/TypeT5/datasets/ManyTypes4Py/repos/downloaded/inbo__pyinaturalist not found. Skip.\n",
      "/Users/iamariyap/Desktop/sem4/NLP/Final/TypeT5/datasets/ManyTypes4Py/repos/downloaded/farmOS__farmOS-aggregator not found. Skip.\n",
      "/Users/iamariyap/Desktop/sem4/NLP/Final/TypeT5/datasets/ManyTypes4Py/repos/downloaded/m-j__zippero-server not found. Skip.\n",
      "/Users/iamariyap/Desktop/sem4/NLP/Final/TypeT5/datasets/ManyTypes4Py/repos/downloaded/eng1nerd__tgeraser not found. Skip.\n",
      "/Users/iamariyap/Desktop/sem4/NLP/Final/TypeT5/datasets/ManyTypes4Py/repos/downloaded/mtgjson__mtgjson not found. Skip.\n",
      "/Users/iamariyap/Desktop/sem4/NLP/Final/TypeT5/datasets/ManyTypes4Py/repos/downloaded/woltapp__celery-farmer not found. Skip.\n",
      "/Users/iamariyap/Desktop/sem4/NLP/Final/TypeT5/datasets/ManyTypes4Py/repos/downloaded/albertyw__base-flask not found. Skip.\n",
      "/Users/iamariyap/Desktop/sem4/NLP/Final/TypeT5/datasets/ManyTypes4Py/repos/downloaded/dacut__dynamodb-user-manager not found. Skip.\n",
      "/Users/iamariyap/Desktop/sem4/NLP/Final/TypeT5/datasets/ManyTypes4Py/repos/downloaded/vint21h__django-opensearch not found. Skip.\n",
      "/Users/iamariyap/Desktop/sem4/NLP/Final/TypeT5/datasets/ManyTypes4Py/repos/downloaded/bitranox__fingerprint not found. Skip.\n",
      "/Users/iamariyap/Desktop/sem4/NLP/Final/TypeT5/datasets/ManyTypes4Py/repos/downloaded/sandal-tan__pyenvclasses not found. Skip.\n",
      "/Users/iamariyap/Desktop/sem4/NLP/Final/TypeT5/datasets/ManyTypes4Py/repos/downloaded/raiden-network__raiden-contracts not found. Skip.\n",
      "/Users/iamariyap/Desktop/sem4/NLP/Final/TypeT5/datasets/ManyTypes4Py/repos/downloaded/silasary__iwazaru_bot not found. Skip.\n",
      "/Users/iamariyap/Desktop/sem4/NLP/Final/TypeT5/datasets/ManyTypes4Py/repos/downloaded/joinandplaycoop__Bot not found. Skip.\n",
      "/Users/iamariyap/Desktop/sem4/NLP/Final/TypeT5/datasets/ManyTypes4Py/repos/downloaded/nuxeo__nuxeo-drive not found. Skip.\n",
      "/Users/iamariyap/Desktop/sem4/NLP/Final/TypeT5/datasets/ManyTypes4Py/repos/downloaded/harrystech__arthur-redshift-etl not found. Skip.\n",
      "/Users/iamariyap/Desktop/sem4/NLP/Final/TypeT5/datasets/ManyTypes4Py/repos/downloaded/hCaptcha__hmt-basemodels not found. Skip.\n",
      "/Users/iamariyap/Desktop/sem4/NLP/Final/TypeT5/datasets/ManyTypes4Py/repos/downloaded/What-If-I__read-it not found. Skip.\n",
      "/Users/iamariyap/Desktop/sem4/NLP/Final/TypeT5/datasets/ManyTypes4Py/repos/downloaded/space-physics__dmcutils not found. Skip.\n",
      "/Users/iamariyap/Desktop/sem4/NLP/Final/TypeT5/datasets/ManyTypes4Py/repos/downloaded/scivision__pysumix not found. Skip.\n",
      "/Users/iamariyap/Desktop/sem4/NLP/Final/TypeT5/datasets/ManyTypes4Py/repos/downloaded/srobo__competition-team-minutes not found. Skip.\n",
      "/Users/iamariyap/Desktop/sem4/NLP/Final/TypeT5/datasets/ManyTypes4Py/repos/downloaded/svsticky__pxl not found. Skip.\n",
      "/Users/iamariyap/Desktop/sem4/NLP/Final/TypeT5/datasets/ManyTypes4Py/repos/downloaded/jfcherng__Sublime-AutoSetIndentation not found. Skip.\n"
     ]
    }
   ],
   "source": [
    "# This is our own implementation to split the data depending on the split pickle file\n",
    "\n",
    "from typet5.utils import pickle_load\n",
    "from typet5.data import get_dataset_dir, get_tk_dataset_name, PreprocessArgs\n",
    "import shutil\n",
    "\n",
    "sdata = pickle_load(proj_root() / \"data/repos_split.pkl\")\n",
    "\n",
    "repos_dir = get_dataset_dir(\"ManyTypes4Py\") / \"repos\"\n",
    "\n",
    "\n",
    "for n in [\"train\", \"test\", \"valid\"]:\n",
    "    for i in range(0, len(sdata[n])):\n",
    "        original = repos_dir / \"downloaded\" / sdata[n][i].authorname()\n",
    "        if not original.exists():\n",
    "            print(f\"{original} not found. Skip.\")\n",
    "            continue\n",
    "        shutil.move(original ,repos_dir / n / sdata[n][i].authorname() )\n",
    "\n",
    "\n",
    "# sdata[\"valid\"][0].download(repos_dir)"
   ]
  },
  {
   "cell_type": "code",
   "execution_count": 22,
   "metadata": {},
   "outputs": [
    {
     "name": "stdout",
     "output_type": "stream",
     "text": [
      "The autoreload extension is already loaded. To reload it, use:\n",
      "  %reload_ext autoreload\n"
     ]
    }
   ],
   "source": [
    "# Run form here: Analyzing TokenizedSrcSet.\n",
    "\n",
    "%load_ext autoreload\n",
    "%autoreload 2\n",
    "\n",
    "import pickle\n",
    "\n",
    "from typet5 import proj_root\n",
    "from typet5.data import get_dataset_dir, get_tk_dataset_name, PreprocessArgs\n",
    "import typet5.function_dataset as fd\n",
    "from typet5.utils import Path, run_long_task, DefaultTokenizer, not_none\n",
    "import subprocess\n",
    "from typet5.utils import proj_root, get_dataroot\n",
    "\n",
    "dataset_name = \"ManyTypes4Py\"\n",
    "# repos_split_path = proj_root() /  \"data/repos_split.pkl\"\n",
    "repos_dir = get_dataset_dir(\"ManyTypes4Py\") / \"repos\"\n",
    "\n",
    "recreate = False\n",
    "func_only = True # whether to create functional data (for TypeT5) or chunk data (for CodeT5)\n",
    "pre_args = PreprocessArgs(\n",
    "    # This was for an ablation study. \n",
    "    drop_env_types=True,\n",
    "    stub_in_preamble=True,\n",
    ")\n",
    "data_reduction = 1\n",
    "\n",
    "tk_src_name = get_tk_dataset_name(\n",
    "    dataset_name, pre_args, func_only, data_reduction=data_reduction,\n",
    ")\n",
    "datasets_path = get_dataroot() / \"SPOT-data\" / tk_src_name"
   ]
  },
  {
   "cell_type": "code",
   "execution_count": 10,
   "metadata": {},
   "outputs": [
    {
     "name": "stdout",
     "output_type": "stream",
     "text": [
      "func-ManyTypes4Py-v7-PreprocessArgs(drop_env_types=True)  token source name\n",
      "Loading TokenizedSrcSets:  /Users/iamariyap/Desktop/sem4/NLP/Final/TypeT5/SPOT-data/func-ManyTypes4Py-v7-PreprocessArgs(drop_env_types=True)\n",
      "805M\t/Users/iamariyap/Desktop/sem4/NLP/Final/TypeT5/SPOT-data/func-ManyTypes4Py-v7-PreprocessArgs(drop_env_types=True)\n"
     ]
    }
   ],
   "source": [
    "from typet5.data import create_tokenized_srcsets, load_tokenized_srcsets\n",
    "if recreate or not datasets_path.exists():\n",
    "    create_tokenized_srcsets(\n",
    "        # proj_root() / \"data/repos_split.pkl\",\n",
    "        proj_root() / \"datasets/ManyTypes4Py/\",\n",
    "        datasets_path,\n",
    "        func_only=func_only,\n",
    "        pre_args=pre_args,\n",
    "        data_reduction=data_reduction,\n",
    "    )\n",
    "\n",
    "print(tk_src_name, \" token source name\")    \n",
    "tk_dataset = load_tokenized_srcsets(\n",
    "    # proj_root() / \"data/repos_split.pkl\",\n",
    "    proj_root() / \"SPOT-data/func-ManyTypes4Py-v7-PreprocessArgs(drop_env_types=True)\",\n",
    "    tk_src_name,\n",
    ")\n"
   ]
  },
  {
   "cell_type": "code",
   "execution_count": 11,
   "metadata": {},
   "outputs": [
    {
     "ename": "ValueError",
     "evalue": "Mime type rendering requires nbformat>=4.2.0 but it is not installed",
     "output_type": "error",
     "traceback": [
      "\u001b[0;31m---------------------------------------------------------------------------\u001b[0m",
      "\u001b[0;31mValueError\u001b[0m                                Traceback (most recent call last)",
      "File \u001b[0;32m~/.local/share/virtualenvs/TypeT5-FT5_H3hH/lib/python3.10/site-packages/IPython/core/formatters.py:922\u001b[0m, in \u001b[0;36mIPythonDisplayFormatter.__call__\u001b[0;34m(self, obj)\u001b[0m\n\u001b[1;32m    920\u001b[0m method \u001b[39m=\u001b[39m get_real_method(obj, \u001b[39mself\u001b[39m\u001b[39m.\u001b[39mprint_method)\n\u001b[1;32m    921\u001b[0m \u001b[39mif\u001b[39;00m method \u001b[39mis\u001b[39;00m \u001b[39mnot\u001b[39;00m \u001b[39mNone\u001b[39;00m:\n\u001b[0;32m--> 922\u001b[0m     method()\n\u001b[1;32m    923\u001b[0m     \u001b[39mreturn\u001b[39;00m \u001b[39mTrue\u001b[39;00m\n",
      "File \u001b[0;32m~/.local/share/virtualenvs/TypeT5-FT5_H3hH/lib/python3.10/site-packages/plotly/basedatatypes.py:834\u001b[0m, in \u001b[0;36mBaseFigure._ipython_display_\u001b[0;34m(self)\u001b[0m\n\u001b[1;32m    831\u001b[0m \u001b[39mimport\u001b[39;00m \u001b[39mplotly\u001b[39;00m\u001b[39m.\u001b[39;00m\u001b[39mio\u001b[39;00m \u001b[39mas\u001b[39;00m \u001b[39mpio\u001b[39;00m\n\u001b[1;32m    833\u001b[0m \u001b[39mif\u001b[39;00m pio\u001b[39m.\u001b[39mrenderers\u001b[39m.\u001b[39mrender_on_display \u001b[39mand\u001b[39;00m pio\u001b[39m.\u001b[39mrenderers\u001b[39m.\u001b[39mdefault:\n\u001b[0;32m--> 834\u001b[0m     pio\u001b[39m.\u001b[39;49mshow(\u001b[39mself\u001b[39;49m)\n\u001b[1;32m    835\u001b[0m \u001b[39melse\u001b[39;00m:\n\u001b[1;32m    836\u001b[0m     \u001b[39mprint\u001b[39m(\u001b[39mrepr\u001b[39m(\u001b[39mself\u001b[39m))\n",
      "File \u001b[0;32m~/.local/share/virtualenvs/TypeT5-FT5_H3hH/lib/python3.10/site-packages/plotly/io/_renderers.py:396\u001b[0m, in \u001b[0;36mshow\u001b[0;34m(fig, renderer, validate, **kwargs)\u001b[0m\n\u001b[1;32m    391\u001b[0m         \u001b[39mraise\u001b[39;00m \u001b[39mValueError\u001b[39;00m(\n\u001b[1;32m    392\u001b[0m             \u001b[39m\"\u001b[39m\u001b[39mMime type rendering requires ipython but it is not installed\u001b[39m\u001b[39m\"\u001b[39m\n\u001b[1;32m    393\u001b[0m         )\n\u001b[1;32m    395\u001b[0m     \u001b[39mif\u001b[39;00m \u001b[39mnot\u001b[39;00m nbformat \u001b[39mor\u001b[39;00m Version(nbformat\u001b[39m.\u001b[39m__version__) \u001b[39m<\u001b[39m Version(\u001b[39m\"\u001b[39m\u001b[39m4.2.0\u001b[39m\u001b[39m\"\u001b[39m):\n\u001b[0;32m--> 396\u001b[0m         \u001b[39mraise\u001b[39;00m \u001b[39mValueError\u001b[39;00m(\n\u001b[1;32m    397\u001b[0m             \u001b[39m\"\u001b[39m\u001b[39mMime type rendering requires nbformat>=4.2.0 but it is not installed\u001b[39m\u001b[39m\"\u001b[39m\n\u001b[1;32m    398\u001b[0m         )\n\u001b[1;32m    400\u001b[0m     ipython_display\u001b[39m.\u001b[39mdisplay(bundle, raw\u001b[39m=\u001b[39m\u001b[39mTrue\u001b[39;00m)\n\u001b[1;32m    402\u001b[0m \u001b[39m# external renderers\u001b[39;00m\n",
      "\u001b[0;31mValueError\u001b[0m: Mime type rendering requires nbformat>=4.2.0 but it is not installed"
     ]
    },
    {
     "data": {
      "application/vnd.plotly.v1+json": {
       "config": {
        "plotlyServerURL": "https://plot.ly"
       },
       "data": [
        {
         "hovertemplate": "tokens_per_file=%{x}<br>n_files=%{y}<extra></extra>",
         "legendgroup": "",
         "line": {
          "color": "#636efa",
          "dash": "solid"
         },
         "marker": {
          "symbol": "circle"
         },
         "mode": "lines",
         "name": "",
         "orientation": "v",
         "showlegend": false,
         "type": "scatter",
         "x": [
          57,
          71,
          89,
          129,
          244,
          323,
          339,
          655,
          682,
          1814,
          2578
         ],
         "xaxis": "x",
         "y": [
          1,
          2,
          3,
          4,
          5,
          6,
          7,
          8,
          9,
          10,
          11
         ],
         "yaxis": "y"
        }
       ],
       "layout": {
        "legend": {
         "tracegroupgap": 0
        },
        "margin": {
         "t": 60
        },
        "template": {
         "data": {
          "bar": [
           {
            "error_x": {
             "color": "#2a3f5f"
            },
            "error_y": {
             "color": "#2a3f5f"
            },
            "marker": {
             "line": {
              "color": "#E5ECF6",
              "width": 0.5
             },
             "pattern": {
              "fillmode": "overlay",
              "size": 10,
              "solidity": 0.2
             }
            },
            "type": "bar"
           }
          ],
          "barpolar": [
           {
            "marker": {
             "line": {
              "color": "#E5ECF6",
              "width": 0.5
             },
             "pattern": {
              "fillmode": "overlay",
              "size": 10,
              "solidity": 0.2
             }
            },
            "type": "barpolar"
           }
          ],
          "carpet": [
           {
            "aaxis": {
             "endlinecolor": "#2a3f5f",
             "gridcolor": "white",
             "linecolor": "white",
             "minorgridcolor": "white",
             "startlinecolor": "#2a3f5f"
            },
            "baxis": {
             "endlinecolor": "#2a3f5f",
             "gridcolor": "white",
             "linecolor": "white",
             "minorgridcolor": "white",
             "startlinecolor": "#2a3f5f"
            },
            "type": "carpet"
           }
          ],
          "choropleth": [
           {
            "colorbar": {
             "outlinewidth": 0,
             "ticks": ""
            },
            "type": "choropleth"
           }
          ],
          "contour": [
           {
            "colorbar": {
             "outlinewidth": 0,
             "ticks": ""
            },
            "colorscale": [
             [
              0,
              "#0d0887"
             ],
             [
              0.1111111111111111,
              "#46039f"
             ],
             [
              0.2222222222222222,
              "#7201a8"
             ],
             [
              0.3333333333333333,
              "#9c179e"
             ],
             [
              0.4444444444444444,
              "#bd3786"
             ],
             [
              0.5555555555555556,
              "#d8576b"
             ],
             [
              0.6666666666666666,
              "#ed7953"
             ],
             [
              0.7777777777777778,
              "#fb9f3a"
             ],
             [
              0.8888888888888888,
              "#fdca26"
             ],
             [
              1,
              "#f0f921"
             ]
            ],
            "type": "contour"
           }
          ],
          "contourcarpet": [
           {
            "colorbar": {
             "outlinewidth": 0,
             "ticks": ""
            },
            "type": "contourcarpet"
           }
          ],
          "heatmap": [
           {
            "colorbar": {
             "outlinewidth": 0,
             "ticks": ""
            },
            "colorscale": [
             [
              0,
              "#0d0887"
             ],
             [
              0.1111111111111111,
              "#46039f"
             ],
             [
              0.2222222222222222,
              "#7201a8"
             ],
             [
              0.3333333333333333,
              "#9c179e"
             ],
             [
              0.4444444444444444,
              "#bd3786"
             ],
             [
              0.5555555555555556,
              "#d8576b"
             ],
             [
              0.6666666666666666,
              "#ed7953"
             ],
             [
              0.7777777777777778,
              "#fb9f3a"
             ],
             [
              0.8888888888888888,
              "#fdca26"
             ],
             [
              1,
              "#f0f921"
             ]
            ],
            "type": "heatmap"
           }
          ],
          "heatmapgl": [
           {
            "colorbar": {
             "outlinewidth": 0,
             "ticks": ""
            },
            "colorscale": [
             [
              0,
              "#0d0887"
             ],
             [
              0.1111111111111111,
              "#46039f"
             ],
             [
              0.2222222222222222,
              "#7201a8"
             ],
             [
              0.3333333333333333,
              "#9c179e"
             ],
             [
              0.4444444444444444,
              "#bd3786"
             ],
             [
              0.5555555555555556,
              "#d8576b"
             ],
             [
              0.6666666666666666,
              "#ed7953"
             ],
             [
              0.7777777777777778,
              "#fb9f3a"
             ],
             [
              0.8888888888888888,
              "#fdca26"
             ],
             [
              1,
              "#f0f921"
             ]
            ],
            "type": "heatmapgl"
           }
          ],
          "histogram": [
           {
            "marker": {
             "pattern": {
              "fillmode": "overlay",
              "size": 10,
              "solidity": 0.2
             }
            },
            "type": "histogram"
           }
          ],
          "histogram2d": [
           {
            "colorbar": {
             "outlinewidth": 0,
             "ticks": ""
            },
            "colorscale": [
             [
              0,
              "#0d0887"
             ],
             [
              0.1111111111111111,
              "#46039f"
             ],
             [
              0.2222222222222222,
              "#7201a8"
             ],
             [
              0.3333333333333333,
              "#9c179e"
             ],
             [
              0.4444444444444444,
              "#bd3786"
             ],
             [
              0.5555555555555556,
              "#d8576b"
             ],
             [
              0.6666666666666666,
              "#ed7953"
             ],
             [
              0.7777777777777778,
              "#fb9f3a"
             ],
             [
              0.8888888888888888,
              "#fdca26"
             ],
             [
              1,
              "#f0f921"
             ]
            ],
            "type": "histogram2d"
           }
          ],
          "histogram2dcontour": [
           {
            "colorbar": {
             "outlinewidth": 0,
             "ticks": ""
            },
            "colorscale": [
             [
              0,
              "#0d0887"
             ],
             [
              0.1111111111111111,
              "#46039f"
             ],
             [
              0.2222222222222222,
              "#7201a8"
             ],
             [
              0.3333333333333333,
              "#9c179e"
             ],
             [
              0.4444444444444444,
              "#bd3786"
             ],
             [
              0.5555555555555556,
              "#d8576b"
             ],
             [
              0.6666666666666666,
              "#ed7953"
             ],
             [
              0.7777777777777778,
              "#fb9f3a"
             ],
             [
              0.8888888888888888,
              "#fdca26"
             ],
             [
              1,
              "#f0f921"
             ]
            ],
            "type": "histogram2dcontour"
           }
          ],
          "mesh3d": [
           {
            "colorbar": {
             "outlinewidth": 0,
             "ticks": ""
            },
            "type": "mesh3d"
           }
          ],
          "parcoords": [
           {
            "line": {
             "colorbar": {
              "outlinewidth": 0,
              "ticks": ""
             }
            },
            "type": "parcoords"
           }
          ],
          "pie": [
           {
            "automargin": true,
            "type": "pie"
           }
          ],
          "scatter": [
           {
            "fillpattern": {
             "fillmode": "overlay",
             "size": 10,
             "solidity": 0.2
            },
            "type": "scatter"
           }
          ],
          "scatter3d": [
           {
            "line": {
             "colorbar": {
              "outlinewidth": 0,
              "ticks": ""
             }
            },
            "marker": {
             "colorbar": {
              "outlinewidth": 0,
              "ticks": ""
             }
            },
            "type": "scatter3d"
           }
          ],
          "scattercarpet": [
           {
            "marker": {
             "colorbar": {
              "outlinewidth": 0,
              "ticks": ""
             }
            },
            "type": "scattercarpet"
           }
          ],
          "scattergeo": [
           {
            "marker": {
             "colorbar": {
              "outlinewidth": 0,
              "ticks": ""
             }
            },
            "type": "scattergeo"
           }
          ],
          "scattergl": [
           {
            "marker": {
             "colorbar": {
              "outlinewidth": 0,
              "ticks": ""
             }
            },
            "type": "scattergl"
           }
          ],
          "scattermapbox": [
           {
            "marker": {
             "colorbar": {
              "outlinewidth": 0,
              "ticks": ""
             }
            },
            "type": "scattermapbox"
           }
          ],
          "scatterpolar": [
           {
            "marker": {
             "colorbar": {
              "outlinewidth": 0,
              "ticks": ""
             }
            },
            "type": "scatterpolar"
           }
          ],
          "scatterpolargl": [
           {
            "marker": {
             "colorbar": {
              "outlinewidth": 0,
              "ticks": ""
             }
            },
            "type": "scatterpolargl"
           }
          ],
          "scatterternary": [
           {
            "marker": {
             "colorbar": {
              "outlinewidth": 0,
              "ticks": ""
             }
            },
            "type": "scatterternary"
           }
          ],
          "surface": [
           {
            "colorbar": {
             "outlinewidth": 0,
             "ticks": ""
            },
            "colorscale": [
             [
              0,
              "#0d0887"
             ],
             [
              0.1111111111111111,
              "#46039f"
             ],
             [
              0.2222222222222222,
              "#7201a8"
             ],
             [
              0.3333333333333333,
              "#9c179e"
             ],
             [
              0.4444444444444444,
              "#bd3786"
             ],
             [
              0.5555555555555556,
              "#d8576b"
             ],
             [
              0.6666666666666666,
              "#ed7953"
             ],
             [
              0.7777777777777778,
              "#fb9f3a"
             ],
             [
              0.8888888888888888,
              "#fdca26"
             ],
             [
              1,
              "#f0f921"
             ]
            ],
            "type": "surface"
           }
          ],
          "table": [
           {
            "cells": {
             "fill": {
              "color": "#EBF0F8"
             },
             "line": {
              "color": "white"
             }
            },
            "header": {
             "fill": {
              "color": "#C8D4E3"
             },
             "line": {
              "color": "white"
             }
            },
            "type": "table"
           }
          ]
         },
         "layout": {
          "annotationdefaults": {
           "arrowcolor": "#2a3f5f",
           "arrowhead": 0,
           "arrowwidth": 1
          },
          "autotypenumbers": "strict",
          "coloraxis": {
           "colorbar": {
            "outlinewidth": 0,
            "ticks": ""
           }
          },
          "colorscale": {
           "diverging": [
            [
             0,
             "#8e0152"
            ],
            [
             0.1,
             "#c51b7d"
            ],
            [
             0.2,
             "#de77ae"
            ],
            [
             0.3,
             "#f1b6da"
            ],
            [
             0.4,
             "#fde0ef"
            ],
            [
             0.5,
             "#f7f7f7"
            ],
            [
             0.6,
             "#e6f5d0"
            ],
            [
             0.7,
             "#b8e186"
            ],
            [
             0.8,
             "#7fbc41"
            ],
            [
             0.9,
             "#4d9221"
            ],
            [
             1,
             "#276419"
            ]
           ],
           "sequential": [
            [
             0,
             "#0d0887"
            ],
            [
             0.1111111111111111,
             "#46039f"
            ],
            [
             0.2222222222222222,
             "#7201a8"
            ],
            [
             0.3333333333333333,
             "#9c179e"
            ],
            [
             0.4444444444444444,
             "#bd3786"
            ],
            [
             0.5555555555555556,
             "#d8576b"
            ],
            [
             0.6666666666666666,
             "#ed7953"
            ],
            [
             0.7777777777777778,
             "#fb9f3a"
            ],
            [
             0.8888888888888888,
             "#fdca26"
            ],
            [
             1,
             "#f0f921"
            ]
           ],
           "sequentialminus": [
            [
             0,
             "#0d0887"
            ],
            [
             0.1111111111111111,
             "#46039f"
            ],
            [
             0.2222222222222222,
             "#7201a8"
            ],
            [
             0.3333333333333333,
             "#9c179e"
            ],
            [
             0.4444444444444444,
             "#bd3786"
            ],
            [
             0.5555555555555556,
             "#d8576b"
            ],
            [
             0.6666666666666666,
             "#ed7953"
            ],
            [
             0.7777777777777778,
             "#fb9f3a"
            ],
            [
             0.8888888888888888,
             "#fdca26"
            ],
            [
             1,
             "#f0f921"
            ]
           ]
          },
          "colorway": [
           "#636efa",
           "#EF553B",
           "#00cc96",
           "#ab63fa",
           "#FFA15A",
           "#19d3f3",
           "#FF6692",
           "#B6E880",
           "#FF97FF",
           "#FECB52"
          ],
          "font": {
           "color": "#2a3f5f"
          },
          "geo": {
           "bgcolor": "white",
           "lakecolor": "white",
           "landcolor": "#E5ECF6",
           "showlakes": true,
           "showland": true,
           "subunitcolor": "white"
          },
          "hoverlabel": {
           "align": "left"
          },
          "hovermode": "closest",
          "mapbox": {
           "style": "light"
          },
          "paper_bgcolor": "white",
          "plot_bgcolor": "#E5ECF6",
          "polar": {
           "angularaxis": {
            "gridcolor": "white",
            "linecolor": "white",
            "ticks": ""
           },
           "bgcolor": "#E5ECF6",
           "radialaxis": {
            "gridcolor": "white",
            "linecolor": "white",
            "ticks": ""
           }
          },
          "scene": {
           "xaxis": {
            "backgroundcolor": "#E5ECF6",
            "gridcolor": "white",
            "gridwidth": 2,
            "linecolor": "white",
            "showbackground": true,
            "ticks": "",
            "zerolinecolor": "white"
           },
           "yaxis": {
            "backgroundcolor": "#E5ECF6",
            "gridcolor": "white",
            "gridwidth": 2,
            "linecolor": "white",
            "showbackground": true,
            "ticks": "",
            "zerolinecolor": "white"
           },
           "zaxis": {
            "backgroundcolor": "#E5ECF6",
            "gridcolor": "white",
            "gridwidth": 2,
            "linecolor": "white",
            "showbackground": true,
            "ticks": "",
            "zerolinecolor": "white"
           }
          },
          "shapedefaults": {
           "line": {
            "color": "#2a3f5f"
           }
          },
          "ternary": {
           "aaxis": {
            "gridcolor": "white",
            "linecolor": "white",
            "ticks": ""
           },
           "baxis": {
            "gridcolor": "white",
            "linecolor": "white",
            "ticks": ""
           },
           "bgcolor": "#E5ECF6",
           "caxis": {
            "gridcolor": "white",
            "linecolor": "white",
            "ticks": ""
           }
          },
          "title": {
           "x": 0.05
          },
          "xaxis": {
           "automargin": true,
           "gridcolor": "white",
           "linecolor": "white",
           "ticks": "",
           "title": {
            "standoff": 15
           },
           "zerolinecolor": "white",
           "zerolinewidth": 2
          },
          "yaxis": {
           "automargin": true,
           "gridcolor": "white",
           "linecolor": "white",
           "ticks": "",
           "title": {
            "standoff": 15
           },
           "zerolinecolor": "white",
           "zerolinewidth": 2
          }
         }
        },
        "xaxis": {
         "anchor": "y",
         "domain": [
          0,
          1
         ],
         "title": {
          "text": "tokens_per_file"
         }
        },
        "yaxis": {
         "anchor": "x",
         "domain": [
          0,
          1
         ],
         "title": {
          "text": "n_files"
         }
        }
       }
      },
      "text/html": [
       "<div>                        <script type=\"text/javascript\">window.PlotlyConfig = {MathJaxConfig: 'local'};</script>\n",
       "        <script charset=\"utf-8\" src=\"https://cdn.plot.ly/plotly-2.20.0.min.js\"></script>                <div id=\"a5a9c4ab-88ac-46cf-86ae-f96b01f0275b\" class=\"plotly-graph-div\" style=\"height:100%; width:100%;\"></div>            <script type=\"text/javascript\">                                    window.PLOTLYENV=window.PLOTLYENV || {};                                    if (document.getElementById(\"a5a9c4ab-88ac-46cf-86ae-f96b01f0275b\")) {                    Plotly.newPlot(                        \"a5a9c4ab-88ac-46cf-86ae-f96b01f0275b\",                        [{\"hovertemplate\":\"tokens_per_file=%{x}<br>n_files=%{y}<extra></extra>\",\"legendgroup\":\"\",\"line\":{\"color\":\"#636efa\",\"dash\":\"solid\"},\"marker\":{\"symbol\":\"circle\"},\"mode\":\"lines\",\"name\":\"\",\"orientation\":\"v\",\"showlegend\":false,\"x\":[57,71,89,129,244,323,339,655,682,1814,2578],\"xaxis\":\"x\",\"y\":[1,2,3,4,5,6,7,8,9,10,11],\"yaxis\":\"y\",\"type\":\"scatter\"}],                        {\"template\":{\"data\":{\"histogram2dcontour\":[{\"type\":\"histogram2dcontour\",\"colorbar\":{\"outlinewidth\":0,\"ticks\":\"\"},\"colorscale\":[[0.0,\"#0d0887\"],[0.1111111111111111,\"#46039f\"],[0.2222222222222222,\"#7201a8\"],[0.3333333333333333,\"#9c179e\"],[0.4444444444444444,\"#bd3786\"],[0.5555555555555556,\"#d8576b\"],[0.6666666666666666,\"#ed7953\"],[0.7777777777777778,\"#fb9f3a\"],[0.8888888888888888,\"#fdca26\"],[1.0,\"#f0f921\"]]}],\"choropleth\":[{\"type\":\"choropleth\",\"colorbar\":{\"outlinewidth\":0,\"ticks\":\"\"}}],\"histogram2d\":[{\"type\":\"histogram2d\",\"colorbar\":{\"outlinewidth\":0,\"ticks\":\"\"},\"colorscale\":[[0.0,\"#0d0887\"],[0.1111111111111111,\"#46039f\"],[0.2222222222222222,\"#7201a8\"],[0.3333333333333333,\"#9c179e\"],[0.4444444444444444,\"#bd3786\"],[0.5555555555555556,\"#d8576b\"],[0.6666666666666666,\"#ed7953\"],[0.7777777777777778,\"#fb9f3a\"],[0.8888888888888888,\"#fdca26\"],[1.0,\"#f0f921\"]]}],\"heatmap\":[{\"type\":\"heatmap\",\"colorbar\":{\"outlinewidth\":0,\"ticks\":\"\"},\"colorscale\":[[0.0,\"#0d0887\"],[0.1111111111111111,\"#46039f\"],[0.2222222222222222,\"#7201a8\"],[0.3333333333333333,\"#9c179e\"],[0.4444444444444444,\"#bd3786\"],[0.5555555555555556,\"#d8576b\"],[0.6666666666666666,\"#ed7953\"],[0.7777777777777778,\"#fb9f3a\"],[0.8888888888888888,\"#fdca26\"],[1.0,\"#f0f921\"]]}],\"heatmapgl\":[{\"type\":\"heatmapgl\",\"colorbar\":{\"outlinewidth\":0,\"ticks\":\"\"},\"colorscale\":[[0.0,\"#0d0887\"],[0.1111111111111111,\"#46039f\"],[0.2222222222222222,\"#7201a8\"],[0.3333333333333333,\"#9c179e\"],[0.4444444444444444,\"#bd3786\"],[0.5555555555555556,\"#d8576b\"],[0.6666666666666666,\"#ed7953\"],[0.7777777777777778,\"#fb9f3a\"],[0.8888888888888888,\"#fdca26\"],[1.0,\"#f0f921\"]]}],\"contourcarpet\":[{\"type\":\"contourcarpet\",\"colorbar\":{\"outlinewidth\":0,\"ticks\":\"\"}}],\"contour\":[{\"type\":\"contour\",\"colorbar\":{\"outlinewidth\":0,\"ticks\":\"\"},\"colorscale\":[[0.0,\"#0d0887\"],[0.1111111111111111,\"#46039f\"],[0.2222222222222222,\"#7201a8\"],[0.3333333333333333,\"#9c179e\"],[0.4444444444444444,\"#bd3786\"],[0.5555555555555556,\"#d8576b\"],[0.6666666666666666,\"#ed7953\"],[0.7777777777777778,\"#fb9f3a\"],[0.8888888888888888,\"#fdca26\"],[1.0,\"#f0f921\"]]}],\"surface\":[{\"type\":\"surface\",\"colorbar\":{\"outlinewidth\":0,\"ticks\":\"\"},\"colorscale\":[[0.0,\"#0d0887\"],[0.1111111111111111,\"#46039f\"],[0.2222222222222222,\"#7201a8\"],[0.3333333333333333,\"#9c179e\"],[0.4444444444444444,\"#bd3786\"],[0.5555555555555556,\"#d8576b\"],[0.6666666666666666,\"#ed7953\"],[0.7777777777777778,\"#fb9f3a\"],[0.8888888888888888,\"#fdca26\"],[1.0,\"#f0f921\"]]}],\"mesh3d\":[{\"type\":\"mesh3d\",\"colorbar\":{\"outlinewidth\":0,\"ticks\":\"\"}}],\"scatter\":[{\"fillpattern\":{\"fillmode\":\"overlay\",\"size\":10,\"solidity\":0.2},\"type\":\"scatter\"}],\"parcoords\":[{\"type\":\"parcoords\",\"line\":{\"colorbar\":{\"outlinewidth\":0,\"ticks\":\"\"}}}],\"scatterpolargl\":[{\"type\":\"scatterpolargl\",\"marker\":{\"colorbar\":{\"outlinewidth\":0,\"ticks\":\"\"}}}],\"bar\":[{\"error_x\":{\"color\":\"#2a3f5f\"},\"error_y\":{\"color\":\"#2a3f5f\"},\"marker\":{\"line\":{\"color\":\"#E5ECF6\",\"width\":0.5},\"pattern\":{\"fillmode\":\"overlay\",\"size\":10,\"solidity\":0.2}},\"type\":\"bar\"}],\"scattergeo\":[{\"type\":\"scattergeo\",\"marker\":{\"colorbar\":{\"outlinewidth\":0,\"ticks\":\"\"}}}],\"scatterpolar\":[{\"type\":\"scatterpolar\",\"marker\":{\"colorbar\":{\"outlinewidth\":0,\"ticks\":\"\"}}}],\"histogram\":[{\"marker\":{\"pattern\":{\"fillmode\":\"overlay\",\"size\":10,\"solidity\":0.2}},\"type\":\"histogram\"}],\"scattergl\":[{\"type\":\"scattergl\",\"marker\":{\"colorbar\":{\"outlinewidth\":0,\"ticks\":\"\"}}}],\"scatter3d\":[{\"type\":\"scatter3d\",\"line\":{\"colorbar\":{\"outlinewidth\":0,\"ticks\":\"\"}},\"marker\":{\"colorbar\":{\"outlinewidth\":0,\"ticks\":\"\"}}}],\"scattermapbox\":[{\"type\":\"scattermapbox\",\"marker\":{\"colorbar\":{\"outlinewidth\":0,\"ticks\":\"\"}}}],\"scatterternary\":[{\"type\":\"scatterternary\",\"marker\":{\"colorbar\":{\"outlinewidth\":0,\"ticks\":\"\"}}}],\"scattercarpet\":[{\"type\":\"scattercarpet\",\"marker\":{\"colorbar\":{\"outlinewidth\":0,\"ticks\":\"\"}}}],\"carpet\":[{\"aaxis\":{\"endlinecolor\":\"#2a3f5f\",\"gridcolor\":\"white\",\"linecolor\":\"white\",\"minorgridcolor\":\"white\",\"startlinecolor\":\"#2a3f5f\"},\"baxis\":{\"endlinecolor\":\"#2a3f5f\",\"gridcolor\":\"white\",\"linecolor\":\"white\",\"minorgridcolor\":\"white\",\"startlinecolor\":\"#2a3f5f\"},\"type\":\"carpet\"}],\"table\":[{\"cells\":{\"fill\":{\"color\":\"#EBF0F8\"},\"line\":{\"color\":\"white\"}},\"header\":{\"fill\":{\"color\":\"#C8D4E3\"},\"line\":{\"color\":\"white\"}},\"type\":\"table\"}],\"barpolar\":[{\"marker\":{\"line\":{\"color\":\"#E5ECF6\",\"width\":0.5},\"pattern\":{\"fillmode\":\"overlay\",\"size\":10,\"solidity\":0.2}},\"type\":\"barpolar\"}],\"pie\":[{\"automargin\":true,\"type\":\"pie\"}]},\"layout\":{\"autotypenumbers\":\"strict\",\"colorway\":[\"#636efa\",\"#EF553B\",\"#00cc96\",\"#ab63fa\",\"#FFA15A\",\"#19d3f3\",\"#FF6692\",\"#B6E880\",\"#FF97FF\",\"#FECB52\"],\"font\":{\"color\":\"#2a3f5f\"},\"hovermode\":\"closest\",\"hoverlabel\":{\"align\":\"left\"},\"paper_bgcolor\":\"white\",\"plot_bgcolor\":\"#E5ECF6\",\"polar\":{\"bgcolor\":\"#E5ECF6\",\"angularaxis\":{\"gridcolor\":\"white\",\"linecolor\":\"white\",\"ticks\":\"\"},\"radialaxis\":{\"gridcolor\":\"white\",\"linecolor\":\"white\",\"ticks\":\"\"}},\"ternary\":{\"bgcolor\":\"#E5ECF6\",\"aaxis\":{\"gridcolor\":\"white\",\"linecolor\":\"white\",\"ticks\":\"\"},\"baxis\":{\"gridcolor\":\"white\",\"linecolor\":\"white\",\"ticks\":\"\"},\"caxis\":{\"gridcolor\":\"white\",\"linecolor\":\"white\",\"ticks\":\"\"}},\"coloraxis\":{\"colorbar\":{\"outlinewidth\":0,\"ticks\":\"\"}},\"colorscale\":{\"sequential\":[[0.0,\"#0d0887\"],[0.1111111111111111,\"#46039f\"],[0.2222222222222222,\"#7201a8\"],[0.3333333333333333,\"#9c179e\"],[0.4444444444444444,\"#bd3786\"],[0.5555555555555556,\"#d8576b\"],[0.6666666666666666,\"#ed7953\"],[0.7777777777777778,\"#fb9f3a\"],[0.8888888888888888,\"#fdca26\"],[1.0,\"#f0f921\"]],\"sequentialminus\":[[0.0,\"#0d0887\"],[0.1111111111111111,\"#46039f\"],[0.2222222222222222,\"#7201a8\"],[0.3333333333333333,\"#9c179e\"],[0.4444444444444444,\"#bd3786\"],[0.5555555555555556,\"#d8576b\"],[0.6666666666666666,\"#ed7953\"],[0.7777777777777778,\"#fb9f3a\"],[0.8888888888888888,\"#fdca26\"],[1.0,\"#f0f921\"]],\"diverging\":[[0,\"#8e0152\"],[0.1,\"#c51b7d\"],[0.2,\"#de77ae\"],[0.3,\"#f1b6da\"],[0.4,\"#fde0ef\"],[0.5,\"#f7f7f7\"],[0.6,\"#e6f5d0\"],[0.7,\"#b8e186\"],[0.8,\"#7fbc41\"],[0.9,\"#4d9221\"],[1,\"#276419\"]]},\"xaxis\":{\"gridcolor\":\"white\",\"linecolor\":\"white\",\"ticks\":\"\",\"title\":{\"standoff\":15},\"zerolinecolor\":\"white\",\"automargin\":true,\"zerolinewidth\":2},\"yaxis\":{\"gridcolor\":\"white\",\"linecolor\":\"white\",\"ticks\":\"\",\"title\":{\"standoff\":15},\"zerolinecolor\":\"white\",\"automargin\":true,\"zerolinewidth\":2},\"scene\":{\"xaxis\":{\"backgroundcolor\":\"#E5ECF6\",\"gridcolor\":\"white\",\"linecolor\":\"white\",\"showbackground\":true,\"ticks\":\"\",\"zerolinecolor\":\"white\",\"gridwidth\":2},\"yaxis\":{\"backgroundcolor\":\"#E5ECF6\",\"gridcolor\":\"white\",\"linecolor\":\"white\",\"showbackground\":true,\"ticks\":\"\",\"zerolinecolor\":\"white\",\"gridwidth\":2},\"zaxis\":{\"backgroundcolor\":\"#E5ECF6\",\"gridcolor\":\"white\",\"linecolor\":\"white\",\"showbackground\":true,\"ticks\":\"\",\"zerolinecolor\":\"white\",\"gridwidth\":2}},\"shapedefaults\":{\"line\":{\"color\":\"#2a3f5f\"}},\"annotationdefaults\":{\"arrowcolor\":\"#2a3f5f\",\"arrowhead\":0,\"arrowwidth\":1},\"geo\":{\"bgcolor\":\"white\",\"landcolor\":\"#E5ECF6\",\"subunitcolor\":\"white\",\"showland\":true,\"showlakes\":true,\"lakecolor\":\"white\"},\"title\":{\"x\":0.05},\"mapbox\":{\"style\":\"light\"}}},\"xaxis\":{\"anchor\":\"y\",\"domain\":[0.0,1.0],\"title\":{\"text\":\"tokens_per_file\"}},\"yaxis\":{\"anchor\":\"x\",\"domain\":[0.0,1.0],\"title\":{\"text\":\"n_files\"}},\"legend\":{\"tracegroupgap\":0},\"margin\":{\"t\":60}},                        {\"responsive\": true}                    )                };                            </script>        </div>"
      ],
      "text/plain": [
       "Figure({\n",
       "    'data': [{'hovertemplate': 'tokens_per_file=%{x}<br>n_files=%{y}<extra></extra>',\n",
       "              'legendgroup': '',\n",
       "              'line': {'color': '#636efa', 'dash': 'solid'},\n",
       "              'marker': {'symbol': 'circle'},\n",
       "              'mode': 'lines',\n",
       "              'name': '',\n",
       "              'orientation': 'v',\n",
       "              'showlegend': False,\n",
       "              'type': 'scatter',\n",
       "              'x': array([  57,   71,   89,  129,  244,  323,  339,  655,  682, 1814, 2578]),\n",
       "              'xaxis': 'x',\n",
       "              'y': array([ 1,  2,  3,  4,  5,  6,  7,  8,  9, 10, 11]),\n",
       "              'yaxis': 'y'}],\n",
       "    'layout': {'legend': {'tracegroupgap': 0},\n",
       "               'margin': {'t': 60},\n",
       "               'template': '...',\n",
       "               'xaxis': {'anchor': 'y', 'domain': [0.0, 1.0], 'title': {'text': 'tokens_per_file'}},\n",
       "               'yaxis': {'anchor': 'x', 'domain': [0.0, 1.0], 'title': {'text': 'n_files'}}}\n",
       "})"
      ]
     },
     "execution_count": 11,
     "metadata": {},
     "output_type": "execute_result"
    }
   ],
   "source": [
    "import plotly.express as px\n",
    "from pandas import DataFrame\n",
    "\n",
    "from typet5.utils import cumulative_counts\n",
    "\n",
    "len_counts = [len(src.tokenized_code) for src in tk_dataset[\"train\"].all_srcs]\n",
    "xs, ys = cumulative_counts(len_counts)\n",
    "px.line(\n",
    "    DataFrame({\"tokens_per_file\": xs, \"n_files\": ys}), x=\"tokens_per_file\", y=\"n_files\"\n",
    ")"
   ]
  },
  {
   "cell_type": "code",
   "execution_count": 12,
   "metadata": {},
   "outputs": [
    {
     "name": "stdout",
     "output_type": "stream",
     "text": [
      "dataset: /Users/iamariyap/Desktop/sem4/NLP/Final/TypeT5/SPOT-data/func-ManyTypes4Py-v7-PreprocessArgs(drop_env_types=True)\n",
      "num_repos: 11\n",
      "num_files: 11\n",
      "num_lines: 474\n",
      "num_labels: 31\n",
      "main_tokens_per_file:\n",
      "   mean: 634.64\n",
      "   median: 323\n",
      "   min: 57\n",
      "   max: 2578\n",
      "preamble_tokens_per_file:\n",
      "   mean: 164.82\n",
      "   median: 84\n",
      "   min: 36\n",
      "   max: 849\n",
      "target_tks_per_file:\n",
      "   mean: 9.7273\n",
      "   median: 6\n",
      "   min: 2\n",
      "   max: 48\n",
      "subset_ids: range(0, 132259, 13225)\n"
     ]
    }
   ],
   "source": [
    "print(\"dataset:\", datasets_path)\n",
    "tk_dataset[\"train\"].print_stats()"
   ]
  },
  {
   "cell_type": "code",
   "execution_count": 13,
   "metadata": {},
   "outputs": [
    {
     "name": "stdout",
     "output_type": "stream",
     "text": [
      "dataset: /Users/iamariyap/Desktop/sem4/NLP/Final/TypeT5/SPOT-data/func-ManyTypes4Py-v7-PreprocessArgs(drop_env_types=True)\n",
      "num_repos: 11\n",
      "num_files: 11\n",
      "num_lines: 474\n",
      "num_labels: 31\n",
      "main_tokens_per_file:\n",
      "   mean: 634.64\n",
      "   median: 323\n",
      "   min: 57\n",
      "   max: 2578\n",
      "preamble_tokens_per_file:\n",
      "   mean: 164.82\n",
      "   median: 84\n",
      "   min: 36\n",
      "   max: 849\n",
      "target_tks_per_file:\n",
      "   mean: 9.7273\n",
      "   median: 6\n",
      "   min: 2\n",
      "   max: 48\n",
      "subset_ids: range(0, 132259, 13225)\n"
     ]
    }
   ],
   "source": [
    "print(\"dataset:\", datasets_path)\n",
    "tk_dataset[\"train\"].print_stats()"
   ]
  },
  {
   "cell_type": "code",
   "execution_count": 14,
   "metadata": {},
   "outputs": [],
   "source": [
    "from typet5.data import load_tokenized_srcsets\n",
    "\n",
    "# tk_dataset = load_tokenized_srcsets(get_data_dir(), get_dataset_name(pre_args, func_only))\n",
    "\n",
    "long_files=sorted(tk_dataset[\"train\"].all_srcs, key=lambda s: len(s.tokenized_code),reverse=True)"
   ]
  },
  {
   "cell_type": "code",
   "execution_count": 15,
   "metadata": {},
   "outputs": [
    {
     "name": "stdout",
     "output_type": "stream",
     "text": [
      "import copy\n",
      "from deoppet.util import debug\n",
      "import typing\n",
      "from pynvim import Nvim\n",
      "import re\n",
      "\n",
      "class Mapping():\n",
      "    ...\n",
      "\n"
     ]
    }
   ],
   "source": [
    "print(long_files[8].preamble_code)"
   ]
  },
  {
   "cell_type": "code",
   "execution_count": 17,
   "metadata": {},
   "outputs": [
    {
     "ename": "IndexError",
     "evalue": "list index out of range",
     "output_type": "error",
     "traceback": [
      "\u001b[0;31m---------------------------------------------------------------------------\u001b[0m",
      "\u001b[0;31mIndexError\u001b[0m                                Traceback (most recent call last)",
      "Cell \u001b[0;32mIn[17], line 1\u001b[0m\n\u001b[0;32m----> 1\u001b[0m \u001b[39mprint\u001b[39m(\u001b[39mstr\u001b[39m(tk_dataset[\u001b[39m\"\u001b[39;49m\u001b[39mtrain\u001b[39;49m\u001b[39m\"\u001b[39;49m]\u001b[39m.\u001b[39;49mall_srcs[\u001b[39m2345\u001b[39;49m]))\n",
      "\u001b[0;31mIndexError\u001b[0m: list index out of range"
     ]
    }
   ],
   "source": [
    "print(str(tk_dataset[\"train\"].all_srcs[2345]))"
   ]
  },
  {
   "cell_type": "code",
   "execution_count": 18,
   "metadata": {},
   "outputs": [
    {
     "name": "stdout",
     "output_type": "stream",
     "text": [
      "from typing import List, Dict, Tuple, NewType, Optional\n",
      "from enum import Enum\n",
      "class Sign(Enum):\n",
      "   ...\n",
      "class Comparison(Enum):\n",
      "   ...\n",
      "class Word:\n",
      "   ...\n",
      "class Register:\n",
      "   ...\n",
      "class IODevice:\n",
      "   ...\n",
      "class TapeUnit(IODevice):\n",
      "   ...\n",
      "class DiskUnit(IODevice):\n",
      "   ...\n",
      "class CardReader(IODevice):\n",
      "   ...\n",
      "class CardPunch(IODevice):\n",
      "   ...\n",
      "class LinePrinter(IODevice):\n",
      "   ...\n",
      "class TypewriterTerminal(IODevice):\n",
      "   ...\n",
      "class PaperTape(IODevice):\n",
      "   ...\n",
      "class UndefinedRegisterException(Exception):\n",
      "   ...\n",
      "class UndefinedCharacterException(Exception):\n",
      "   ...\n",
      "class MemoryLimitExceededException(Exception):\n",
      "   ...\n",
      "class ByteSizeException(Exception):\n",
      "   ...\n",
      "class Simulator:\n",
      "   ...\n",
      "# simulator\n",
      "class Register:\n",
      "    def __init__(self, num_bytes=5):...\n",
      "    \n",
      "\n",
      "# simulator\n",
      "class Simulator:\n",
      "    def get_field_val(self, start, end, word):...\n",
      "    \n",
      "    def get_field_specification(self, F):...\n",
      "    \n",
      "    def _get_bytes(self, value):...\n",
      "    \n",
      "    def _bytes_to_val(self, bs):...\n",
      "    \n",
      "\n",
      "# simulator\n",
      "class Sign(Enum):\n",
      "    POS = 1\n",
      "    NEG = -1\n",
      "\n",
      "# Used above\n",
      "# simulator\n",
      "class Word:\n",
      "    sign: <mask>\n",
      "\n",
      "# Users below\n",
      "# simulator\n",
      "class Word:\n",
      "    def __init__(self, value=0):\n",
      "        self.value = abs(value)\n",
      "        if value >= 0:\n",
      "            self.sign = Sign.POS\n",
      "        if value < 0:\n",
      "            self.sign = Sign.NEG\n",
      "    \n",
      "\n",
      "# simulator\n",
      "class Simulator:\n",
      "    def parse_instruction(self, instruction):\n",
      "        sign = instruction.sign \n",
      "        A = self.get_field_val(1, 2, instruction)\n",
      "        I = self.get_field_val(3, 3, instruction)\n",
      "        F = self.get_field_val(4, 4, instruction)\n",
      "        C = self.get_field_val(5, 5, instruction)\n",
      "\n",
      "        return ({'sign':sign, 'A':A, 'I':I, 'F':F, 'C':C})\n",
      "    \n",
      "    def LD(self, register, address, F):\n",
      "        word = self.memory[address]\n",
      "        use_sign = False\n",
      "\n",
      "        F = self.get_field_specification(F)\n",
      "\n",
      "        if F[0] == 0:\n",
      "            F = (1, F[1])\n",
      "            use_sign = True\n",
      "\n",
      "        if use_sign:\n",
      "            register.sign = word.sign\n",
      "        else:\n",
      "            register.sign = Sign.POS\n",
      "\n",
      "        register.value = self.get_field_val(F[0], F[1], word)\n",
      "    \n",
      "    def LDN(self, register, address, F):\n",
      "        word = self.memory[address] \n",
      "        use_sign = False\n",
      "\n",
      "        F = self.get_field_specification(F)\n",
      "\n",
      "        if F[0] == 0:\n",
      "            F = (1, F[1])\n",
      "            use_sign = True\n",
      "        \n",
      "        if use_sign:\n",
      "            if word.sign == Sign.POS:\n",
      "                register.sign = Sign.NEG\n",
      "            else:\n",
      "                register.sign = Sign.POS\n",
      "        else:\n",
      "            register.sign = Sign.NEG\n",
      "\n",
      "        register.value = self.get_field_val(F[0], F[1], word)\n",
      "    \n",
      "    def ST(self, register, address, F):\n",
      "\n",
      "        F = self.get_field_specification(F)\n",
      "\n",
      "        if F[0] == 0:\n",
      "            F = (1, F[1])\n",
      "            self.memory[address].sign = register.sign\n",
      "\n",
      "        reg_bytes = self._get_bytes(register.value)\n",
      "        mem_bytes = self._get_bytes(self.memory[address].value)\n",
      "        \n",
      "        num_bytes_needed = 1 + F[1] - F[0]\n",
      "\n",
      "        reg_bytes = reg_bytes[-1 * num_bytes_needed:]\n",
      "\n",
      "        new_bytes = \\\n",
      "            mem_bytes[:F[0] - 1] + \\\n",
      "            reg_bytes + \\\n",
      "            mem_bytes[F[1]:]\n",
      "\n",
      "        value = self._bytes_to_val(new_bytes)\n",
      "\n",
      "        self.memory[address].value = value\n",
      "    \n",
      "    def ADD(self, address, F):\n",
      "        word = self.memory[address] \n",
      "        use_sign = False\n",
      "\n",
      "        F = self.get_field_specification(F)\n",
      "        if F[0] == 0:\n",
      "            F = (1, F[1])\n",
      "            use_sign = True\n",
      "\n",
      "        addend = self.get_field_val(F[0], F[1], word)\n",
      "\n",
      "        if use_sign:\n",
      "            addend = addend * word.sign.value\n",
      "\n",
      "        self.rA.value = self.rA.value * self.rA.sign.value\n",
      "\n",
      "        self.rA.value = self.rA.value + addend\n",
      "\n",
      "        if self.rA.value > 0:\n",
      "            self.rA.sign = Sign.POS\n",
      "        elif self.rA.value < 0:\n",
      "            self.rA.sign = Sign.NEG\n",
      "\n",
      "        self.rA.value = abs(self.rA.value)\n",
      "    \n",
      "    def SUB(self, address, F, C):\n",
      "        word = self.memory[address] \n",
      "        use_sign = False\n",
      "\n",
      "        F = self.get_field_specification(F)\n",
      "\n",
      "        if F[0] == 0:\n",
      "            F = (1, F[1])\n",
      "            use_sign = True\n",
      "\n",
      "        subtrahend = self.get_field_val(F[0], F[1], word)\n",
      "\n",
      "        if use_sign:\n",
      "            subtrahend = subtrahend * word.sign.value\n",
      "\n",
      "        self.rA.value = self.rA.value * self.rA.sign.value\n",
      "\n",
      "        self.rA.value = self.rA.value + subtrahend \n",
      "\n",
      "        if self.rA.value > 0:\n",
      "            self.rA.sign = Sign.POS\n",
      "        elif self.rA.value < 0:\n",
      "            self.rA.sign = Sign.NEG\n",
      "\n",
      "        self.rA.value = abs(self.rA.value)\n",
      "    \n",
      "\n",
      "# tests.test_simulator\n",
      "class TestSimulator(unittest.TestCase):\n",
      "    def test_LD(self):\n",
      "        self.sim.memory[43] = Word(300)\n",
      "        self.sim.memory[86] = Word(-30)\n",
      "\n",
      "        test_register = Register()\n",
      "\n",
      "        self.sim.LD(test_register, 43, 5)\n",
      "        self.assertEqual(test_register.value, 300)\n",
      "        self.assertEqual(test_register.sign, Sign.POS)\n",
      "\n",
      "        self.sim.LD(test_register, 86, 5)\n",
      "        self.assertEqual(test_register.value, 30)\n",
      "        self.assertEqual(test_register.sign, Sign.NEG)\n",
      "    \n",
      "    def test_LDN(self):\n",
      "        self.sim.memory[75] = Word(56)\n",
      "        self.sim.memory[92] = Word(-4000)\n",
      "\n",
      "        test_register = Register()\n",
      "\n",
      "        self.sim.LDN(test_register, 75, 5)\n",
      "        self.assertEqual(test_register.value, 56)\n",
      "        self.assertEqual(test_register.sign, Sign.NEG)\n",
      "\n",
      "        self.sim.LDN(test_register, 92, 5)\n",
      "        self.assertEqual(test_register.value, 4000)\n",
      "        self.assertEqual(test_register.sign, Sign.POS)\n",
      "    \n",
      "    def testST(self):\n",
      "\n",
      "        print(self.sim._bytes_to_val([1,2,3,4,5]))\n",
      "        print(self.sim._bytes_to_val([6,7,8,9,0]))\n",
      "\n",
      "        print(self.sim._bytes_to_val([1,2,3,4,0]))\n",
      "        print(self.sim._bytes_to_val([1,0,3,4,5]))\n",
      "        print(self.sim._bytes_to_val([1,9,0,4,5]))\n",
      "        print(self.sim._bytes_to_val([0,2,3,4,5]))\n",
      "\n",
      "        self.sim.memory[0] = Word(-17314053)\n",
      "        self.sim.memory[1] = Word(-17314053)\n",
      "        self.sim.memory[2] = Word(-17314053)\n",
      "        self.sim.memory[3] = Word(-17314053)\n",
      "        self.sim.memory[4] = Word(-17314053)\n",
      "        self.sim.memory[5] = Word(-17314053)\n",
      "\n",
      "        test_register = Register(5)\n",
      "        test_register.value = 102531648 \n",
      "\n",
      "        self.sim.ST(test_register, 0, 5)\n",
      "        self.assertEqual(self.sim.memory[0].value, 102531648)\n",
      "        self.assertEqual(self.sim.memory[0].sign, Sign.POS)\n",
      "\n",
      "        self.sim.ST(test_register, 1, 13)\n",
      "        self.assertEqual(self.sim.memory[1].value, 102531648)\n",
      "        self.assertEqual(self.sim.memory[1].sign, Sign.NEG)\n",
      "\n",
      "        self.sim.ST(test_register, 2, 45)\n",
      "        self.assertEqual(self.sim.memory[2].value, 17314048)\n",
      "        self.assertEqual(self.sim.memory[2].sign, Sign.NEG)\n",
      "\n",
      "        self.sim.ST(test_register, 3, 18)\n",
      "        self.assertEqual(self.sim.memory[3].value, 16789765)\n",
      "        self.assertEqual(self.sim.memory[3].sign, Sign.NEG)\n",
      "\n",
      "        self.sim.ST(test_register, 4, 19)\n",
      "        self.assertEqual(self.sim.memory[4].value, 19136773)\n",
      "        self.assertEqual(self.sim.memory[4].sign, Sign.NEG)\n",
      "\n",
      "        self.sim.ST(test_register, 5, 1)\n",
      "        self.assertEqual(self.sim.memory[5].value, 536837)\n",
      "        self.assertEqual(self.sim.memory[5].sign, Sign.POS)\n",
      "    \n",
      "    def test_ADD(self):\n",
      "        self.sim.memory[10] = Word(400)\n",
      "        self.sim.memory[11] = Word(532)\n",
      "        self.sim.memory[12] = Word(-932)\n",
      "        self.sim.memory[13] = Word(-20)\n",
      "\n",
      "        self.sim.ADD(10, 5)\n",
      "        self.assertEqual(self.sim.rA.value, 400)\n",
      "        self.assertEqual(self.sim.rA.sign, Sign.POS)\n",
      "\n",
      "        self.sim.ADD(11, 5)\n",
      "        self.assertEqual(self.sim.rA.value, 932)\n",
      "        self.assertEqual(self.sim.rA.sign, Sign.POS)\n",
      "\n",
      "        self.sim.ADD(12, 5)\n",
      "        self.assertEqual(self.sim.rA.value, 0)\n",
      "        self.assertEqual(self.sim.rA.sign, Sign.POS)\n",
      "\n",
      "        self.sim.ADD(13, 5)\n",
      "        self.assertEqual(self.sim.rA.value, 20)\n",
      "        self.assertEqual(self.sim.rA.sign, Sign.NEG)\n",
      "    \n",
      "\n",
      "\n"
     ]
    }
   ],
   "source": [
    "max(tk_dataset[\"train\"].all_srcs, key=lambda s: len(s.tokenized_code)).print_code(500)"
   ]
  },
  {
   "cell_type": "code",
   "execution_count": 19,
   "metadata": {},
   "outputs": [
    {
     "name": "stdout",
     "output_type": "stream",
     "text": [
      "num_repos: 11\n",
      "num_files: 11\n",
      "num_lines: 474\n",
      "num_labels: 31\n",
      "main_tokens_per_file:\n",
      "   mean: 634.64\n",
      "   median: 323\n",
      "   min: 57\n",
      "   max: 2578\n",
      "preamble_tokens_per_file:\n",
      "   mean: 164.82\n",
      "   median: 84\n",
      "   min: 36\n",
      "   max: 849\n",
      "target_tks_per_file:\n",
      "   mean: 9.7273\n",
      "   median: 6\n",
      "   min: 2\n",
      "   max: 48\n",
      "subset_ids: range(0, 132259, 13225)\n"
     ]
    }
   ],
   "source": [
    "tk_dataset[\"train\"].print_stats()\n"
   ]
  },
  {
   "cell_type": "code",
   "execution_count": 20,
   "metadata": {},
   "outputs": [],
   "source": [
    "def preamble_len(src):\n",
    "    return len(src.preamble_code.split(\"\\n\"))\n",
    "\n",
    "\n",
    "weird_src = max(tk_dataset[\"train\"].all_srcs, key=preamble_len)\n"
   ]
  },
  {
   "cell_type": "code",
   "execution_count": 21,
   "metadata": {},
   "outputs": [
    {
     "name": "stdout",
     "output_type": "stream",
     "text": [
      "Loading TokenizedSrcSets:  /Users/iamariyap/Desktop/sem4/NLP/Final/TypeT5/TokenizedSrcSets/ManyTypes4Py-v5-PreprocessArgs()\n",
      "/Users/iamariyap/Desktop/sem4/NLP/Final/TypeT5/TokenizedSrcSets/ManyTypes4Py-v5-PreprocessArgs()/test.pkl not found. Skip.\n",
      "/Users/iamariyap/Desktop/sem4/NLP/Final/TypeT5/TokenizedSrcSets/ManyTypes4Py-v5-PreprocessArgs()/train.pkl not found. Skip.\n",
      "/Users/iamariyap/Desktop/sem4/NLP/Final/TypeT5/TokenizedSrcSets/ManyTypes4Py-v5-PreprocessArgs()/valid.pkl not found. Skip.\n"
     ]
    },
    {
     "name": "stderr",
     "output_type": "stream",
     "text": [
      "du: /Users/iamariyap/Desktop/sem4/NLP/Final/TypeT5/TokenizedSrcSets/ManyTypes4Py-v5-PreprocessArgs(): No such file or directory\n"
     ]
    },
    {
     "ename": "AssertionError",
     "evalue": "Empty dataset.",
     "output_type": "error",
     "traceback": [
      "\u001b[0;31m---------------------------------------------------------------------------\u001b[0m",
      "\u001b[0;31mAssertionError\u001b[0m                            Traceback (most recent call last)",
      "Cell \u001b[0;32mIn[21], line 5\u001b[0m\n\u001b[1;32m      1\u001b[0m \u001b[39mfrom\u001b[39;00m \u001b[39mtypet5\u001b[39;00m\u001b[39m.\u001b[39;00m\u001b[39mdata\u001b[39;00m \u001b[39mimport\u001b[39;00m load_tokenized_srcsets, get_dataroot\n\u001b[1;32m      3\u001b[0m sdata_path \u001b[39m=\u001b[39m get_dataroot() \u001b[39m/\u001b[39m \u001b[39m\"\u001b[39m\u001b[39mTokenizedSrcSets\u001b[39m\u001b[39m\"\u001b[39m \u001b[39m/\u001b[39m \u001b[39m\"\u001b[39m\u001b[39mManyTypes4Py-v5-PreprocessArgs()\u001b[39m\u001b[39m\"\u001b[39m\n\u001b[0;32m----> 5\u001b[0m tk_dataset \u001b[39m=\u001b[39m load_tokenized_srcsets(sdata_path)\n",
      "File \u001b[0;32m~/Desktop/sem4/NLP/Final/TypeT5/src/typet5/data.py:812\u001b[0m, in \u001b[0;36mload_tokenized_srcsets\u001b[0;34m(path, quicktest, sets_to_load)\u001b[0m\n\u001b[1;32m    810\u001b[0m         sdata \u001b[39m=\u001b[39m sdata[ids]\n\u001b[1;32m    811\u001b[0m     tk_dataset[n] \u001b[39m=\u001b[39m sdata\n\u001b[0;32m--> 812\u001b[0m \u001b[39massert\u001b[39;00m tk_dataset, \u001b[39m\"\u001b[39m\u001b[39mEmpty dataset.\u001b[39m\u001b[39m\"\u001b[39m\n\u001b[1;32m    813\u001b[0m \u001b[39mreturn\u001b[39;00m tk_dataset\n",
      "\u001b[0;31mAssertionError\u001b[0m: Empty dataset."
     ]
    }
   ],
   "source": [
    "from typet5.data import load_tokenized_srcsets, get_dataroot\n",
    "\n",
    "sdata_path = get_dataroot() / \"TokenizedSrcSets\" / \"ManyTypes4Py-v5-PreprocessArgs()\"\n",
    "\n",
    "tk_dataset = load_tokenized_srcsets(sdata_path)"
   ]
  },
  {
   "cell_type": "code",
   "execution_count": 6,
   "metadata": {},
   "outputs": [
    {
     "name": "stdout",
     "output_type": "stream",
     "text": [
      "num_repos: 50\n",
      "num_files: 949\n",
      "num_lines: 139121\n",
      "num_labels: 17740\n",
      "main_tokens_per_file:\n",
      "   mean: 1270.5\n",
      "   median: 632\n",
      "   min: 23\n",
      "   max: 57953\n",
      "preamble_tokens_per_file:\n",
      "   mean: 103.8\n",
      "   median: 67\n",
      "   min: 2\n",
      "   max: 1517\n",
      "target_tks_per_file:\n",
      "   mean: 72.285\n",
      "   median: 32\n",
      "   min: 2\n",
      "   max: 1882\n",
      "n_files_too_wide: 1\n",
      "too_wide_ratio: 0.00062735\n",
      "preprocess: PreprocessArgs(imports_in_preamble=True, stub_in_preamble=True, drop_comments=True, max_callees=80, max_callers=20, drop_env_types=True, add_override_usages=False)\n"
     ]
    }
   ],
   "source": [
    "tk_dataset[\"test\"].print_stats()"
   ]
  }
 ],
 "metadata": {
  "kernelspec": {
   "display_name": "Python 3",
   "language": "python",
   "name": "python3"
  },
  "language_info": {
   "codemirror_mode": {
    "name": "ipython",
    "version": 3
   },
   "file_extension": ".py",
   "mimetype": "text/x-python",
   "name": "python",
   "nbconvert_exporter": "python",
   "pygments_lexer": "ipython3",
   "version": "3.10.10"
  },
  "orig_nbformat": 4,
  "vscode": {
   "interpreter": {
    "hash": "b0fa6594d8f4cbf19f97940f81e996739fb7646882a419484c72d19e05852a7e"
   }
  }
 },
 "nbformat": 4,
 "nbformat_minor": 2
}
