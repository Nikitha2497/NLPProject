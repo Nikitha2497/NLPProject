{
 "cells": [
  {
   "cell_type": "code",
   "execution_count": 13,
   "metadata": {},
   "outputs": [
    {
     "name": "stdout",
     "output_type": "stream",
     "text": [
      "The autoreload extension is already loaded. To reload it, use:\n",
      "  %reload_ext autoreload\n"
     ]
    }
   ],
   "source": [
    "%load_ext autoreload\n",
    "%autoreload 2\n",
    "\n",
    "from typet5.utils import proj_root, os\n",
    "os.chdir(proj_root())"
   ]
  },
  {
   "cell_type": "code",
   "execution_count": 14,
   "metadata": {},
   "outputs": [
    {
     "name": "stderr",
     "output_type": "stream",
     "text": [
      "Loading test projects: 100%|██████████| 3/3 [00:10<00:00,  3.42s/it]\n"
     ]
    }
   ],
   "source": [
    "from typet5.static_analysis import PythonProject\n",
    "from typet5.utils import *\n",
    "from typet5.model import ModelWrapper\n",
    "from typet5.visualization import pretty_print_dict, assert_eq\n",
    "from typet5.experiments.type4py import eval_type4py_on_projects\n",
    "from typet5.function_dataset import data_project_from_dir\n",
    "\n",
    "\n",
    "dataset_name = \"ManyTypes4Py\"\n",
    "# dataset_name = \"InferTypes4Py\"\n",
    "# dataset_name = \"TinyEval\"\n",
    "\n",
    "# test_projects = [PythonProject.parse_from_root(proj_root(), ignore_dirs={\".venv\", \"data\"})]\n",
    "\n",
    "repos_dir = get_dataset_dir(dataset_name) / \"repos\" / \"test\"\n",
    "test_repo_paths = [f for f in repos_dir.iterdir() if f.is_dir()]\n",
    "test_projects = pmap(\n",
    "    data_project_from_dir,\n",
    "    test_repo_paths,\n",
    "    desc=\"Loading test projects\",\n",
    ")\n",
    "cache = PickleCache(Path(f\"caches/run_type4py\"))\n",
    "# cache.clear()\n",
    "\n",
    "eval_r = cache.cached(f\"{dataset_name}.pkl\", lambda: eval_type4py_on_projects(test_projects, max_workers=4))\n"
   ]
  },
  {
   "cell_type": "code",
   "execution_count": 15,
   "metadata": {},
   "outputs": [
    {
     "name": "stdout",
     "output_type": "stream",
     "text": [
      "n_annots: 4614, n_labels: 2659\n",
      "Ratio: 0.5762895535327265\n"
     ]
    }
   ],
   "source": [
    "n_annots = sum([e.get_signature().n_annots() for p in test_projects for e in p.all_elems()])\n",
    "n_labels = sum([e.n_annotated() for lm in eval_r.label_maps.values() for e in lm.values()])\n",
    "print(f\"n_annots: {n_annots}, n_labels: {n_labels}\")\n",
    "print(f\"Ratio: {n_labels / n_annots}\")"
   ]
  },
  {
   "cell_type": "code",
   "execution_count": 16,
   "metadata": {},
   "outputs": [
    {
     "name": "stdout",
     "output_type": "stream",
     "text": [
      "Accuracies on all types:\n",
      "header:  ['full.all', 'calibrated.all', 'calibrated.simple', 'calibrated.complex', 'base.all']\n",
      "22.63 & 21.11 & 22.35 & 9.61 & 22.64\n",
      "Accuracies on common types:\n",
      "header:  ['full.all', 'calibrated.all', 'calibrated.simple', 'calibrated.complex', 'base.all']\n",
      "33.33 & 32.08 & 33.47 & 16.54 & 29.83\n",
      "Accuracies on rare types:\n",
      "header:  ['full.all', 'calibrated.all', 'calibrated.simple', 'calibrated.complex', 'base.all']\n",
      "0.12 & 0.25 & 0.14 & 0.98 & 0.17\n",
      "full_acc:\n",
      "   full_acc: 22.63% (count=2.5k)\n",
      "   full_acc_by_cat:\n",
      "      FuncArg: 19.89% (count=1.6k)\n",
      "      FuncReturn: 33.12% (count=640)\n",
      "      ClassAtribute: 12.50% (count=240)\n",
      "      GlobalVar: 75.00% (count=4)\n",
      "   full_acc_by_simple:\n",
      "      complex: 8.81% (count=329)\n",
      "      simple: 24.70% (count=2.2k)\n",
      "   full_acc_label_size: 1.7436\n",
      "   full_acc_pred_size: 1.2612\n",
      "   full_acc_ignored_labels: 0\n",
      "   n_skipped_types: 23\n",
      "   n_missing_types: 113\n",
      "full_acc_common:\n",
      "   full_acc_common: 33.33% (count=1.7k)\n",
      "   full_acc_common_by_cat:\n",
      "      FuncArg: 33.62% (count=1.0k)\n",
      "      FuncReturn: 34.81% (count=428)\n",
      "      ClassAtribute: 29.49% (count=234)\n",
      "      GlobalVar: 0.00% (count=1)\n",
      "   full_acc_common_by_simple:\n",
      "      complex: 13.86% (count=202)\n",
      "      simple: 35.94% (count=1.5k)\n",
      "   full_acc_common_label_size: 1.7374\n",
      "   full_acc_common_pred_size: 1.2497\n",
      "   full_acc_common_ignored_labels: 813\n",
      "   n_skipped_types: 23\n",
      "   n_missing_types: 113\n",
      "full_acc_rare:\n",
      "   full_acc_rare: 0.12% (count=813)\n",
      "   full_acc_rare_by_cat:\n",
      "      FuncArg: 0.23% (count=443)\n",
      "      FuncReturn: 0.00% (count=199)\n",
      "      ClassAtribute: 0.00% (count=171)\n",
      "   full_acc_rare_by_simple:\n",
      "      complex: 0.79% (count=127)\n",
      "      simple: 0.00% (count=686)\n",
      "   full_acc_rare_label_size: 1.7565\n",
      "   full_acc_rare_pred_size: 1.2854\n",
      "   full_acc_rare_ignored_labels: 1710\n",
      "   n_skipped_types: 23\n",
      "   n_missing_types: 113\n",
      "acc:\n",
      "   acc: 21.11% (count=2.4k)\n",
      "   acc_by_cat:\n",
      "      FuncArg: 22.13% (count=1.5k)\n",
      "      FuncReturn: 23.09% (count=602)\n",
      "      ClassAtribute: 9.66% (count=238)\n",
      "      GlobalVar: 0.00% (count=1)\n",
      "   acc_by_simple:\n",
      "      complex: 9.61% (count=229)\n",
      "      simple: 22.35% (count=2.1k)\n",
      "   acc_label_size: 1.6719\n",
      "   acc_pred_size: 1.181\n",
      "   acc_ignored_labels: 164\n",
      "   n_skipped_types: 23\n",
      "   n_missing_types: 113\n",
      "acc_common:\n",
      "   acc_common: 32.08% (count=1.5k)\n",
      "   acc_common_by_cat:\n",
      "      FuncArg: 33.01% (count=933)\n",
      "      FuncReturn: 32.54% (count=378)\n",
      "      ClassAtribute: 27.78% (count=234)\n",
      "      GlobalVar: 0.00% (count=1)\n",
      "   acc_common_by_simple:\n",
      "      complex: 16.54% (count=127)\n",
      "      simple: 33.47% (count=1.4k)\n",
      "   acc_common_label_size: 1.6785\n",
      "   acc_common_pred_size: 1.1656\n",
      "   acc_common_ignored_labels: 977\n",
      "   n_skipped_types: 23\n",
      "   n_missing_types: 113\n",
      "acc_rare:\n",
      "   acc_rare: 0.25% (count=813)\n",
      "   acc_rare_by_cat:\n",
      "      FuncArg: 0.23% (count=443)\n",
      "      FuncReturn: 0.50% (count=199)\n",
      "      ClassAtribute: 0.00% (count=171)\n",
      "   acc_rare_by_simple:\n",
      "      complex: 0.98% (count=102)\n",
      "      simple: 0.14% (count=711)\n",
      "   acc_rare_label_size: 1.6593\n",
      "   acc_rare_pred_size: 1.2103\n",
      "   acc_rare_ignored_labels: 1710\n",
      "   n_skipped_types: 23\n",
      "   n_missing_types: 113\n",
      "base_acc:\n",
      "   base_acc: 22.64% (count=2.4k)\n",
      "   base_acc_by_cat:\n",
      "      FuncArg: 23.85% (count=1.5k)\n",
      "      FuncReturn: 24.58% (count=602)\n",
      "      ClassAtribute: 10.08% (count=238)\n",
      "      GlobalVar: 0.00% (count=1)\n",
      "   base_acc_ignored_labels: 164\n",
      "   n_skipped_types: 23\n",
      "   n_missing_types: 113\n",
      "base_acc_common:\n",
      "   base_acc_common: 29.83% (count=1.8k)\n",
      "   base_acc_common_by_cat:\n",
      "      FuncArg: 28.88% (count=1.1k)\n",
      "      FuncReturn: 33.70% (count=451)\n",
      "      ClassAtribute: 26.50% (count=234)\n",
      "      GlobalVar: 100.00% (count=1)\n",
      "   base_acc_common_ignored_labels: 736\n",
      "   n_skipped_types: 23\n",
      "   n_missing_types: 113\n",
      "base_acc_rare:\n",
      "   base_acc_rare: 0.17% (count=572)\n",
      "   base_acc_rare_by_cat:\n",
      "      FuncArg: 0.00% (count=350)\n",
      "      FuncReturn: 0.81% (count=123)\n",
      "      ClassAtribute: 0.00% (count=99)\n",
      "   base_acc_rare_ignored_labels: 1951\n",
      "   n_skipped_types: 23\n",
      "   n_missing_types: 113\n"
     ]
    }
   ],
   "source": [
    "from typet5.static_analysis import SignatureErrorAnalysis, AccuracyMetric\n",
    "from typet5.experiments.typet5 import accs_as_table_row\n",
    "\n",
    "\n",
    "common_names = ModelWrapper.load_common_type_names(\n",
    "    get_model_dir() / \"model-v7--TrainingConfig(drop_env_types=False)\"\n",
    ")\n",
    "metrics = AccuracyMetric.default_metrics(common_type_names=common_names)\n",
    "# acc_metric = AccuracyMetric(common_type_names=ubiq_names)\n",
    "\n",
    "accs = {\n",
    "    m.name: SignatureErrorAnalysis(\n",
    "        eval_r.pred_maps,\n",
    "        eval_r.label_maps,\n",
    "        m,\n",
    "        error_on_mismatched_signature=False,\n",
    "    ).accuracies\n",
    "    for m in metrics\n",
    "}\n",
    "\n",
    "accs_as_table_row(accs)\n",
    "pretty_print_dict(accs)"
   ]
  },
  {
   "cell_type": "code",
   "execution_count": 19,
   "metadata": {},
   "outputs": [
    {
     "name": "stderr",
     "output_type": "stream",
     "text": [
      "Counting background type errors: 100%|██████████| 3/3 [00:10<00:00,  3.43s/it]"
     ]
    },
    {
     "name": "stdout",
     "output_type": "stream",
     "text": [
      "Background errors: 20\n"
     ]
    },
    {
     "name": "stderr",
     "output_type": "stream",
     "text": [
      "\n",
      "Counting user annotation type errors: 100%|██████████| 3/3 [00:10<00:00,  3.65s/it]"
     ]
    },
    {
     "name": "stdout",
     "output_type": "stream",
     "text": [
      "User annotated errors: 122\n"
     ]
    },
    {
     "name": "stderr",
     "output_type": "stream",
     "text": [
      "\n",
      "Counting type errors: 100%|██████████| 3/3 [00:11<00:00,  3.82s/it]"
     ]
    },
    {
     "name": "stdout",
     "output_type": "stream",
     "text": [
      "Error Count: 3495\n"
     ]
    },
    {
     "name": "stderr",
     "output_type": "stream",
     "text": [
      "\n"
     ]
    }
   ],
   "source": [
    "from typet5.experiments.utils import collect_project_type_errors, count_type_errors\n",
    "\n",
    "pred_maps = eval_r.pred_maps\n",
    "\n",
    "bin_paths = (\n",
    "    [\n",
    "        None,\n",
    "        Path(\"/home/jiayi/Projects/typilus/.venv/bin\"),\n",
    "        Path(\"/home/jiayi/Projects/type4py/.venv/bin\"),\n",
    "    ]\n",
    "    if dataset_name == \"InferTypes4Py\"\n",
    "    else [None] * len(test_projects)\n",
    ")\n",
    "\n",
    "background_errors = pmap(\n",
    "    collect_project_type_errors,\n",
    "    test_projects,\n",
    "    [{k: v.drop_types() for k, v in pred.items()} for pred in pred_maps.values()],\n",
    "    [Path(\"mypy_temp\")] * len(test_projects),\n",
    "    bin_paths,\n",
    "    desc=f\"Counting background type errors\",\n",
    ")\n",
    "\n",
    "background_count = count_type_errors(seq_flatten(background_errors))\n",
    "print(\"Background errors:\", background_count)\n",
    "\n",
    "user_errors = pmap(\n",
    "    collect_project_type_errors,\n",
    "    test_projects,\n",
    "    list(eval_r.label_maps.values()),\n",
    "    [Path(\"mypy_temp\")] * len(test_projects),\n",
    "    bin_paths,\n",
    "    desc=f\"Counting user annotation type errors\",\n",
    ")\n",
    "\n",
    "user_error_count = count_type_errors(seq_flatten(user_errors))\n",
    "print(\"User annotated errors:\", user_error_count)\n",
    "\n",
    "all_errors = pmap(\n",
    "    collect_project_type_errors,\n",
    "    test_projects,\n",
    "    list(pred_maps.values()),\n",
    "    [Path(\"mypy_temp\")] * len(test_projects),\n",
    "    bin_paths,\n",
    "    desc=f\"Counting type errors\",\n",
    ")\n",
    "\n",
    "error_count = count_type_errors(seq_flatten(all_errors)) - background_count\n",
    "print(\"Error Count:\", error_count)"
   ]
  },
  {
   "cell_type": "code",
   "execution_count": 20,
   "metadata": {},
   "outputs": [
    {
     "name": "stdout",
     "output_type": "stream",
     "text": [
      "Coherence Errors per label: 0.04588191049266641\n"
     ]
    }
   ],
   "source": [
    "n_elems = sum(len(list(p.all_elems())) for p in test_projects)\n",
    "n_labels = [e.n_annotated() for lm in eval_r.label_maps.values() for e in lm.values()]\n",
    "print(\"Coherence Errors per label:\", user_error_count / sum(n_labels))"
   ]
  },
  {
   "cell_type": "code",
   "execution_count": null,
   "metadata": {},
   "outputs": [
    {
     "name": "stdout",
     "output_type": "stream",
     "text": [
      "==================== book-classics ====================\n",
      "\t goodreads/Book.__init__ : (title: bool, author: bool, original_publication_year: bool, str_distance: bool) -> None\n",
      "\t goodreads/Book.__str__ : () -> str\n",
      "\t goodreads/GoodreadsBook.__init__ : (title: str, author: str, original_publication_year: str, str_distance: str, num_ratings: int, node: bool) -> None\n",
      "\t goodreads/GoodreadsBook.get_goodreads_id : () -> str\n",
      "\t goodreads/search_for_book : (title: str) -> str\n",
      "\t goodreads/suggest_book_from_results : (searched_title: List[str], root: str) -> str\n",
      "\t goodreads/get_books_from_file : (fname: str) -> None\n",
      "\t goodreads/get_obviously_correct_book : (relevant_books: bool) -> bool\n",
      "\t goodreads/resolve_via_human : (query: dict, relevant_books: str) -> str\n",
      "\t goodreads/save_chosen_books : (person: str, chosen_books: bool) -> None\n",
      "\t goodreads/get_output_fname : (person: str) -> str\n",
      "\t goodreads/confirm : (msg: str) -> bool\n",
      "\t goodreads/GoodreadsResolutionCache.__init__ : (cache: bool, is_dirty: bool) -> None\n",
      "\t goodreads/GoodreadsResolutionCache.load : () -> bool\n",
      "\t goodreads/GoodreadsResolutionCache.save : () -> None\n",
      "\t goodreads/GoodreadsResolutionCache.__contains__ : (search_str: str) -> bool\n",
      "\t goodreads/GoodreadsResolutionCache.save_title_resolution : (search_str: Dict[str, bool], goodreads_id: str, book: str) -> None\n",
      "\t goodreads/GoodreadsResolutionCache.get_book : (search_str: str) -> str\n",
      "\t goodreads/skip_or_exit : () -> bool\n",
      "\t goodreads/main : () -> bool\n",
      "\t goodreads/GOODREADS_CACHE_DIR : VarSig(cst'str')\n",
      "\t goodreads/RESOLVED_PICKS_DIR : VarSig(cst'str')\n",
      "\t goodreads/args : VarSig(cst'argparse.Namespace')\n",
      "\t goodreads/parser : VarSig(cst'argparse.ArgumentParser')\n",
      "\t goodreads/GoodreadsResolutionCache.FNAME : AttrSig(cst'int')\n",
      "==================== ActivityWatch ====================\n",
      "\t util/split_event_on_time : (event: str, timestamp: datetime.datetime) -> str\n",
      "\t util/next_hour : (timestamp: datetime.datetime) -> datetime.datetime\n",
      "\t util/test_next_hour : () -> None\n",
      "\t util/split_event_on_hour : (event: raiden_libs.events.Event) -> str\n",
      "\t util/test_split_event_on_hour : () -> None\n",
      "\t util/start_of_day : (dt: datetime.date.time) -> str\n",
      "\t util/end_of_day : (dt: datetime.datetime) -> float\n",
      "\t util/get_week_start : (dt: datetime.date) -> int\n",
      "\t util/is_in_same_week : (dt1: datetime.datetime, dt2: datetime.datetime) -> str\n",
      "\t util/split_into_weeks : (start: Optional[int], end: datetime.datetime) -> float\n",
      "\t util/test_split_into_weeks : () -> None\n",
      "\t util/split_into_days : (start: datetime.datetime, end: datetime.datetime) -> Tuple[int, int]\n",
      "\t util/test_split_into_days : () -> None\n",
      "\t util/verify_no_overlap : (events: List[aw_core.Event]) -> None\n",
      "\t util/categorytime_per_day : (events: Callable, category: float) -> dict\n",
      "\t util/categorytime_during_day : (events: str, category: str, day: datetime.datetime) -> int\n",
      "==================== webwatcher ====================\n",
      "\t storage/Persistable.artefacts : () -> None\n",
      "\t storage/Persistable.get_meta_info : () -> None\n",
      "\t storage/StorageFailureException.__init__ : (msg: str) -> None\n",
      "\t storage/Storage.__init__ : (storage_root: str) -> None\n",
      "\t storage/Storage.persist : (persistable: dict) -> None\n",
      "\t storage/Storage.find : () -> dict\n",
      "\t storage/FromPersistence.__init__ : (data: Dict[str, Any]) -> None\n",
      "\t storage/FromPersistence.__getitem__ : (key: str) -> str\n",
      "\t storage/FromPersistence.fetch_local : (key: str) -> Optional[float]\n",
      "\t storage/StorageQuery.__init__ : (backing_storage: int, filter_args: \"Sequence\") -> None\n",
      "\t storage/StorageQuery.having : () -> int\n",
      "\t storage/StorageQuery.order_by : (order_fields: bool, desc: bool) -> int\n",
      "\t storage/StorageQuery.fetch : () -> Set[int]\n",
      "\t storage/_de_jsonsafe : (jsonsafe_data: Dict[str, Any]) -> bool\n",
      "\t storage/_filter_match : (filters: Dict[str, Any], data: str) -> bool\n",
      "\t storage/_json_safe : (v: bool) -> bool\n",
      "\t storage/_storage_filename_for : (existing_file: str) -> str\n",
      "\t storage/_read_file_chunks : (fileobject: Union[str, IO]) -> None\n",
      "\t storage/file_hash : (path: str) -> int\n",
      "\t storage/cache_folder : (name: str) -> dict\n",
      "\t storage/data_folder : (name: str) -> Dict[str, bool]\n",
      "\t storage/_ensure_exists : (folder: pathlib.Path) -> Union[tuple, list]\n",
      "\t storage/_appdir_with_override : (env_var_name: str, default_app_dir: str) -> Optional[datetime.datetime]\n",
      "\t storage/_data_root : () -> MutableMapping[str, Any]\n",
      "\t storage/_cache_root : () -> bool\n",
      "\t storage/_json_dateformat : VarSig(cst'datetime.timedelta')\n"
     ]
    },
    {
     "ename": "",
     "evalue": "",
     "output_type": "error",
     "traceback": [
      "\u001b[1;31mnotebook controller is DISPOSED. \n",
      "\u001b[1;31mView Jupyter <a href='command:jupyter.viewOutput'>log</a> for further details."
     ]
    }
   ],
   "source": [
    "if False:\n",
    "    # for inspecting small projects only\n",
    "    for project, sig_map in eval_r.pred_maps.items():\n",
    "        print(\"=\" * 20, project, \"=\" * 20)\n",
    "        for path, sig in sig_map.items():\n",
    "            print(\"\\t\", path, \":\", str(sig))"
   ]
  }
 ],
 "metadata": {
  "kernelspec": {
   "display_name": "Python 3.10.4 ('.venv': pipenv)",
   "language": "python",
   "name": "python3"
  },
  "language_info": {
   "codemirror_mode": {
    "name": "ipython",
    "version": 3
   },
   "file_extension": ".py",
   "mimetype": "text/x-python",
   "name": "python",
   "nbconvert_exporter": "python",
   "pygments_lexer": "ipython3",
   "version": "3.10.4"
  },
  "orig_nbformat": 4,
  "vscode": {
   "interpreter": {
    "hash": "f6ffc72953da4dd16b2e00785be9c4013ef131f465a8658f3921b6634d4eeec8"
   }
  }
 },
 "nbformat": 4,
 "nbformat_minor": 2
}
