{
 "cells": [
  {
   "cell_type": "code",
   "execution_count": 1,
   "metadata": {},
   "outputs": [],
   "source": [
    "%load_ext autoreload\n",
    "%autoreload 2\n",
    "\n",
    "from typet5.utils import *\n",
    "\n",
    "os.chdir(proj_root())"
   ]
  },
  {
   "cell_type": "code",
   "execution_count": 2,
   "metadata": {},
   "outputs": [
    {
     "name": "stderr",
     "output_type": "stream",
     "text": [
      "Loading test projects: 100%|██████████| 50/50 [00:26<00:00,  1.91it/s]\n"
     ]
    }
   ],
   "source": [
    "from typet5.function_dataset import data_project_from_dir\n",
    "from typet5.function_decoding import EvalResult\n",
    "\n",
    "\n",
    "# load test projects\n",
    "dataset_name = \"ManyTypes4Py\"\n",
    "# dataset_name = \"InferTypes4Py\"\n",
    "\n",
    "\n",
    "repos_dir = get_dataset_dir(dataset_name) / \"repos\" / \"test\"\n",
    "test_repo_paths = [f for f in repos_dir.iterdir() if f.is_dir()]\n",
    "test_projects = pmap(\n",
    "    data_project_from_dir,\n",
    "    test_repo_paths,\n",
    "    desc=\"Loading test projects\",\n",
    ")\n",
    "assert len(test_projects) > 0\n"
   ]
  },
  {
   "cell_type": "code",
   "execution_count": 3,
   "metadata": {},
   "outputs": [],
   "source": [
    "strategies = {\n",
    "    \"Independent\": \"non-incr\",\n",
    "    \"Random\": \"random\",\n",
    "    \"UserToUsee\": \"caller2callee\",\n",
    "    \"UseeToUser\": \"callee2caller\",\n",
    "    \"TwoPass\": \"double-traversal\",\n",
    "}\n",
    "\n",
    "eval_dir = get_eval_dir(\n",
    "    dataset_name,\n",
    "    \"(implicit_imports, new) model-v7--TrainingConfig(drop_env_types=False, add_implicit_rel_imports=True)\",\n",
    ")\n",
    "evals: dict[str, EvalResult] = {\n",
    "    sname: pickle_load(eval_dir / f\"{s}-EvalResult.pkl\")\n",
    "    for sname, s in strategies.items()\n",
    "}\n",
    "\n",
    "model_dirs = {\n",
    "    \"No Preamble\": get_eval_dir(\n",
    "        dataset_name,\n",
    "        \"(ablation) model-v7--TrainingConfig(imports_in_preamble=False, stub_in_preamble=False, drop_env_types=False, add_implicit_rel_imports=True)\",\n",
    "    )\n",
    "    / \"double-traversal-EvalResult.pkl\",\n",
    "    \"No Usees\": get_eval_dir(\n",
    "        dataset_name,\n",
    "        \"(ablation) model-v7--TrainingConfig(max_callees=0, drop_env_types=False, add_implicit_rel_imports=True, left_margin=512, preamble_size=511, right_margin=3072)\",\n",
    "    )\n",
    "    / \"double-traversal-EvalResult.pkl\",\n",
    "    \"No Users\": get_eval_dir(\n",
    "        dataset_name,\n",
    "        \"(ablation) model-v7--TrainingConfig(max_callers=0, drop_env_types=False, add_implicit_rel_imports=True, left_margin=3072, right_margin=512)\",\n",
    "    )\n",
    "    / \"double-traversal-EvalResult.pkl\",\n",
    "    \"Nonincremental\": get_eval_dir(\n",
    "        dataset_name,\n",
    "        \"(ablation) model-v7--TrainingConfig(add_implicit_rel_imports=True)\",\n",
    "    )\n",
    "    / \"non-incr-EvalResult.pkl\",\n",
    "    # \"TypeT5\": get_eval_dir(dataset_name, \"(implicit_imports, new) model-v7--TrainingConfig(drop_env_types=False, add_implicit_rel_imports=True)\") / \"double-traversal-EvalResult.pkl\",\n",
    "}\n",
    "\n",
    "\n",
    "ablation_evals: dict[str, EvalResult] = {\n",
    "    k: pickle_load(v) for k, v in model_dirs.items()\n",
    "}\n",
    "evals.update(ablation_evals)\n"
   ]
  },
  {
   "cell_type": "code",
   "execution_count": 4,
   "metadata": {},
   "outputs": [
    {
     "name": "stdout",
     "output_type": "stream",
     "text": [
      "==================== Independent ====================\n",
      "Accuracies on all types:\n",
      "header:  ['full.all', 'calibrated.all', 'calibrated.simple', 'calibrated.complex', 'base.all']\n",
      "70.87 & 71.68 & 75.99 & 46.92 & 77.58\n",
      "Accuracies on common types:\n",
      "header:  ['full.all', 'calibrated.all', 'calibrated.simple', 'calibrated.complex', 'base.all']\n",
      "77.43 & 78.88 & 83.12 & 54.23 & 82.52\n",
      "Accuracies on rare types:\n",
      "header:  ['full.all', 'calibrated.all', 'calibrated.simple', 'calibrated.complex', 'base.all']\n",
      "58.95 & 61.80 & 66.17 & 37.14 & 68.92\n",
      "==================== Random ====================\n",
      "Accuracies on all types:\n",
      "header:  ['full.all', 'calibrated.all', 'calibrated.simple', 'calibrated.complex', 'base.all']\n",
      "70.68 & 71.66 & 75.68 & 47.89 & 77.65\n",
      "Accuracies on common types:\n",
      "header:  ['full.all', 'calibrated.all', 'calibrated.simple', 'calibrated.complex', 'base.all']\n",
      "77.70 & 79.64 & 83.74 & 55.15 & 83.36\n",
      "Accuracies on rare types:\n",
      "header:  ['full.all', 'calibrated.all', 'calibrated.simple', 'calibrated.complex', 'base.all']\n",
      "57.95 & 60.70 & 64.58 & 38.14 & 67.63\n",
      "==================== UserToUsee ====================\n",
      "Accuracies on all types:\n",
      "header:  ['full.all', 'calibrated.all', 'calibrated.simple', 'calibrated.complex', 'base.all']\n",
      "69.98 & 70.67 & 74.48 & 47.60 & 76.46\n",
      "Accuracies on common types:\n",
      "header:  ['full.all', 'calibrated.all', 'calibrated.simple', 'calibrated.complex', 'base.all']\n",
      "77.29 & 78.69 & 82.81 & 54.01 & 82.29\n",
      "Accuracies on rare types:\n",
      "header:  ['full.all', 'calibrated.all', 'calibrated.simple', 'calibrated.complex', 'base.all']\n",
      "56.70 & 59.68 & 63.10 & 38.53 & 66.24\n",
      "==================== UseeToUser ====================\n",
      "Accuracies on all types:\n",
      "header:  ['full.all', 'calibrated.all', 'calibrated.simple', 'calibrated.complex', 'base.all']\n",
      "71.58 & 72.65 & 76.80 & 48.88 & 78.48\n",
      "Accuracies on common types:\n",
      "header:  ['full.all', 'calibrated.all', 'calibrated.simple', 'calibrated.complex', 'base.all']\n",
      "78.93 & 80.99 & 85.40 & 55.57 & 84.42\n",
      "Accuracies on rare types:\n",
      "header:  ['full.all', 'calibrated.all', 'calibrated.simple', 'calibrated.complex', 'base.all']\n",
      "58.24 & 61.20 & 64.98 & 39.86 & 68.07\n",
      "==================== TwoPass ====================\n",
      "Accuracies on all types:\n",
      "header:  ['full.all', 'calibrated.all', 'calibrated.simple', 'calibrated.complex', 'base.all']\n",
      "71.89 & 73.02 & 77.07 & 49.72 & 78.87\n",
      "Accuracies on common types:\n",
      "header:  ['full.all', 'calibrated.all', 'calibrated.simple', 'calibrated.complex', 'base.all']\n",
      "79.24 & 81.43 & 85.69 & 56.75 & 84.82\n",
      "Accuracies on rare types:\n",
      "header:  ['full.all', 'calibrated.all', 'calibrated.simple', 'calibrated.complex', 'base.all']\n",
      "58.56 & 61.47 & 65.21 & 40.22 & 68.44\n",
      "==================== No Preamble ====================\n",
      "Accuracies on all types:\n",
      "header:  ['full.all', 'calibrated.all', 'calibrated.simple', 'calibrated.complex', 'base.all']\n",
      "63.03 & 64.20 & 71.22 & 33.51 & 69.98\n",
      "Accuracies on common types:\n",
      "header:  ['full.all', 'calibrated.all', 'calibrated.simple', 'calibrated.complex', 'base.all']\n",
      "75.01 & 77.60 & 82.60 & 48.81 & 81.07\n",
      "Accuracies on rare types:\n",
      "header:  ['full.all', 'calibrated.all', 'calibrated.simple', 'calibrated.complex', 'base.all']\n",
      "41.30 & 45.82 & 53.75 & 20.47 & 50.54\n",
      "==================== No Usees ====================\n",
      "Accuracies on all types:\n",
      "header:  ['full.all', 'calibrated.all', 'calibrated.simple', 'calibrated.complex', 'base.all']\n",
      "67.70 & 67.15 & 70.27 & 48.09 & 73.01\n",
      "Accuracies on common types:\n",
      "header:  ['full.all', 'calibrated.all', 'calibrated.simple', 'calibrated.complex', 'base.all']\n",
      "77.23 & 77.34 & 81.25 & 52.81 & 81.58\n",
      "Accuracies on rare types:\n",
      "header:  ['full.all', 'calibrated.all', 'calibrated.simple', 'calibrated.complex', 'base.all']\n",
      "50.39 & 53.17 & 55.08 & 41.98 & 57.97\n",
      "==================== No Users ====================\n",
      "Accuracies on all types:\n",
      "header:  ['full.all', 'calibrated.all', 'calibrated.simple', 'calibrated.complex', 'base.all']\n",
      "70.22 & 71.20 & 77.87 & 41.34 & 77.26\n",
      "Accuracies on common types:\n",
      "header:  ['full.all', 'calibrated.all', 'calibrated.simple', 'calibrated.complex', 'base.all']\n",
      "76.96 & 78.54 & 83.83 & 51.48 & 82.73\n",
      "Accuracies on rare types:\n",
      "header:  ['full.all', 'calibrated.all', 'calibrated.simple', 'calibrated.complex', 'base.all']\n",
      "57.99 & 61.13 & 69.22 & 30.44 & 67.67\n",
      "==================== Nonincremental ====================\n",
      "Accuracies on all types:\n",
      "header:  ['full.all', 'calibrated.all', 'calibrated.simple', 'calibrated.complex', 'base.all']\n",
      "71.86 & 72.52 & 77.23 & 47.26 & 78.47\n",
      "Accuracies on common types:\n",
      "header:  ['full.all', 'calibrated.all', 'calibrated.simple', 'calibrated.complex', 'base.all']\n",
      "79.37 & 80.50 & 85.65 & 53.40 & 84.48\n",
      "Accuracies on rare types:\n",
      "header:  ['full.all', 'calibrated.all', 'calibrated.simple', 'calibrated.complex', 'base.all']\n",
      "58.24 & 61.58 & 65.77 & 38.51 & 67.94\n"
     ]
    }
   ],
   "source": [
    "from typet5.type_env import AccuracyMetric\n",
    "from typet5.model import ModelWrapper\n",
    "from typet5.experiments.typet5 import accs_as_table_row\n",
    "\n",
    "common_names = ModelWrapper.load_common_type_names(\n",
    "    get_model_dir() / \"model-v7--TrainingConfig(drop_env_types=False)\"\n",
    ")\n",
    "metrics = AccuracyMetric.default_metrics(common_type_names=common_names)\n",
    "for name, evalr in evals.items():\n",
    "    accs = {m.name: evalr.error_analysis(None, m).accuracies for m in metrics}\n",
    "    # accs_str = pretty_show_dict(accs)\n",
    "    # print(accs_str)\n",
    "    print(\"=\" * 20, name, \"=\" * 20)\n",
    "    accs_as_table_row(accs)\n"
   ]
  },
  {
   "cell_type": "code",
   "execution_count": 29,
   "metadata": {},
   "outputs": [
    {
     "name": "stderr",
     "output_type": "stream",
     "text": [
      "Counting background type errors:  30%|███       | 15/50 [00:10<00:43,  1.25s/it]"
     ]
    },
    {
     "name": "stdout",
     "output_type": "stream",
     "text": [
      "Warning: mypy failed for project: rakitaj__daily-programmer\n"
     ]
    },
    {
     "name": "stderr",
     "output_type": "stream",
     "text": [
      "Counting background type errors: 100%|██████████| 50/50 [00:33<00:00,  1.50it/s]\n"
     ]
    },
    {
     "name": "stdout",
     "output_type": "stream",
     "text": [
      "Background Brrors: 36\n"
     ]
    },
    {
     "name": "stderr",
     "output_type": "stream",
     "text": [
      "Counting type errors for Independent:  28%|██▊       | 14/50 [00:04<00:15,  2.25it/s]"
     ]
    },
    {
     "name": "stdout",
     "output_type": "stream",
     "text": [
      "Warning: mypy failed for project: rakitaj__daily-programmer\n"
     ]
    },
    {
     "name": "stderr",
     "output_type": "stream",
     "text": [
      "Counting type errors for Independent: 100%|██████████| 50/50 [00:32<00:00,  1.55it/s]\n"
     ]
    },
    {
     "name": "stdout",
     "output_type": "stream",
     "text": [
      "Independent:\n",
      "\tErrors: 6369\n",
      "\tAccuracy: 71.68% (count=13.2k)\n"
     ]
    },
    {
     "name": "stderr",
     "output_type": "stream",
     "text": [
      "Counting type errors for Random:  28%|██▊       | 14/50 [00:04<00:16,  2.18it/s]"
     ]
    },
    {
     "name": "stdout",
     "output_type": "stream",
     "text": [
      "Warning: mypy failed for project: rakitaj__daily-programmer\n"
     ]
    },
    {
     "name": "stderr",
     "output_type": "stream",
     "text": [
      "Counting type errors for Random: 100%|██████████| 50/50 [00:32<00:00,  1.54it/s]\n"
     ]
    },
    {
     "name": "stdout",
     "output_type": "stream",
     "text": [
      "Random:\n",
      "\tErrors: 5740\n",
      "\tAccuracy: 71.66% (count=13.2k)\n"
     ]
    },
    {
     "name": "stderr",
     "output_type": "stream",
     "text": [
      "Counting type errors for UserToUsee:  28%|██▊       | 14/50 [00:18<00:13,  2.60it/s]"
     ]
    },
    {
     "name": "stdout",
     "output_type": "stream",
     "text": [
      "Warning: mypy failed for project: rakitaj__daily-programmer\n"
     ]
    },
    {
     "name": "stderr",
     "output_type": "stream",
     "text": [
      "Counting type errors for UserToUsee: 100%|██████████| 50/50 [00:32<00:00,  1.54it/s]\n"
     ]
    },
    {
     "name": "stdout",
     "output_type": "stream",
     "text": [
      "UserToUsee:\n",
      "\tErrors: 6891\n",
      "\tAccuracy: 70.67% (count=13.2k)\n"
     ]
    },
    {
     "name": "stderr",
     "output_type": "stream",
     "text": [
      "Counting type errors for UseeToUser:  32%|███▏      | 16/50 [00:19<00:11,  2.88it/s]"
     ]
    },
    {
     "name": "stdout",
     "output_type": "stream",
     "text": [
      "Warning: mypy failed for project: rakitaj__daily-programmer\n"
     ]
    },
    {
     "name": "stderr",
     "output_type": "stream",
     "text": [
      "Counting type errors for UseeToUser: 100%|██████████| 50/50 [00:32<00:00,  1.54it/s]\n"
     ]
    },
    {
     "name": "stdout",
     "output_type": "stream",
     "text": [
      "UseeToUser:\n",
      "\tErrors: 5819\n",
      "\tAccuracy: 72.65% (count=13.2k)\n"
     ]
    },
    {
     "name": "stderr",
     "output_type": "stream",
     "text": [
      "Counting type errors for TwoPass:  28%|██▊       | 14/50 [00:04<00:15,  2.28it/s]"
     ]
    },
    {
     "name": "stdout",
     "output_type": "stream",
     "text": [
      "Warning: mypy failed for project: rakitaj__daily-programmer\n"
     ]
    },
    {
     "name": "stderr",
     "output_type": "stream",
     "text": [
      "Counting type errors for TwoPass: 100%|██████████| 50/50 [00:32<00:00,  1.54it/s]\n"
     ]
    },
    {
     "name": "stdout",
     "output_type": "stream",
     "text": [
      "TwoPass:\n",
      "\tErrors: 4530\n",
      "\tAccuracy: 73.02% (count=13.2k)\n"
     ]
    },
    {
     "name": "stderr",
     "output_type": "stream",
     "text": [
      "Counting type errors for No Preamble:  28%|██▊       | 14/50 [00:04<00:18,  1.94it/s]"
     ]
    },
    {
     "name": "stdout",
     "output_type": "stream",
     "text": [
      "Warning: mypy failed for project: rakitaj__daily-programmer\n"
     ]
    },
    {
     "name": "stderr",
     "output_type": "stream",
     "text": [
      "Counting type errors for No Preamble: 100%|██████████| 50/50 [00:32<00:00,  1.54it/s]\n"
     ]
    },
    {
     "name": "stdout",
     "output_type": "stream",
     "text": [
      "No Preamble:\n",
      "\tErrors: 2976\n",
      "\tAccuracy: 64.20% (count=13.2k)\n"
     ]
    },
    {
     "name": "stderr",
     "output_type": "stream",
     "text": [
      "Counting type errors for No Usees:  28%|██▊       | 14/50 [00:04<00:16,  2.13it/s]"
     ]
    },
    {
     "name": "stdout",
     "output_type": "stream",
     "text": [
      "Warning: mypy failed for project: rakitaj__daily-programmer\n"
     ]
    },
    {
     "name": "stderr",
     "output_type": "stream",
     "text": [
      "Counting type errors for No Usees: 100%|██████████| 50/50 [00:32<00:00,  1.56it/s]\n"
     ]
    },
    {
     "name": "stdout",
     "output_type": "stream",
     "text": [
      "No Usees:\n",
      "\tErrors: 6944\n",
      "\tAccuracy: 67.15% (count=13.2k)\n"
     ]
    },
    {
     "name": "stderr",
     "output_type": "stream",
     "text": [
      "Counting type errors for No Users:  28%|██▊       | 14/50 [00:04<00:17,  2.06it/s]"
     ]
    },
    {
     "name": "stdout",
     "output_type": "stream",
     "text": [
      "Warning: mypy failed for project: rakitaj__daily-programmer\n"
     ]
    },
    {
     "name": "stderr",
     "output_type": "stream",
     "text": [
      "Counting type errors for No Users: 100%|██████████| 50/50 [00:32<00:00,  1.55it/s]\n"
     ]
    },
    {
     "name": "stdout",
     "output_type": "stream",
     "text": [
      "No Users:\n",
      "\tErrors: 6521\n",
      "\tAccuracy: 71.20% (count=13.2k)\n"
     ]
    },
    {
     "name": "stderr",
     "output_type": "stream",
     "text": [
      "Counting type errors for Nonincremental:  28%|██▊       | 14/50 [00:04<00:15,  2.35it/s]"
     ]
    },
    {
     "name": "stdout",
     "output_type": "stream",
     "text": [
      "Warning: mypy failed for project: rakitaj__daily-programmer\n"
     ]
    },
    {
     "name": "stderr",
     "output_type": "stream",
     "text": [
      "Counting type errors for Nonincremental: 100%|██████████| 50/50 [00:32<00:00,  1.56it/s]\n"
     ]
    },
    {
     "name": "stdout",
     "output_type": "stream",
     "text": [
      "Nonincremental:\n",
      "\tErrors: 5252\n",
      "\tAccuracy: 72.52% (count=13.2k)\n"
     ]
    }
   ],
   "source": [
    "from typet5.experiments.utils import (\n",
    "    apply_sigmap,\n",
    "    apply_sigmap_and_typecheck,\n",
    "    count_type_errors,\n",
    "    count_project_type_errors,\n",
    ")\n",
    "import shutil\n",
    "\n",
    "from typet5.type_env import AccuracyMetric\n",
    "\n",
    "bin_paths = (\n",
    "    [\n",
    "        None,\n",
    "        Path(\"/home/jiayi/Projects/typilus/.venv/bin\"),\n",
    "        Path(\"/home/jiayi/Projects/type4py/.venv/bin\"),\n",
    "    ]\n",
    "    if dataset_name == \"InferTypes4Py\"\n",
    "    else [None] * len(test_projects)\n",
    ")\n",
    "\n",
    "acc_metric = AccuracyMetric(set())\n",
    "name2errors = dict()\n",
    "name2accs = dict()\n",
    "\n",
    "background_errors = pmap(\n",
    "    count_project_type_errors,\n",
    "    test_projects,\n",
    "    [\n",
    "        {k: v.drop_types() for k, v in p.final_sigmap.items()}\n",
    "        for p in list(evals.values())[0].predictions\n",
    "    ],\n",
    "    [Path(\"mypy_temp\")] * len(test_projects),\n",
    "    bin_paths,\n",
    "    desc=f\"Counting background type errors\",\n",
    ")\n",
    "background_count = count_type_errors(seq_flatten(background_errors))\n",
    "print(\"Background Brrors:\", background_count)\n",
    "\n",
    "for name, eval in evals.items():\n",
    "    all_errors = pmap(\n",
    "        count_project_type_errors,\n",
    "        test_projects,\n",
    "        [p.final_sigmap for p in eval.predictions],\n",
    "        [Path(\"mypy_temp\")] * len(test_projects),\n",
    "        bin_paths,\n",
    "        desc=f\"Counting type errors for {name}\",\n",
    "    )\n",
    "    errors = list(seq_flatten(all_errors))\n",
    "    error_count = count_type_errors(errors)\n",
    "\n",
    "    print(f\"{name}:\")\n",
    "\n",
    "    print(\"\\tErrors:\", error_count - background_count)\n",
    "    acc = eval.error_analysis(None, acc_metric).accuracies[\"acc\"]\n",
    "    print(\"\\tAccuracy:\", acc)\n",
    "    name2errors[name] = errors\n",
    "    name2accs[name] = acc\n"
   ]
  },
  {
   "cell_type": "code",
   "execution_count": 33,
   "metadata": {},
   "outputs": [
    {
     "name": "stdout",
     "output_type": "stream",
     "text": [
      "Independent: 6876 & 6405 & 471\n",
      "Random: 6215 & 5776 & 439\n",
      "UserToUsee: 7415 & 6927 & 488\n",
      "UseeToUser: 6402 & 5855 & 547\n",
      "TwoPass: 5087 & 4566 & 521\n",
      "No Preamble: 6067 & 3012 & 3055\n",
      "No Usees: 7332 & 6980 & 352\n",
      "No Users: 7053 & 6557 & 496\n",
      "Nonincremental: 5720 & 5288 & 432\n"
     ]
    }
   ],
   "source": [
    "from typet5.type_check import MypyFeedback\n",
    "\n",
    "\n",
    "def count_undefined(errors: list[MypyFeedback]) -> int:\n",
    "    return sum(1 for e in errors if e.error_code == \"name-defined\")\n",
    "\n",
    "\n",
    "def make_row(errors):\n",
    "    n_undefiend = count_undefined(errors)\n",
    "    n_errors = count_type_errors(errors)\n",
    "    n_total = n_undefiend + n_errors\n",
    "    # return {\"total\": n_total, \"errors\": n_errors, \"undefined\": n_undefiend}\n",
    "    return f\"{n_total} & {n_errors} & {n_undefiend}\"\n",
    "\n",
    "\n",
    "pretty_print_dict({k: make_row(v) for k, v in name2errors.items()})\n"
   ]
  },
  {
   "cell_type": "markdown",
   "metadata": {},
   "source": [
    "non-incr: 1515\n",
    "random: 1482\n",
    "caller2callee: 1288\n",
    "callee2caller: 1181\n",
    "double-traversal: 1191"
   ]
  },
  {
   "cell_type": "code",
   "execution_count": 37,
   "metadata": {},
   "outputs": [
    {
     "name": "stdout",
     "output_type": "stream",
     "text": [
      "import multiprocessing\n",
      "import torch\n",
      "from datasets import Dataset\n",
      "from.data import (\n",
      "    ChunkedDataset,\n",
      "    CtxArgs,\n",
      "    SrcCheckResult,\n",
      "    SrcChunkInfo,\n",
      "    TokenizedSrcSet,\n",
      "    TokenizedSrc,\n",
      "    TypeCheckingEnv,\n",
      "    chunk_from_src,\n",
      "    code_to_check_from_preds,\n",
      "    src_to_chunks_,\n",
      "    type_check_src_in_project,\n",
      "    feedbacks_to_tokenized_src,\n",
      ")\n",
      "from.type_check import (\n",
      "    MypyChecker,\n",
      "    MypyFeedback,\n",
      "    MypyResult,\n",
      "    PythonType,\n",
      "    normalize_type,\n",
      ")\n",
      "from.utils import *\n",
      "from copy import deepcopy\n",
      "from.critic import CriticCollator, CriticModel\n",
      "from.model import DatasetPredResult, DecodingArgs, ModelWrapper, dynamic_dataloader\n",
      "class IncrSelector:\n",
      "   ...\n",
      "class SelectByOracle(IncrSelector):\n",
      "   ...\n",
      "class SelectByCounting(IncrSelector):\n",
      "   ...\n",
      "@dataclass\n",
      "class SelectByCritic(IncrSelector):\n",
      "   ...\n",
      "@dataclass\n",
      "class CriticAssesInfo:\n",
      "   ...\n",
      "# typet5.data\n",
      "@dataclass\n",
      "class ChunkedDataset:\n",
      "    data: Dataset\n",
      "\n",
      "# typet5.data\n",
      "@dataclass\n",
      "class TokenizedSrcSet:\n",
      "    def to_chunks(\n",
      "        self,\n",
      "        ctx_args,\n",
      "        tqdm_args = {},\n",
      "    ):...\n",
      "    \n",
      "\n",
      "# typet5.model\n",
      "@dataclass\n",
      "class ModelWrapper:\n",
      "    def predict(\n",
      "        self,\n",
      "        dataset,\n",
      "        tqdm_args = {},\n",
      "        num_return_sequences = None,\n",
      "    ):...\n",
      "    \n",
      "\n",
      "# typet5.dagger\n",
      "@dataclass\n",
      "class DAggerTrainingState:\n",
      "    args: DAggerArgs\n",
      "\n",
      "# typet5.type_check\n",
      "@dataclass(unsafe_hash=True, order=True)\n",
      "class PythonType:\n",
      "    args = ()\n",
      "\n",
      "# typet5.model\n",
      "@dataclass\n",
      "class DecodingArgs:\n",
      "    do_sample = False\n",
      "    num_beams = None\n",
      "\n",
      "# typet5.utils\n",
      "def assert_eq(x, *xs, extra_message = lambda: \"\"):...\n",
      "\n",
      "# Used above\n",
      "# typet5.decode\n",
      "def sample_candidates(\n",
      "    wrapper: <extra_id_0>,\n",
      "    src_data: <extra_id_1>,\n",
      "    n_samples: <extra_id_2>,\n",
      ") -> <extra_id_3>:\n",
      "    ctx_args = wrapper.args.ctx_args\n",
      "\n",
      "    do_sample = wrapper.args.do_sample\n",
      "    if not do_sample:\n",
      "        assert wrapper.args.num_beams is not None, \"num_beams needs to be set\"\n",
      "        assert n_samples <= wrapper.args.num_beams\n",
      "\n",
      "    chunks = src_data.to_chunks(ctx_args)\n",
      "    n_chunks = len(chunks.data)\n",
      "\n",
      "    if do_sample:\n",
      "        samples = [\n",
      "            wrapper.predict(chunks.data, tqdm_args={})\n",
      "            for _ in tqdm(range(n_samples), desc=\"Sampling\")\n",
      "        ]\n",
      "    else:\n",
      "        samples = wrapper.predict(\n",
      "            chunks.data,\n",
      "            num_return_sequences=n_samples,\n",
      "            tqdm_args={},\n",
      "        )\n",
      "        assert_eq(len(samples), n_chunks)\n",
      "        assert_eq(len(samples[0]), n_samples)\n",
      "\n",
      "    def get_preds(chunk_id, sample_id):\n",
      "        return (\n",
      "            samples[sample_id][chunk_id] if do_sample else samples[chunk_id][sample_id]\n",
      "        )\n",
      "\n",
      "    pred_candidates = [\n",
      "        [get_preds(cid, sid) for sid in range(n_samples)] for cid in range(n_chunks)\n",
      "    ]\n",
      "    return chunks, pred_candidates\n",
      "\n",
      "# Users below\n",
      "\n",
      "\n"
     ]
    }
   ],
   "source": [
    "from typet5.static_analysis import ProjectPath\n",
    "\n",
    "# print(decode_tokens(evals[\"No Preamble\"].predictions[0].elem2inputs[ProjectPath.from_str(\"typet5.utils/proj_root\")][\"input_ids\"]))\n",
    "print(\n",
    "    decode_tokens(\n",
    "        evals[\"random\"]\n",
    "        .predictions[0]\n",
    "        .elem2inputs[ProjectPath.from_str(\"typet5.decode/sample_candidates\")][\"input_ids\"]\n",
    "    )\n",
    ")\n"
   ]
  }
 ],
 "metadata": {
  "kernelspec": {
   "display_name": "Python 3.10.4 ('.venv': pipenv)",
   "language": "python",
   "name": "python3"
  },
  "language_info": {
   "codemirror_mode": {
    "name": "ipython",
    "version": 3
   },
   "file_extension": ".py",
   "mimetype": "text/x-python",
   "name": "python",
   "nbconvert_exporter": "python",
   "pygments_lexer": "ipython3",
   "version": "3.10.4"
  },
  "orig_nbformat": 4,
  "vscode": {
   "interpreter": {
    "hash": "f6ffc72953da4dd16b2e00785be9c4013ef131f465a8658f3921b6634d4eeec8"
   }
  }
 },
 "nbformat": 4,
 "nbformat_minor": 2
}
