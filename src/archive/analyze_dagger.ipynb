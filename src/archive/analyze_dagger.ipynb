{
 "cells": [
  {
   "cell_type": "code",
   "execution_count": 1,
   "metadata": {},
   "outputs": [],
   "source": [
    "%load_ext autoreload\n",
    "%autoreload 2\n",
    "\n",
    "import os\n",
    "from typing import *\n",
    "\n",
    "from typet5.utils import proj_root, get_data_dir\n",
    "\n",
    "os.chdir(proj_root())\n",
    "\n",
    "datadir = get_data_dir()"
   ]
  },
  {
   "cell_type": "code",
   "execution_count": 2,
   "metadata": {},
   "outputs": [
    {
     "name": "stderr",
     "output_type": "stream",
     "text": [
      "/home/jiayi/Projects/SPOT/.venv/lib/python3.10/site-packages/torchvision/io/image.py:13: UserWarning: Failed to load image Python extension: libtorch_cuda_cu.so: cannot open shared object file: No such file or directory\n",
      "  warn(f\"Failed to load image Python extension: {e}\")\n"
     ]
    },
    {
     "name": "stdout",
     "output_type": "stream",
     "text": [
      "quicktest=False\n",
      "Loading datasets:  tk_dataset-all_labels-drop_comments\n"
     ]
    }
   ],
   "source": [
    "# experiment configurations\n",
    "\n",
    "from typet5.data import (\n",
    "    TokenizedSrcSet,\n",
    "    get_dataset_name,\n",
    "    load_tokenized_srcsets,\n",
    "    TypeCheckSettings,\n",
    ")\n",
    "from typet5.model import CtxArgs, DecodingArgs, ModelSPOT, ModelWrapper\n",
    "from typet5.train import TrainingConfig, TypeCheckArgs\n",
    "\n",
    "config = TrainingConfig(\n",
    "    quicktest=False,\n",
    "    all_labels=True,\n",
    "    ctx_size=2048,\n",
    "    left_margin=1024,\n",
    "    right_margin=1023,\n",
    "    modifications=\"no_type_checker\",\n",
    ")\n",
    "gpu_id = 1\n",
    "TypeCheckSettings.temp_path = f\"DAgger-{gpu_id}\"\n",
    "\n",
    "print(f\"quicktest={config.quicktest}\")\n",
    "\n",
    "project_name = \"test-SPOT\" if config.quicktest else \"SPOT\"\n",
    "train_ctx_args = config.train_ctx_args()\n",
    "tc_args = TypeCheckArgs(check_in_isolation=config.check_in_isolation)\n",
    "\n",
    "datasets_name = get_dataset_name(\n",
    "    drop_comments=config.drop_comments,\n",
    "    all_labels=config.all_labels,\n",
    "    imports_in_preamble=config.imports_in_preamble,\n",
    ")\n",
    "\n",
    "model_name = \"DAgger-model--\" + config.as_name()\n",
    "\n",
    "tk_dataset = load_tokenized_srcsets(\n",
    "    datadir,\n",
    "    datasets_name,\n",
    "    data_reduction=config.data_reduction,\n",
    "    quicktest=config.quicktest,\n",
    ")"
   ]
  },
  {
   "cell_type": "code",
   "execution_count": 7,
   "metadata": {},
   "outputs": [],
   "source": [
    "# load the model\n",
    "from typet5.model import load_model_spot, DefaultTokenizer\n",
    "from typet5.model import ModelWrapper\n",
    "from typet5.dagger import DAggerModel\n",
    "import torch\n",
    "\n",
    "dec_args = DecodingArgs(\n",
    "    sampling_max_tokens=8 * config.ctx_size,\n",
    "    ctx_args=config.dec_ctx_args(),\n",
    "    do_sample=True,\n",
    "    num_beams=None, # try greedy decoding\n",
    "    top_p=0.9,\n",
    ")\n",
    "\n",
    "wrapper = ModelWrapper.from_pretrained(datadir / f\"checkpoints/saved/{model_name}\")\n",
    "device = torch.device(f\"cuda:{gpu_id}\" if torch.cuda.is_available() else \"cpu\")\n",
    "wrapper.to(device)\n",
    "dmodel = DAggerModel(wrapper)"
   ]
  },
  {
   "cell_type": "code",
   "execution_count": 5,
   "metadata": {},
   "outputs": [
    {
     "name": "stderr",
     "output_type": "stream",
     "text": [
      "compute_preexisting_fdbks: 100%|██████████| 50/50 [00:04<00:00, 11.99it/s]\n",
      "eval_on_data: 100%|██████████| 16950/16950 [46:45<00:00,  6.04it/s]\n"
     ]
    },
    {
     "name": "stdout",
     "output_type": "stream",
     "text": [
      "partial_acc (ImNone): 69.01% (count=16.9k)\n",
      "full_acc (ImNone): 64.86% (count=16.9k)\n",
      "partial_acc: 67.43% (count=16.9k)\n",
      "ast_acc: 56.81% (count=21.3k)\n",
      "full_acc: 62.03% (count=16.9k)\n",
      "partial_acc_by_cat:\n",
      "   FuncArg: 62.96% (count=8.0k)\n",
      "   FuncReturn: 78.14% (count=5.7k)\n",
      "   ClassAtribute: 58.21% (count=2.7k)\n",
      "   GlobalVar: 75.96% (count=104)\n",
      "   LocalVar: 64.22% (count=531)\n",
      "partial_acc_by_pos:\n",
      "   range(0, 1): 80.39% (count=933)\n",
      "   range(1, 2): 77.13% (count=870)\n",
      "   range(2, 4): 77.58% (count=1.5k)\n",
      "   range(4, 8): 74.05% (count=2.4k)\n",
      "   range(8, 16): 72.80% (count=3.1k)\n",
      "   range(16, 32): 67.31% (count=3.2k)\n",
      "   range(32, 64): 63.86% (count=2.3k)\n",
      "   range(64, 128): 53.42% (count=1.1k)\n",
      "   range(128, 256): 40.00% (count=735)\n",
      "   range(256, 512): 32.89% (count=672)\n",
      "   range(512, 1024): 52.83% (count=53)\n",
      "avg_label_size: 1.2589\n",
      "avg_pred_size: 1.1258\n"
     ]
    }
   ],
   "source": [
    "# evaluate (greedy)\n",
    "from typet5.utils import pretty_print_dict, pretty_show_dict\n",
    "from typet5.visualization import visualize_preds_on_code\n",
    "\n",
    "eval_r = await dmodel.eval_on_data(tk_dataset[\"test\"])\n",
    "pretty_print_dict(eval_r.accuracies)"
   ]
  },
  {
   "cell_type": "code",
   "execution_count": 10,
   "metadata": {},
   "outputs": [
    {
     "name": "stderr",
     "output_type": "stream",
     "text": [
      "compute_preexisting_fdbks: 100%|██████████| 6/6 [00:02<00:00,  2.16it/s]\n",
      "eval_on_data: 100%|██████████| 180/180 [04:57<00:00,  1.65s/it]\n"
     ]
    },
    {
     "name": "stdout",
     "output_type": "stream",
     "text": [
      "partial_acc (ImNone): 63.89% (count=180)\n",
      "full_acc (ImNone): 61.11% (count=180)\n",
      "partial_acc: 65.00% (count=180)\n",
      "ast_acc: 49.59% (count=244)\n",
      "full_acc: 60.56% (count=180)\n",
      "partial_acc_by_cat:\n",
      "   FuncArg: 58.42% (count=101)\n",
      "   FuncReturn: 71.23% (count=73)\n",
      "   GlobalVar: 100.00% (count=3)\n",
      "   LocalVar: 100.00% (count=3)\n",
      "partial_acc_by_pos:\n",
      "   range(0, 1): 90.91% (count=11)\n",
      "   range(1, 2): 100.00% (count=8)\n",
      "   range(2, 4): 100.00% (count=12)\n",
      "   range(4, 8): 69.23% (count=13)\n",
      "   range(8, 16): 54.55% (count=11)\n",
      "   range(16, 32): 43.75% (count=16)\n",
      "   range(32, 64): 50.00% (count=32)\n",
      "   range(64, 128): 60.94% (count=64)\n",
      "   range(128, 256): 76.92% (count=13)\n",
      "avg_label_size: 1.3556\n",
      "avg_pred_size: 1.1\n"
     ]
    }
   ],
   "source": [
    "# evaluate\n",
    "from numpy import roll\n",
    "from typet5.utils import pretty_print_dict, pretty_show_dict\n",
    "from typet5.visualization import visualize_preds_on_code\n",
    "\n",
    "dmodel.wrapper.args = DecodingArgs(\n",
    "    sampling_max_tokens=8 * config.ctx_size,\n",
    "    ctx_args=config.dec_ctx_args(),\n",
    "    do_sample=True,  # use necleus sampling during training\n",
    "    top_p=0.9,\n",
    ")\n",
    "\n",
    "eval_r = await dmodel.eval_on_data(tk_dataset[\"train\"][1:105:10])\n",
    "pretty_print_dict(eval_r.accuracies)"
   ]
  },
  {
   "cell_type": "code",
   "execution_count": 12,
   "metadata": {},
   "outputs": [
    {
     "name": "stderr",
     "output_type": "stream",
     "text": [
      "Exporting: 100%|██████████| 11/11 [00:00<00:00, 131.04it/s]\n",
      "Computing accuracies: 100%|██████████| 11/11 [00:00<00:00, 9128.88it/s]\n"
     ]
    }
   ],
   "source": [
    "from typet5.data import TokenizedSrcSet\n",
    "from typet5.visualization import export_preds_on_code\n",
    "\n",
    "viz_ds = TokenizedSrcSet(tk_dataset[\"test\"].repos_root, eval_r.final_srcs)\n",
    "viz_preds = eval_r.final_preds\n",
    "\n",
    "export_preds_on_code(viz_ds, viz_preds, proj_root() / \"caches/DAgger-preds-on-code\")"
   ]
  }
 ],
 "metadata": {
  "kernelspec": {
   "display_name": "Python 3.10.4 ('.venv': pipenv)",
   "language": "python",
   "name": "python3"
  },
  "language_info": {
   "codemirror_mode": {
    "name": "ipython",
    "version": 3
   },
   "file_extension": ".py",
   "mimetype": "text/x-python",
   "name": "python",
   "nbconvert_exporter": "python",
   "pygments_lexer": "ipython3",
   "version": "3.10.4"
  },
  "orig_nbformat": 4,
  "vscode": {
   "interpreter": {
    "hash": "f6ffc72953da4dd16b2e00785be9c4013ef131f465a8658f3921b6634d4eeec8"
   }
  }
 },
 "nbformat": 4,
 "nbformat_minor": 2
}
